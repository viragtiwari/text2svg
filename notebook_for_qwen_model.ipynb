{
  "cells": [
    {
      "cell_type": "markdown",
      "metadata": {
        "id": "view-in-github",
        "colab_type": "text"
      },
      "source": [
        "<a href=\"https://colab.research.google.com/github/viragtiwari/text2svg/blob/main/notebook_for_qwen_model.ipynb\" target=\"_parent\"><img src=\"https://colab.research.google.com/assets/colab-badge.svg\" alt=\"Open In Colab\"/></a>"
      ]
    },
    {
      "cell_type": "markdown",
      "metadata": {
        "id": "iqLm84Tx6OMt"
      },
      "source": [
        "### Installation"
      ]
    },
    {
      "cell_type": "code",
      "execution_count": null,
      "metadata": {
        "id": "-FsuQghs6OMt"
      },
      "outputs": [],
      "source": [
        "%%capture\n",
        "import os\n",
        "if \"COLAB_\" not in \"\".join(os.environ.keys()):\n",
        "    !pip install unsloth\n",
        "else:\n",
        "    # Do this only in Colab notebooks! Otherwise use pip install unsloth\n",
        "    !pip install --no-deps bitsandbytes accelerate xformers==0.0.29.post3 peft trl triton cut_cross_entropy unsloth_zoo\n",
        "    !pip install sentencepiece protobuf datasets huggingface_hub hf_transfer\n",
        "    !pip install --no-deps unsloth"
      ]
    },
    {
      "cell_type": "markdown",
      "metadata": {
        "id": "7XTR_IyH6OMu"
      },
      "source": [
        "### Unsloth"
      ]
    },
    {
      "cell_type": "code",
      "execution_count": null,
      "metadata": {
        "colab": {
          "base_uri": "https://localhost:8080/"
        },
        "id": "QmUBVEnvCDJv",
        "outputId": "7ba5faad-93be-4e32-bc72-e3fa98b3bd2a"
      },
      "outputs": [
        {
          "output_type": "stream",
          "name": "stdout",
          "text": [
            "==((====))==  Unsloth 2025.3.19: Fast Qwen2 patching. Transformers: 4.50.0.\n",
            "   \\\\   /|    Tesla T4. Num GPUs = 1. Max memory: 14.741 GB. Platform: Linux.\n",
            "O^O/ \\_/ \\    Torch: 2.6.0+cu124. CUDA: 7.5. CUDA Toolkit: 12.4. Triton: 3.2.0\n",
            "\\        /    Bfloat16 = FALSE. FA [Xformers = 0.0.29.post3. FA2 = False]\n",
            " \"-____-\"     Free license: http://github.com/unslothai/unsloth\n",
            "Unsloth: Fast downloading is enabled - ignore downloading bars which are red colored!\n"
          ]
        }
      ],
      "source": [
        "from unsloth import FastLanguageModel\n",
        "import torch\n",
        "max_seq_length = 2048 # Choose any! We auto support RoPE Scaling internally!\n",
        "dtype = None # None for auto detection. Float16 for Tesla T4, V100, Bfloat16 for Ampere+\n",
        "load_in_4bit = True # Use 4bit quantization to reduce memory usage. Can be False.\n",
        "\n",
        "# 4bit pre quantized models we support for 4x faster downloading + no OOMs.\n",
        "fourbit_models = [\n",
        "    \"unsloth/Meta-Llama-3.1-8B-bnb-4bit\",      # Llama-3.1 2x faster\n",
        "    \"unsloth/Meta-Llama-3.1-70B-bnb-4bit\",\n",
        "    \"unsloth/Mistral-Small-Instruct-2409\",     # Mistral 22b 2x faster!\n",
        "    \"unsloth/mistral-7b-instruct-v0.3-bnb-4bit\",\n",
        "    \"unsloth/Phi-3.5-mini-instruct\",           # Phi-3.5 2x faster!\n",
        "    \"unsloth/Phi-3-medium-4k-instruct\",\n",
        "    \"unsloth/gemma-2-27b-bnb-4bit\",            # Gemma 2x faster!\n",
        "\n",
        "    \"unsloth/Llama-3.2-1B-bnb-4bit\",           # NEW! Llama 3.2 models\n",
        "    \"unsloth/Llama-3.2-1B-Instruct-bnb-4bit\",\n",
        "    \"unsloth/Llama-3.2-3B-Instruct-bnb-4bit\",\n",
        "] # More models at https://huggingface.co/unsloth\n",
        "\n",
        "qwen_models = [\n",
        "    \"unsloth/Qwen2.5-Coder-32B-Instruct\",      # Qwen 2.5 Coder 2x faster\n",
        "    \"unsloth/Qwen2.5-Coder-7B\",\n",
        "    \"unsloth/Qwen2.5-14B-Instruct\",            # 14B fits in a 16GB card\n",
        "    \"unsloth/Qwen2.5-7B\",\n",
        "    \"unsloth/Qwen2.5-72B-Instruct\",            # 72B fits in a 48GB card\n",
        "] # More models at https://huggingface.co/unsloth\n",
        "\n",
        "model, tokenizer = FastLanguageModel.from_pretrained(\n",
        "    model_name = \"unsloth/Qwen2.5-Coder-7B\",\n",
        "    max_seq_length = max_seq_length,\n",
        "    dtype = dtype,\n",
        "    load_in_4bit = load_in_4bit,\n",
        "    # token = \"hf_...\", # use one if using gated models like meta-llama/Llama-2-7b-hf\n",
        ")"
      ]
    },
    {
      "cell_type": "markdown",
      "metadata": {
        "id": "SXd9bTZd1aaL"
      },
      "source": [
        "We now add LoRA adapters so we only need to update 1 to 10% of all parameters!"
      ]
    },
    {
      "cell_type": "code",
      "execution_count": null,
      "metadata": {
        "colab": {
          "base_uri": "https://localhost:8080/"
        },
        "id": "6bZsfBuZDeCL",
        "outputId": "56d1fa64-3750-4055-df39-81c42db434d0"
      },
      "outputs": [
        {
          "output_type": "stream",
          "name": "stderr",
          "text": [
            "Unsloth 2025.3.19 patched 28 layers with 28 QKV layers, 28 O layers and 28 MLP layers.\n"
          ]
        }
      ],
      "source": [
        "model = FastLanguageModel.get_peft_model(\n",
        "    model,\n",
        "    r = 16, # Choose any number > 0 ! Suggested 8, 16, 32, 64, 128\n",
        "    target_modules = [\"q_proj\", \"k_proj\", \"v_proj\", \"o_proj\",\n",
        "                      \"gate_proj\", \"up_proj\", \"down_proj\",],\n",
        "    lora_alpha = 16,\n",
        "    lora_dropout = 0, # Supports any, but = 0 is optimized\n",
        "    bias = \"none\",    # Supports any, but = \"none\" is optimized\n",
        "    # [NEW] \"unsloth\" uses 30% less VRAM, fits 2x larger batch sizes!\n",
        "    use_gradient_checkpointing = \"unsloth\", # True or \"unsloth\" for very long context\n",
        "    random_state = 3407,\n",
        "    use_rslora = False,  # We support rank stabilized LoRA\n",
        "    loftq_config = None, # And LoftQ\n",
        ")"
      ]
    },
    {
      "cell_type": "markdown",
      "metadata": {
        "id": "vITh0KVJ10qX"
      },
      "source": [
        "<a name=\"Data\"></a>\n",
        "### Data Prep\n",
        "We now use the `Qwen-2.5` format for conversation style finetunes. We use [Maxime Labonne's FineTome-100k](https://huggingface.co/datasets/mlabonne/FineTome-100k) dataset in ShareGPT style. But we convert it to HuggingFace's normal multiturn format `(\"role\", \"content\")` instead of `(\"from\", \"value\")`/ Qwen renders multi turn conversations like below:\n",
        "\n",
        "```\n",
        "<|im_start|>system\n",
        "You are Qwen, created by Alibaba Cloud. You are a helpful assistant.<|im_end|>\n",
        "<|im_start|>user\n",
        "What is 2+2?<|im_end|>\n",
        "<|im_start|>assistant\n",
        "It's 4.<|im_end|>\n",
        "\n",
        "```\n",
        "\n",
        "We use our `get_chat_template` function to get the correct chat template. We support `zephyr, chatml, mistral, llama, alpaca, vicuna, vicuna_old, phi3, llama3` and more."
      ]
    },
    {
      "cell_type": "code",
      "execution_count": null,
      "metadata": {
        "colab": {
          "base_uri": "https://localhost:8080/",
          "height": 245,
          "referenced_widgets": [
            "aa9226f7912943a4bb0385a37c671a31",
            "1ec354cfa07346558892ff4cc906f951",
            "ed9367dfb1224abf948bd7a942643ca5",
            "264f620554b64204a83728090562e76d",
            "e038a61b8ec1407a8d8e70eae611c709",
            "115e33552205492fa9a93943078899cf",
            "22fcd6f832444de7a24eed0ea12d78ad",
            "0c12b3472ba345d286ad79fd008ad7c2",
            "88633ffc1f1247c48dac1420f08afe86",
            "bf39ec5b0c304b38b06491398515557f",
            "c710cfdecc594ab4830de36f23d42997",
            "0d16bede660e4ec5b4b1bcfbdaab0e13",
            "2781e7bdb06847fe938ab853c1e6ae64",
            "d6d05d172aaf406ca6032a5d5fd0cd7d",
            "8d10822c3f914a39a17f8b5f033fe50a",
            "f6e431624291482db7b5cd137174ee0b",
            "db00f53c83214c9a995ab40e74cbb8a7",
            "c0a4e1244b82472e850b34e427904138",
            "70365e9fea55470a9c1bf25ee5f6197b",
            "d1dddb2ca32f466daf2fbafd08954f17",
            "d544b9602fc24aaf9e0234dad0da4246",
            "35428e461c834a3d974e3b45b5f1f6f4",
            "6434f57060dc4363b3f7e7c3d1d79cc0",
            "6b15ab4560af4376855a1ec557cf7ab4",
            "198e75bec7c340e0aa9521e720a97c1f",
            "f4c9396d8fb94ccb81a8f5d4fa5ad0b0",
            "785a7b1e1ed3483a9f4341c0d6ea51e8",
            "5f318fb20ee94527a6aa467bb1692955",
            "b01afa3d59d94ad48f7bdd7d445c27fa",
            "7dcd5739fcc642f580c0a6191d496403",
            "d9113308b0fe4f219f11ac5aef0b2f02",
            "a385a5cd0e744ff688bd6e73514dfde8",
            "412375bd32a743e3a38c109f6c72a7e8"
          ]
        },
        "id": "LjY75GoYUCB8",
        "outputId": "e656590e-54df-40b3-d3b9-144d65839fcd"
      },
      "outputs": [
        {
          "output_type": "display_data",
          "data": {
            "text/plain": [
              "README.md:   0%|          | 0.00/333 [00:00<?, ?B/s]"
            ],
            "application/vnd.jupyter.widget-view+json": {
              "version_major": 2,
              "version_minor": 0,
              "model_id": "aa9226f7912943a4bb0385a37c671a31"
            }
          },
          "metadata": {}
        },
        {
          "output_type": "display_data",
          "data": {
            "text/plain": [
              "train-00000-of-00001.parquet:   0%|          | 0.00/25.5k [00:00<?, ?B/s]"
            ],
            "application/vnd.jupyter.widget-view+json": {
              "version_major": 2,
              "version_minor": 0,
              "model_id": "0d16bede660e4ec5b4b1bcfbdaab0e13"
            }
          },
          "metadata": {}
        },
        {
          "output_type": "display_data",
          "data": {
            "text/plain": [
              "Generating train split:   0%|          | 0/20 [00:00<?, ? examples/s]"
            ],
            "application/vnd.jupyter.widget-view+json": {
              "version_major": 2,
              "version_minor": 0,
              "model_id": "6434f57060dc4363b3f7e7c3d1d79cc0"
            }
          },
          "metadata": {}
        },
        {
          "output_type": "stream",
          "name": "stdout",
          "text": [
            "DatasetDict({\n",
            "    train: Dataset({\n",
            "        features: ['prompt', 'svg'],\n",
            "        num_rows: 20\n",
            "    })\n",
            "})\n"
          ]
        }
      ],
      "source": [
        "from unsloth.chat_templates import get_chat_template\n",
        "\n",
        "tokenizer = get_chat_template(\n",
        "    tokenizer,\n",
        "    chat_template = \"qwen-2.5\",\n",
        ")\n",
        "\n",
        "def formatting_prompts_func(examples):\n",
        "    convos = examples[\"conversations\"]\n",
        "    texts = [tokenizer.apply_chat_template(convo, tokenize = False, add_generation_prompt = False) for convo in convos]\n",
        "    return { \"text\" : texts, }\n",
        "pass\n",
        "\n",
        "from datasets import load_dataset\n",
        "dataset = load_dataset(\"viragorangecat/text2svg\")\n",
        "\n",
        "print(dataset)"
      ]
    },
    {
      "cell_type": "markdown",
      "metadata": {
        "id": "K9CBpiISFa6C"
      },
      "source": [
        "Input format for the dataset\n",
        "```\n",
        "{\"role\": \"system\", \"content\": \"You are an assistant\"}\n",
        "{\"role\": \"user\", \"content\": \"What is 2+2?\"}\n",
        "{\"role\": \"assistant\", \"content\": \"It's 4.\"}\n",
        "```"
      ]
    },
    {
      "cell_type": "code",
      "execution_count": null,
      "metadata": {
        "colab": {
          "base_uri": "https://localhost:8080/"
        },
        "id": "oPXzJZzHEgXe",
        "outputId": "076b3684-f1c1-4422-d512-302a254e7692"
      },
      "outputs": [
        {
          "output_type": "stream",
          "name": "stdout",
          "text": [
            "['<|im_start|>user\\nA clean, minimalist mountain landscape design featuring layered mountains in grayscale tones with a golden sun element. The design uses simple geometric shapes to create depth and perspective.<|im_end|>\\n<|im_start|>assistant\\n<?xml version=\"1.0\" encoding=\"UTF-8\"?>\\n<svg width=\"800\" height=\"600\" viewBox=\"0 0 800 600\" xmlns=\"http://www.w3.org/2000/svg\">\\n    <!-- Background -->\\n    <rect width=\"800\" height=\"600\" fill=\"#f5f5f5\"/>\\n    \\n    <!-- Mountains -->\\n    <path d=\"M0 600 L300 200 L500 400 L800 100 L800 600 Z\" fill=\"#e0e0e0\"/>\\n    <path d=\"M0 600 L200 300 L400 500 L600 200 L800 400 L800 600 Z\" fill=\"#d0d0d0\"/>\\n    <path d=\"M0 600 L100 400 L300 550 L500 350 L700 500 L800 450 L800 600 Z\" fill=\"#c0c0c0\"/>\\n    \\n    <!-- Sun -->\\n    <circle cx=\"700\" cy=\"150\" r=\"60\" fill=\"#ffd700\"/>\\n</svg><|im_end|>\\n', '<|im_start|>user\\nAn abstract composition of overlapping circles in vibrant colors against a dark background. The design creates visual interest through transparency and color interaction.<|im_end|>\\n<|im_start|>assistant\\n<?xml version=\"1.0\" encoding=\"UTF-8\"?>\\n<svg width=\"800\" height=\"600\" viewBox=\"0 0 800 600\" xmlns=\"http://www.w3.org/2000/svg\">\\n    <!-- Background -->\\n    <rect width=\"800\" height=\"600\" fill=\"#2c3e50\"/>\\n    \\n    <!-- Geometric Pattern -->\\n    <circle cx=\"200\" cy=\"200\" r=\"100\" fill=\"#e74c3c\" opacity=\"0.8\"/>\\n    <circle cx=\"400\" cy=\"200\" r=\"100\" fill=\"#3498db\" opacity=\"0.8\"/>\\n    <circle cx=\"600\" cy=\"200\" r=\"100\" fill=\"#2ecc71\" opacity=\"0.8\"/>\\n    \\n    <circle cx=\"300\" cy=\"400\" r=\"100\" fill=\"#f1c40f\" opacity=\"0.8\"/>\\n    <circle cx=\"500\" cy=\"400\" r=\"100\" fill=\"#9b59b6\" opacity=\"0.8\"/>\\n    \\n    <!-- Overlay Pattern -->\\n    <circle cx=\"200\" cy=\"200\" r=\"60\" fill=\"#c0392b\" opacity=\"0.6\"/>\\n    <circle cx=\"400\" cy=\"200\" r=\"60\" fill=\"#2980b9\" opacity=\"0.6\"/>\\n    <circle cx=\"600\" cy=\"200\" r=\"60\" fill=\"#27ae60\" opacity=\"0.6\"/>\\n    \\n    <circle cx=\"300\" cy=\"400\" r=\"60\" fill=\"#f39c12\" opacity=\"0.6\"/>\\n    <circle cx=\"500\" cy=\"400\" r=\"60\" fill=\"#8e44ad\" opacity=\"0.6\"/>\\n</svg><|im_end|>\\n', '<|im_start|>user\\nA dynamic design featuring flowing curved lines and geometric elements on a dark background. The composition combines organic wave patterns with precise geometric shapes.<|im_end|>\\n<|im_start|>assistant\\n<svg xmlns=\"http://www.w3.org/2000/svg\" viewBox=\"0 0 800 600\">\\n  <!-- Dark background -->\\n  <rect width=\"800\" height=\"600\" fill=\"#1a1a1a\"/>\\n  \\n  <!-- Static wave patterns -->\\n  <path d=\"M0 300 C 200 200, 400 400, 800 300\" fill=\"none\" stroke=\"#4a90e2\" stroke-width=\"3\" opacity=\"0.6\"/>\\n  \\n  <path d=\"M0 350 C 200 250, 400 450, 800 350\" fill=\"none\" stroke=\"#43cea2\" stroke-width=\"2\" opacity=\"0.5\"/>\\n  \\n  <!-- Geometric elements -->\\n  <circle cx=\"200\" cy=\"200\" r=\"42\" fill=\"#f7d794\" opacity=\"0.6\"/>\\n  \\n  <circle cx=\"600\" cy=\"400\" r=\"32\" fill=\"#786fa6\" opacity=\"0.7\"/>\\n  \\n  <!-- Connecting lines -->\\n  <line x1=\"200\" y1=\"200\" x2=\"400\" y2=\"290\" stroke=\"#ffffff\" stroke-width=\"1\" opacity=\"0.3\"/>\\n  \\n  <line x1=\"600\" y1=\"410\" x2=\"400\" y2=\"290\" stroke=\"#ffffff\" stroke-width=\"1\" opacity=\"0.3\"/>\\n  \\n  <!-- Additional decorative elements -->\\n  <circle cx=\"400\" cy=\"300\" r=\"5\" fill=\"#ffffff\" opacity=\"0.8\"/>\\n  \\n  <!-- Static particles -->\\n  <g>\\n    <circle cx=\"300\" cy=\"240\" r=\"2\" fill=\"#ffffff\" opacity=\"0.5\"/>\\n    <circle cx=\"500\" cy=\"360\" r=\"2\" fill=\"#ffffff\" opacity=\"0.5\"/>\\n    <circle cx=\"700\" cy=\"270\" r=\"2\" fill=\"#ffffff\" opacity=\"0.5\"/>\\n  </g>\\n</svg><|im_end|>\\n', '<|im_start|>user\\nA balanced arrangement of geometric shapes and lines creating a modern, minimalist composition. The design uses a clean color palette and strong geometric forms.<|im_end|>\\n<|im_start|>assistant\\n<?xml version=\"1.0\" encoding=\"UTF-8\"?>\\n<svg width=\"800\" height=\"600\" viewBox=\"0 0 800 600\" xmlns=\"http://www.w3.org/2000/svg\">\\n    <!-- Background -->\\n    <rect width=\"800\" height=\"600\" fill=\"#ffffff\"/>\\n    \\n    <!-- Abstract Shapes -->\\n    <rect x=\"100\" y=\"100\" width=\"200\" height=\"200\" fill=\"#34495e\"/>\\n    <circle cx=\"500\" cy=\"200\" r=\"100\" fill=\"#3498db\"/>\\n    \\n    <!-- Overlapping Elements -->\\n    <rect x=\"150\" y=\"250\" width=\"150\" height=\"150\" fill=\"#e74c3c\"/>\\n    <circle cx=\"450\" cy=\"300\" r=\"75\" fill=\"#2ecc71\"/>\\n    \\n    <!-- Lines -->\\n    <line x1=\"100\" y1=\"500\" x2=\"700\" y2=\"500\" stroke=\"#2c3e50\" stroke-width=\"4\"/>\\n    <line x1=\"400\" y1=\"100\" x2=\"400\" y2=\"500\" stroke=\"#2c3e50\" stroke-width=\"4\"/>\\n    \\n    <!-- Small Accent Shapes -->\\n    <circle cx=\"700\" cy=\"150\" r=\"30\" fill=\"#f1c40f\"/>\\n    <rect x=\"650\" y=\"350\" width=\"60\" height=\"60\" fill=\"#9b59b6\"/>\\n</svg><|im_end|>\\n', '<|im_start|>user\\nA structured grid design with accent shapes and decorative elements. The composition combines rigid geometric structure with playful color elements.<|im_end|>\\n<|im_start|>assistant\\n<?xml version=\"1.0\" encoding=\"UTF-8\"?>\\n<svg width=\"800\" height=\"600\" viewBox=\"0 0 800 600\" xmlns=\"http://www.w3.org/2000/svg\">\\n    <!-- Background -->\\n    <rect width=\"800\" height=\"600\" fill=\"#f8f9fa\"/>\\n    \\n    <!-- Grid Pattern -->\\n    <g fill=\"none\" stroke=\"#dee2e6\" stroke-width=\"2\">\\n        <!-- Vertical lines -->\\n        <line x1=\"100\" y1=\"50\" x2=\"100\" y2=\"550\"/>\\n        <line x1=\"300\" y1=\"50\" x2=\"300\" y2=\"550\"/>\\n        <line x1=\"500\" y1=\"50\" x2=\"500\" y2=\"550\"/>\\n        <line x1=\"700\" y1=\"50\" x2=\"700\" y2=\"550\"/>\\n        \\n        <!-- Horizontal lines -->\\n        <line x1=\"50\" y1=\"100\" x2=\"750\" y2=\"100\"/>\\n        <line x1=\"50\" y1=\"300\" x2=\"750\" y2=\"300\"/>\\n        <line x1=\"50\" y1=\"500\" x2=\"750\" y2=\"500\"/>\\n    </g>\\n    \\n    <!-- Accent Shapes -->\\n    <rect x=\"250\" y=\"250\" width=\"100\" height=\"100\" fill=\"#339af0\"/>\\n    <circle cx=\"500\" cy=\"300\" r=\"50\" fill=\"#20c997\"/>\\n    <rect x=\"100\" y=\"400\" width=\"150\" height=\"50\" fill=\"#ff6b6b\"/>\\n    \\n    <!-- Small Decorative Elements -->\\n    <circle cx=\"700\" cy=\"100\" r=\"20\" fill=\"#ffd43b\"/>\\n    <rect x=\"650\" y=\"450\" width=\"40\" height=\"40\" fill=\"#845ef7\"/>\\n</svg><|im_end|>\\n', '<|im_start|>user\\nA circuit board inspired design featuring clean lines and connection points. The design creates a modern tech aesthetic with geometric shapes and subtle opacity variations.<|im_end|>\\n<|im_start|>assistant\\n<?xml version=\"1.0\" encoding=\"UTF-8\"?>\\n<svg width=\"800\" height=\"600\" viewBox=\"0 0 800 600\" xmlns=\"http://www.w3.org/2000/svg\">\\n    <!-- Background -->\\n    <rect width=\"800\" height=\"600\" fill=\"#2d3436\"/>\\n    \\n    <!-- Circuit Board Pattern -->\\n    <g stroke=\"#00b894\" stroke-width=\"2\" fill=\"none\">\\n        <!-- Horizontal Lines -->\\n        <line x1=\"100\" y1=\"100\" x2=\"700\" y2=\"100\"/>\\n        <line x1=\"200\" y1=\"300\" x2=\"600\" y2=\"300\"/>\\n        <line x1=\"100\" y1=\"500\" x2=\"700\" y2=\"500\"/>\\n        \\n        <!-- Vertical Lines -->\\n        <line x1=\"200\" y1=\"50\" x2=\"200\" y2=\"550\"/>\\n        <line x1=\"400\" y1=\"50\" x2=\"400\" y2=\"550\"/>\\n        <line x1=\"600\" y1=\"50\" x2=\"600\" y2=\"550\"/>\\n    </g>\\n    \\n    <!-- Connection Points -->\\n    <g fill=\"#00cec9\">\\n        <circle cx=\"200\" cy=\"100\" r=\"8\"/>\\n        <circle cx=\"400\" cy=\"100\" r=\"8\"/>\\n        <circle cx=\"600\" cy=\"100\" r=\"8\"/>\\n        <circle cx=\"200\" cy=\"300\" r=\"8\"/>\\n        <circle cx=\"400\" cy=\"300\" r=\"8\"/>\\n        <circle cx=\"600\" cy=\"300\" r=\"8\"/>\\n        <circle cx=\"200\" cy=\"500\" r=\"8\"/>\\n        <circle cx=\"400\" cy=\"500\" r=\"8\"/>\\n        <circle cx=\"600\" cy=\"500\" r=\"8\"/>\\n    </g>\\n    \\n    <!-- Decorative Elements -->\\n    <rect x=\"350\" y=\"250\" width=\"100\" height=\"100\" fill=\"#fd79a8\" opacity=\"0.6\"/>\\n    <circle cx=\"150\" cy=\"450\" r=\"40\" fill=\"#a29bfe\" opacity=\"0.6\"/>\\n    <rect x=\"550\" y=\"150\" width=\"80\" height=\"80\" fill=\"#ffeaa7\" opacity=\"0.6\"/>\\n</svg><|im_end|>\\n', '<|im_start|>user\\nA systematic arrangement of hexagonal shapes creating a modern geometric pattern. The design includes accent elements that add visual interest to the structured layout.<|im_end|>\\n<|im_start|>assistant\\n<?xml version=\"1.0\" encoding=\"UTF-8\"?>\\n<svg width=\"800\" height=\"600\" viewBox=\"0 0 800 600\" xmlns=\"http://www.w3.org/2000/svg\">\\n    <!-- Background -->\\n    <rect width=\"800\" height=\"600\" fill=\"#f0f4f8\"/>\\n    \\n    <!-- Hexagonal Pattern -->\\n    <g fill=\"none\" stroke=\"#4a5568\" stroke-width=\"2\">\\n        <!-- Row 1 -->\\n        <path d=\"M100 100 L150 70 L200 100 L200 160 L150 190 L100 160 Z\"/>\\n        <path d=\"M300 100 L350 70 L400 100 L400 160 L350 190 L300 160 Z\"/>\\n        <path d=\"M500 100 L550 70 L600 100 L600 160 L550 190 L500 160 Z\"/>\\n        \\n        <!-- Row 2 -->\\n        <path d=\"M200 250 L250 220 L300 250 L300 310 L250 340 L200 310 Z\"/>\\n        <path d=\"M400 250 L450 220 L500 250 L500 310 L450 340 L400 310 Z\"/>\\n        <path d=\"M600 250 L650 220 L700 250 L700 310 L650 340 L600 310 Z\"/>\\n        \\n        <!-- Row 3 -->\\n        <path d=\"M100 400 L150 370 L200 400 L200 460 L150 490 L100 460 Z\"/>\\n        <path d=\"M300 400 L350 370 L400 400 L400 460 L350 490 L300 460 Z\"/>\\n        <path d=\"M500 400 L550 370 L600 400 L600 460 L550 490 L500 460 Z\"/>\\n    </g>\\n    \\n    <!-- Accent Elements -->\\n    <circle cx=\"150\" cy=\"130\" r=\"10\" fill=\"#4299e1\"/>\\n    <circle cx=\"350\" cy=\"280\" r=\"10\" fill=\"#48bb78\"/>\\n    <circle cx=\"550\" cy=\"430\" r=\"10\" fill=\"#ed64a6\"/>\\n</svg><|im_end|>\\n', '<|im_start|>user\\nA harmonious composition of nested circles in varying sizes and colors. The design creates depth and movement through concentric patterns and color gradation.<|im_end|>\\n<|im_start|>assistant\\n<?xml version=\"1.0\" encoding=\"UTF-8\"?>\\n<svg width=\"800\" height=\"600\" viewBox=\"0 0 800 600\" xmlns=\"http://www.w3.org/2000/svg\">\\n    <!-- Background -->\\n    <rect width=\"800\" height=\"600\" fill=\"#fafafa\"/>\\n    \\n    <!-- Concentric Circles Pattern -->\\n    <g fill=\"none\" stroke-width=\"2\">\\n        <!-- Set 1 -->\\n        <circle cx=\"200\" cy=\"200\" r=\"120\" stroke=\"#2d3436\"/>\\n        <circle cx=\"200\" cy=\"200\" r=\"90\" stroke=\"#636e72\"/>\\n        <circle cx=\"200\" cy=\"200\" r=\"60\" stroke=\"#b2bec3\"/>\\n        <circle cx=\"200\" cy=\"200\" r=\"30\" stroke=\"#dfe6e9\"/>\\n        \\n        <!-- Set 2 -->\\n        <circle cx=\"600\" cy=\"200\" r=\"100\" stroke=\"#6c5ce7\"/>\\n        <circle cx=\"600\" cy=\"200\" r=\"75\" stroke=\"#a29bfe\"/>\\n        <circle cx=\"600\" cy=\"200\" r=\"50\" stroke=\"#81ecec\"/>\\n        <circle cx=\"600\" cy=\"200\" r=\"25\" stroke=\"#00cec9\"/>\\n        \\n        <!-- Set 3 -->\\n        <circle cx=\"400\" cy=\"400\" r=\"150\" stroke=\"#fd79a8\"/>\\n        <circle cx=\"400\" cy=\"400\" r=\"120\" stroke=\"#fab1a0\"/>\\n        <circle cx=\"400\" cy=\"400\" r=\"90\" stroke=\"#ffeaa7\"/>\\n        <circle cx=\"400\" cy=\"400\" r=\"60\" stroke=\"#55efc4\"/>\\n    </g>\\n    \\n    <!-- Center Points -->\\n    <circle cx=\"200\" cy=\"200\" r=\"5\" fill=\"#2d3436\"/>\\n    <circle cx=\"600\" cy=\"200\" r=\"5\" fill=\"#6c5ce7\"/>\\n    <circle cx=\"400\" cy=\"400\" r=\"5\" fill=\"#fd79a8\"/>\\n</svg><|im_end|>\\n', '<|im_start|>user\\nA festive and modern interpretation of a Christmas tree using geometric shapes and stylized elements. The design combines traditional holiday symbolism with contemporary minimalist aesthetics.<|im_end|>\\n<|im_start|>assistant\\n<?xml version=\"1.0\" encoding=\"UTF-8\"?>\\n<svg width=\"400\" height=\"500\" viewBox=\"0 0 400 500\" xmlns=\"http://www.w3.org/2000/svg\">\\n    <!-- Tree Trunk -->\\n    <rect x=\"175\" y=\"400\" width=\"50\" height=\"80\" fill=\"#8B4513\"/>\\n    \\n    <!-- Tree Layers -->\\n    <polygon points=\"200,50 50,400 350,400\" fill=\"#2D5A27\"/>\\n    <polygon points=\"200,100 75,375 325,375\" fill=\"#3A7A35\"/>\\n    <polygon points=\"200,150 100,350 300,350\" fill=\"#4A9A43\"/>\\n    \\n    <!-- Decorations -->\\n    <circle cx=\"150\" cy=\"250\" r=\"10\" fill=\"#FFD700\"/>\\n    <circle cx=\"250\" cy=\"300\" r=\"10\" fill=\"#FF0000\"/>\\n    <circle cx=\"180\" cy=\"350\" r=\"10\" fill=\"#4169E1\"/>\\n    <circle cx=\"220\" cy=\"200\" r=\"10\" fill=\"#FFB6C1\"/>\\n    <circle cx=\"200\" cy=\"150\" r=\"15\" fill=\"gold\"/>\\n</svg><|im_end|>\\n', '<|im_start|>user\\nA radiant star design featuring golden hues and geometric precision. The composition balances symmetry with decorative details to create an eye-catching focal point.<|im_end|>\\n<|im_start|>assistant\\n<?xml version=\"1.0\" encoding=\"UTF-8\"?>\\n<svg width=\"400\" height=\"400\" viewBox=\"0 0 400 400\" xmlns=\"http://www.w3.org/2000/svg\">\\n    <!-- Radial gradient for the star -->\\n    <defs>\\n        <radialGradient id=\"starGradient\" cx=\"50%\" cy=\"50%\" r=\"50%\" fx=\"50%\" fy=\"50%\">\\n            <stop offset=\"0%\" style=\"stop-color:#FFD700\"/>\\n            <stop offset=\"50%\" style=\"stop-color:#FFA500\"/>\\n            <stop offset=\"100%\" style=\"stop-color:#FF8C00\"/>\\n        </radialGradient>\\n    </defs>\\n    \\n    <!-- Main star shape -->\\n    <path d=\"M200,50 L240,160 L360,160 L265,230 L300,340 L200,280 L100,340 L135,230 L40,160 L160,160 Z\" \\n          fill=\"url(#starGradient)\"\\n          stroke=\"#FFB700\"\\n          stroke-width=\"2\"/>\\n    \\n    <!-- Inner glow effect -->\\n    <path d=\"M200,90 L230,170 L320,170 L250,220 L275,300 L200,255 L125,300 L150,220 L80,170 L170,170 Z\" \\n          fill=\"#FFE55B\"\\n          opacity=\"0.6\"/>\\n    \\n    <!-- Center highlight -->\\n    <circle cx=\"200\" cy=\"200\" r=\"15\" fill=\"#FFED8A\" opacity=\"0.8\"/>\\n</svg><|im_end|>\\n', '<|im_start|>user\\nA minimalist clock design that combines elegant simplicity with functional clarity. The composition uses clean lines and precise geometric shapes to represent time.<|im_end|>\\n<|im_start|>assistant\\n<?xml version=\"1.0\" encoding=\"UTF-8\"?>\\n<svg width=\"400\" height=\"400\" viewBox=\"0 0 400 400\" xmlns=\"http://www.w3.org/2000/svg\">\\n    <!-- Background -->\\n    <rect x=\"0\" y=\"0\" width=\"400\" height=\"400\" fill=\"#FF7F50\"/>\\n    \\n    <!-- Clock Face -->\\n    <circle cx=\"200\" cy=\"200\" r=\"180\" fill=\"white\"/>\\n    <circle cx=\"200\" cy=\"200\" r=\"175\" fill=\"none\" stroke=\"#FFD700\" stroke-width=\"10\"/>\\n    \\n    <!-- Hour Markers -->\\n    <g id=\"hourMarkers\">\\n        <line x1=\"200\" y1=\"40\" x2=\"200\" y2=\"60\" stroke=\"#FFB6C1\" stroke-width=\"8\" stroke-linecap=\"round\"/>\\n        <use href=\"#hourMarkers\" transform=\"rotate(30 200 200)\"/>\\n        <use href=\"#hourMarkers\" transform=\"rotate(60 200 200)\"/>\\n        <use href=\"#hourMarkers\" transform=\"rotate(90 200 200)\"/>\\n        <use href=\"#hourMarkers\" transform=\"rotate(120 200 200)\"/>\\n        <use href=\"#hourMarkers\" transform=\"rotate(150 200 200)\"/>\\n        <use href=\"#hourMarkers\" transform=\"rotate(180 200 200)\"/>\\n        <use href=\"#hourMarkers\" transform=\"rotate(210 200 200)\"/>\\n        <use href=\"#hourMarkers\" transform=\"rotate(240 200 200)\"/>\\n        <use href=\"#hourMarkers\" transform=\"rotate(270 200 200)\"/>\\n        <use href=\"#hourMarkers\" transform=\"rotate(300 200 200)\"/>\\n        <use href=\"#hourMarkers\" transform=\"rotate(330 200 200)\"/>\\n    </g>\\n    \\n    <!-- Clock Hands -->\\n    <line x1=\"200\" y1=\"200\" x2=\"200\" y2=\"100\" stroke=\"#800080\" stroke-width=\"6\" stroke-linecap=\"round\"/>\\n    <line x1=\"200\" y1=\"200\" x2=\"280\" y2=\"200\" stroke=\"#9370DB\" stroke-width=\"4\" stroke-linecap=\"round\"/>\\n    \\n    <!-- Center Point -->\\n    <circle cx=\"200\" cy=\"200\" r=\"10\" fill=\"#FFD700\"/>\\n</svg><|im_end|>\\n', '<|im_start|>user\\nA serene forest scene rendered in minimalist style, featuring simplified tree forms and natural elements. The design creates depth through layered shapes and thoughtful composition.<|im_end|>\\n<|im_start|>assistant\\n<?xml version=\"1.0\" encoding=\"UTF-8\"?>\\n<svg width=\"400\" height=\"300\" viewBox=\"0 0 400 300\" xmlns=\"http://www.w3.org/2000/svg\">\\n    <!-- Background Sky -->\\n    <rect x=\"0\" y=\"0\" width=\"400\" height=\"300\" fill=\"#FFDAB9\"/>\\n    \\n    <!-- White Hillside -->\\n    <path d=\"M0,200 Q200,150 400,200 L400,300 L0,300 Z\" fill=\"#FFFFFF\"/>\\n    \\n    <!-- Stylized Trees -->\\n    <g transform=\"translate(50,150)\">\\n        <path d=\"M0,0 L20,-60 L40,0 Z\" fill=\"#2E8B57\"/>\\n        <rect x=\"18\" y=\"0\" width=\"4\" height=\"10\" fill=\"#654321\"/>\\n    </g>\\n    \\n    <g transform=\"translate(120,170)\">\\n        <path d=\"M0,0 L25,-80 L50,0 Z\" fill=\"#3CB371\"/>\\n        <rect x=\"23\" y=\"0\" width=\"4\" height=\"12\" fill=\"#654321\"/>\\n    </g>\\n    \\n    <g transform=\"translate(220,160)\">\\n        <path d=\"M0,0 L30,-70 L60,0 Z\" fill=\"#228B22\"/>\\n        <rect x=\"28\" y=\"0\" width=\"4\" height=\"10\" fill=\"#654321\"/>\\n    </g>\\n    \\n    <g transform=\"translate(320,180)\">\\n        <path d=\"M0,0 L15,-50 L30,0 Z\" fill=\"#006400\"/>\\n        <rect x=\"13\" y=\"0\" width=\"4\" height=\"8\" fill=\"#654321\"/>\\n    </g>\\n</svg><|im_end|>\\n', '<|im_start|>user\\nA repeating pattern of interconnected geometric shapes creating visual rhythm and flow. The design uses precise mathematical forms to generate an engaging visual texture.<|im_end|>\\n<|im_start|>assistant\\n<?xml version=\"1.0\" encoding=\"UTF-8\"?>\\n<svg width=\"400\" height=\"400\" viewBox=\"0 0 400 400\" xmlns=\"http://www.w3.org/2000/svg\">\\n    <!-- Background -->\\n    <rect x=\"0\" y=\"0\" width=\"400\" height=\"400\" fill=\"#F0F8FF\"/>\\n    \\n    <!-- Geometric Pattern -->\\n    <g transform=\"translate(200,200)\">\\n        <!-- Outer Circle -->\\n        <circle cx=\"0\" cy=\"0\" r=\"180\" fill=\"none\" stroke=\"#4682B4\" stroke-width=\"2\"/>\\n        \\n        <!-- Inner Circles -->\\n        <circle cx=\"0\" cy=\"0\" r=\"120\" fill=\"none\" stroke=\"#1E90FF\" stroke-width=\"2\"/>\\n        <circle cx=\"0\" cy=\"0\" r=\"60\" fill=\"none\" stroke=\"#00BFFF\" stroke-width=\"2\"/>\\n        \\n        <!-- Connecting Lines -->\\n        <g id=\"lines\">\\n            <line x1=\"0\" y1=\"-180\" x2=\"0\" y2=\"180\" stroke=\"#87CEEB\" stroke-width=\"1\"/>\\n            <use href=\"#lines\" transform=\"rotate(30)\"/>\\n            <use href=\"#lines\" transform=\"rotate(60)\"/>\\n            <use href=\"#lines\" transform=\"rotate(90)\"/>\\n            <use href=\"#lines\" transform=\"rotate(120)\"/>\\n            <use href=\"#lines\" transform=\"rotate(150)\"/>\\n        </g>\\n        \\n        <!-- Decorative Elements -->\\n        <g id=\"dots\">\\n            <circle cx=\"0\" cy=\"-180\" r=\"5\" fill=\"#4169E1\"/>\\n            <circle cx=\"0\" cy=\"180\" r=\"5\" fill=\"#4169E1\"/>\\n        </g>\\n        <use href=\"#dots\" transform=\"rotate(60)\"/>\\n        <use href=\"#dots\" transform=\"rotate(120)\"/>\\n        \\n        <!-- Center Element -->\\n        <circle cx=\"0\" cy=\"0\" r=\"15\" fill=\"#0000CD\" opacity=\"0.8\"/>\\n    </g>\\n</svg><|im_end|>\\n', '<|im_start|>user\\nA lush floral garden design featuring detailed botanical elements with rich colors and organic shapes. The composition creates a vibrant display of blooming flowers with stems and leaves.<|im_end|>\\n<|im_start|>assistant\\n<?xml version=\"1.0\" encoding=\"UTF-8\"?>\\n<svg width=\"800\" height=\"600\" viewBox=\"0 0 800 600\" xmlns=\"http://www.w3.org/2000/svg\">\\n    <!-- Background -->\\n    <rect width=\"800\" height=\"600\" fill=\"#f0f7e9\"/>\\n    \\n    <!-- Main Flower 1 -->\\n    <g transform=\"translate(200, 250)\">\\n        <!-- Petals -->\\n        <path d=\"M0,0 C20,-80 80,-80 100,0 C80,80 20,80 0,0 Z\" fill=\"#e84393\" transform=\"rotate(0)\"/>\\n        <path d=\"M0,0 C20,-80 80,-80 100,0 C80,80 20,80 0,0 Z\" fill=\"#fd79a8\" transform=\"rotate(45)\"/>\\n        <path d=\"M0,0 C20,-80 80,-80 100,0 C80,80 20,80 0,0 Z\" fill=\"#e84393\" transform=\"rotate(90)\"/>\\n        <path d=\"M0,0 C20,-80 80,-80 100,0 C80,80 20,80 0,0 Z\" fill=\"#fd79a8\" transform=\"rotate(135)\"/>\\n        <path d=\"M0,0 C20,-80 80,-80 100,0 C80,80 20,80 0,0 Z\" fill=\"#e84393\" transform=\"rotate(180)\"/>\\n        <path d=\"M0,0 C20,-80 80,-80 100,0 C80,80 20,80 0,0 Z\" fill=\"#fd79a8\" transform=\"rotate(225)\"/>\\n        <path d=\"M0,0 C20,-80 80,-80 100,0 C80,80 20,80 0,0 Z\" fill=\"#e84393\" transform=\"rotate(270)\"/>\\n        <path d=\"M0,0 C20,-80 80,-80 100,0 C80,80 20,80 0,0 Z\" fill=\"#fd79a8\" transform=\"rotate(315)\"/>\\n        <!-- Center -->\\n        <circle cx=\"0\" cy=\"0\" r=\"25\" fill=\"#ffeaa7\"/>\\n        <circle cx=\"0\" cy=\"0\" r=\"15\" fill=\"#fdcb6e\"/>\\n    </g>\\n    \\n    <!-- Main Flower 2 -->\\n    <g transform=\"translate(550, 200)\">\\n        <!-- Petals -->\\n        <path d=\"M0,0 C15,-60 60,-60 75,0 C60,60 15,60 0,0 Z\" fill=\"#55efc4\" transform=\"rotate(0)\"/>\\n        <path d=\"M0,0 C15,-60 60,-60 75,0 C60,60 15,60 0,0 Z\" fill=\"#00cec9\" transform=\"rotate(45)\"/>\\n        <path d=\"M0,0 C15,-60 60,-60 75,0 C60,60 15,60 0,0 Z\" fill=\"#55efc4\" transform=\"rotate(90)\"/>\\n        <path d=\"M0,0 C15,-60 60,-60 75,0 C60,60 15,60 0,0 Z\" fill=\"#00cec9\" transform=\"rotate(135)\"/>\\n        <path d=\"M0,0 C15,-60 60,-60 75,0 C60,60 15,60 0,0 Z\" fill=\"#55efc4\" transform=\"rotate(180)\"/>\\n        <path d=\"M0,0 C15,-60 60,-60 75,0 C60,60 15,60 0,0 Z\" fill=\"#00cec9\" transform=\"rotate(225)\"/>\\n        <path d=\"M0,0 C15,-60 60,-60 75,0 C60,60 15,60 0,0 Z\" fill=\"#55efc4\" transform=\"rotate(270)\"/>\\n        <path d=\"M0,0 C15,-60 60,-60 75,0 C60,60 15,60 0,0 Z\" fill=\"#00cec9\" transform=\"rotate(315)\"/>\\n        <!-- Center -->\\n        <circle cx=\"0\" cy=\"0\" r=\"20\" fill=\"#ffeaa7\"/>\\n        <circle cx=\"0\" cy=\"0\" r=\"12\" fill=\"#fdcb6e\"/>\\n    </g>\\n    \\n    <!-- Small Flowers -->\\n    <g transform=\"translate(350, 450)\">\\n        <!-- Petals -->\\n        <path d=\"M0,0 C10,-40 40,-40 50,0 C40,40 10,40 0,0 Z\" fill=\"#a29bfe\" transform=\"rotate(0)\"/>\\n        <path d=\"M0,0 C10,-40 40,-40 50,0 C40,40 10,40 0,0 Z\" fill=\"#6c5ce7\" transform=\"rotate(72)\"/>\\n        <path d=\"M0,0 C10,-40 40,-40 50,0 C40,40 10,40 0,0 Z\" fill=\"#a29bfe\" transform=\"rotate(144)\"/>\\n        <path d=\"M0,0 C10,-40 40,-40 50,0 C40,40 10,40 0,0 Z\" fill=\"#6c5ce7\" transform=\"rotate(216)\"/>\\n        <path d=\"M0,0 C10,-40 40,-40 50,0 C40,40 10,40 0,0 Z\" fill=\"#a29bfe\" transform=\"rotate(288)\"/>\\n        <!-- Center -->\\n        <circle cx=\"0\" cy=\"0\" r=\"15\" fill=\"#ffeaa7\"/>\\n        <circle cx=\"0\" cy=\"0\" r=\"8\" fill=\"#fdcb6e\"/>\\n    </g>\\n    \\n    <!-- Stems and Leaves -->\\n    <path d=\"M200,250 C250,350 300,400 350,450\" stroke=\"#27ae60\" stroke-width=\"5\" fill=\"none\"/>\\n    <path d=\"M550,200 C500,300 450,350 350,450\" stroke=\"#27ae60\" stroke-width=\"5\" fill=\"none\"/>\\n    \\n    <!-- Leaves -->\\n    <path d=\"M250,350 C220,330 200,350 220,380 C240,400 280,380 250,350 Z\" fill=\"#2ecc71\"/>\\n    <path d=\"M500,300 C530,280 550,300 530,330 C510,350 470,330 500,300 Z\" fill=\"#2ecc71\"/>\\n    <path d=\"M450,350 C480,330 500,350 480,380 C460,400 420,380 450,350 Z\" fill=\"#2ecc71\"/>\\n</svg><|im_end|>\\n', '<|im_start|>user\\nA Japanese woodblock print inspired landscape featuring Mount Fuji, cherry blossoms, and traditional wave patterns. The design combines iconic ukiyo-e style elements with a harmonious color palette.<|im_end|>\\n<|im_start|>assistant\\n<?xml version=\"1.0\" encoding=\"UTF-8\"?>\\n<svg width=\"800\" height=\"600\" viewBox=\"0 0 800 600\" xmlns=\"http://www.w3.org/2000/svg\">\\n    <!-- Background Sky -->\\n    <rect width=\"800\" height=\"600\" fill=\"#e8f4f8\"/>\\n    \\n    <!-- Gradient Sky -->\\n    <defs>\\n        <linearGradient id=\"skyGradient\" x1=\"0%\" y1=\"0%\" x2=\"0%\" y2=\"100%\">\\n            <stop offset=\"0%\" style=\"stop-color:#7dbbe6;stop-opacity:1\" />\\n            <stop offset=\"100%\" style=\"stop-color:#e8f4f8;stop-opacity:1\" />\\n        </linearGradient>\\n    </defs>\\n    <rect width=\"800\" height=\"300\" fill=\"url(#skyGradient)\"/>\\n    \\n    <!-- Mount Fuji -->\\n    <path d=\"M150,300 L400,100 L650,300 Z\" fill=\"#f1f2f6\"/>\\n    <path d=\"M200,300 L400,120 L600,300 Z\" fill=\"#dfe4ea\"/>\\n    <path d=\"M250,300 L400,150 L550,300 Z\" fill=\"#ced6e0\"/>\\n    \\n    <!-- Ocean -->\\n    <rect x=\"0\" y=\"300\" width=\"800\" height=\"300\" fill=\"#0984e3\"/>\\n    \\n    <!-- Traditional Wave Patterns -->\\n    <path d=\"M0,320 C50,300 100,340 150,320 C200,300 250,340 300,320 C350,300 400,340 450,320 C500,300 550,340 600,320 C650,300 700,340 750,320 C800,300 850,340 900,320 L900,350 L0,350 Z\" fill=\"#74b9ff\"/>\\n    <path d=\"M0,370 C50,350 100,390 150,370 C200,350 250,390 300,370 C350,350 400,390 450,370 C500,350 550,390 600,370 C650,350 700,390 750,370 C800,350 850,390 900,370 L900,400 L0,400 Z\" fill=\"#0984e3\"/>\\n    <path d=\"M0,420 C50,400 100,440 150,420 C200,400 250,440 300,420 C350,400 400,440 450,420 C500,400 550,440 600,420 C650,400 700,440 750,420 C800,400 850,440 900,420 L900,450 L0,450 Z\" fill=\"#74b9ff\"/>\\n    \\n    <!-- Cherry Blossom Tree -->\\n    <path d=\"M150,300 C120,250 100,200 120,150 C140,100 180,120 200,150\" stroke=\"#4b4b4b\" stroke-width=\"8\" fill=\"none\"/>\\n    <path d=\"M120,150 C100,130 80,100 90,80\" stroke=\"#4b4b4b\" stroke-width=\"5\" fill=\"none\"/>\\n    <path d=\"M120,150 C140,130 160,100 150,80\" stroke=\"#4b4b4b\" stroke-width=\"5\" fill=\"none\"/>\\n    \\n    <!-- Cherry Blossoms -->\\n    <g>\\n        <circle cx=\"90\" cy=\"80\" r=\"15\" fill=\"#fd79a8\"/>\\n        <circle cx=\"85\" cy=\"75\" r=\"5\" fill=\"#fab1a0\"/>\\n    </g>\\n    <g>\\n        <circle cx=\"110\" cy=\"70\" r=\"15\" fill=\"#fd79a8\"/>\\n        <circle cx=\"105\" cy=\"65\" r=\"5\" fill=\"#fab1a0\"/>\\n    </g>\\n    <g>\\n        <circle cx=\"130\" cy=\"80\" r=\"15\" fill=\"#fd79a8\"/>\\n        <circle cx=\"125\" cy=\"75\" r=\"5\" fill=\"#fab1a0\"/>\\n    </g>\\n    <g>\\n        <circle cx=\"150\" cy=\"70\" r=\"15\" fill=\"#fd79a8\"/>\\n        <circle cx=\"145\" cy=\"65\" r=\"5\" fill=\"#fab1a0\"/>\\n    </g>\\n    <g>\\n        <circle cx=\"170\" cy=\"90\" r=\"15\" fill=\"#fd79a8\"/>\\n        <circle cx=\"165\" cy=\"85\" r=\"5\" fill=\"#fab1a0\"/>\\n    </g>\\n    \\n    <!-- Small Boat -->\\n    <path d=\"M600,380 L650,380 L640,400 L610,400 Z\" fill=\"#a55eea\"/>\\n    <path d=\"M625,360 L625,380\" stroke=\"#4b4b4b\" stroke-width=\"2\" fill=\"none\"/>\\n    <path d=\"M625,360 L640,370\" stroke=\"#4b4b4b\" stroke-width=\"1\" fill=\"none\"/>\\n    \\n    <!-- Sun -->\\n    <circle cx=\"700\" cy=\"100\" r=\"40\" fill=\"#ff9f43\"/>\\n    \\n    <!-- Traditional Border -->\\n    <rect x=\"10\" y=\"10\" width=\"780\" height=\"580\" stroke=\"#2d3436\" stroke-width=\"5\" fill=\"none\"/>\\n    <rect x=\"20\" y=\"20\" width=\"760\" height=\"560\" stroke=\"#2d3436\" stroke-width=\"2\" fill=\"none\"/>\\n</svg><|im_end|>\\n', '<|im_start|>user\\nAn Art Nouveau inspired design featuring elegant curved lines, decorative floral elements, and a stylized female figure. The composition embodies the ornate and organic aesthetic of the early 20th century art movement.<|im_end|>\\n<|im_start|>assistant\\n<?xml version=\"1.0\" encoding=\"UTF-8\"?>\\n<svg width=\"800\" height=\"600\" viewBox=\"0 0 800 600\" xmlns=\"http://www.w3.org/2000/svg\">\\n    <!-- Background -->\\n    <rect width=\"800\" height=\"600\" fill=\"#f9f3e9\"/>\\n    \\n    <!-- Decorative Border -->\\n    <rect x=\"40\" y=\"40\" width=\"720\" height=\"520\" fill=\"none\" stroke=\"#b58863\" stroke-width=\"8\"/>\\n    <rect x=\"50\" y=\"50\" width=\"700\" height=\"500\" fill=\"none\" stroke=\"#b58863\" stroke-width=\"2\"/>\\n    \\n    <!-- Ornamental Corner Elements -->\\n    <path d=\"M40,40 C60,60 80,40 100,40 C120,40 140,60 160,40 L160,80 C140,100 120,80 100,80 C80,80 60,100 40,80 Z\" fill=\"#d4a373\"/>\\n    <path d=\"M760,40 C740,60 720,40 700,40 C680,40 660,60 640,40 L640,80 C660,100 680,80 700,80 C720,80 740,100 760,80 Z\" fill=\"#d4a373\"/>\\n    <path d=\"M40,560 C60,540 80,560 100,560 C120,560 140,540 160,560 L160,520 C140,500 120,520 100,520 C80,520 60,500 40,520 Z\" fill=\"#d4a373\"/>\\n    <path d=\"M760,560 C740,540 720,560 700,560 C680,560 660,540 640,560 L640,520 C660,500 680,520 700,520 C720,520 740,500 760,520 Z\" fill=\"#d4a373\"/>\\n    \\n    <!-- Stylized Female Figure -->\\n    <g transform=\"translate(400, 300)\">\\n        <!-- Hair -->\\n        <path d=\"M0,-120 C-40,-100 -60,-60 -50,-20 C-40,20 -20,40 0,50 C20,40 40,20 50,-20 C60,-60 40,-100 0,-120 Z\" fill=\"#e6b17e\"/>\\n        \\n        <!-- Face -->\\n        <ellipse cx=\"0\" cy=\"-50\" rx=\"25\" ry=\"35\" fill=\"#ffeedd\"/>\\n        \\n        <!-- Features -->\\n        <path d=\"M-10,-55 C-8,-57 -4,-57 -2,-55\" stroke=\"#6d4c41\" stroke-width=\"1\" fill=\"none\"/> <!-- Left Eyebrow -->\\n        <path d=\"M10,-55 C8,-57 4,-57 2,-55\" stroke=\"#6d4c41\" stroke-width=\"1\" fill=\"none\"/> <!-- Right Eyebrow -->\\n        <circle cx=\"-7\" cy=\"-50\" r=\"2\" fill=\"#6d4c41\"/> <!-- Left Eye -->\\n        <circle cx=\"7\" cy=\"-50\" r=\"2\" fill=\"#6d4c41\"/> <!-- Right Eye -->\\n        <path d=\"M0,-40 C-2,-38 2,-38 0,-40\" stroke=\"#6d4c41\" stroke-width=\"1\" fill=\"none\"/> <!-- Nose -->\\n        <path d=\"M-5,-30 C-3,-28 3,-28 5,-30\" stroke=\"#d4725b\" stroke-width=\"1\" fill=\"none\"/> <!-- Mouth -->\\n        \\n        <!-- Dress -->\\n        <path d=\"M0,50 C-50,60 -70,100 -60,150 C-50,170 -30,180 0,180 C30,180 50,170 60,150 C70,100 50,60 0,50 Z\" fill=\"#b5838d\"/>\\n        \\n        <!-- Arms -->\\n        <path d=\"M-30,70 C-60,80 -80,100 -100,130\" stroke=\"#ffeedd\" stroke-width=\"10\" fill=\"none\" stroke-linecap=\"round\"/>\\n        <path d=\"M30,70 C60,80 80,100 100,130\" stroke=\"#ffeedd\" stroke-width=\"10\" fill=\"none\" stroke-linecap=\"round\"/>\\n    </g>\\n    \\n    <!-- Decorative Floral Elements -->\\n    <g transform=\"translate(150, 150)\">\\n        <path d=\"M0,0 C20,-20 40,-10 50,10 C60,30 50,50 30,60 C10,70 -10,60 -20,40 C-30,20 -20,0 0,0 Z\" fill=\"#a7c957\"/>\\n        <path d=\"M0,0 C10,-30 30,-40 50,-30 C70,-20 80,0 70,20 C60,40 40,50 20,40 C0,30 -10,10 0,0 Z\" fill=\"#a7c957\" transform=\"rotate(72)\"/>\\n        <path d=\"M0,0 C10,-30 30,-40 50,-30 C70,-20 80,0 70,20 C60,40 40,50 20,40 C0,30 -10,10 0,0 Z\" fill=\"#a7c957\" transform=\"rotate(144)\"/>\\n        <path d=\"M0,0 C10,-30 30,-40 50,-30 C70,-20 80,0 70,20 C60,40 40,50 20,40 C0,30 -10,10 0,0 Z\" fill=\"#a7c957\" transform=\"rotate(216)\"/>\\n        <path d=\"M0,0 C10,-30 30,-40 50,-30 C70,-20 80,0 70,20 C60,40 40,50 20,40 C0,30 -10,10 0,0 Z\" fill=\"#a7c957\" transform=\"rotate(288)\"/>\\n        <circle cx=\"0\" cy=\"0\" r=\"15\" fill=\"#e9c46a\"/>\\n    </g>\\n    \\n    <g transform=\"translate(650, 150)\">\\n        <path d=\"M0,0 C20,-20 40,-10 50,10 C60,30 50,50 30,60 C10,70 -10,60 -20,40 C-30,20 -20,0 0,0 Z\" fill=\"#a7c957\"/>\\n        <path d=\"M0,0 C10,-30 30,-40 50,-30 C70,-20 80,0 70,20 C60,40 40,50 20,40 C0,30 -10,10 0,0 Z\" fill=\"#a7c957\" transform=\"rotate(72)\"/>\\n        <path d=\"M0,0 C10,-30 30,-40 50,-30 C70,-20 80,0 70,20 C60,40 40,50 20,40 C0,30 -10,10 0,0 Z\" fill=\"#a7c957\" transform=\"rotate(144)\"/>\\n        <path d=\"M0,0 C10,-30 30,-40 50,-30 C70,-20 80,0 70,20 C60,40 40,50 20,40 C0,30 -10,10 0,0 Z\" fill=\"#a7c957\" transform=\"rotate(216)\"/>\\n        <path d=\"M0,0 C10,-30 30,-40 50,-30 C70,-20 80,0 70,20 C60,40 40,50 20,40 C0,30 -10,10 0,0 Z\" fill=\"#a7c957\" transform=\"rotate(288)\"/>\\n        <circle cx=\"0\" cy=\"0\" r=\"15\" fill=\"#e9c46a\"/>\\n    </g>\\n    \\n    <!-- Swirling Decorative Elements -->\\n    <path d=\"M100,450 C150,430 200,450 250,430 C300,410 350,430 400,410 C450,390 500,410 550,390 C600,370 650,390 700,370\" stroke=\"#b58863\" stroke-width=\"3\" fill=\"none\"/>\\n    <path d=\"M100,470 C150,450 200,470 250,450 C300,430 350,450 400,430 C450,410 500,430 550,410 C600,390 650,410 700,390\" stroke=\"#b58863\" stroke-width=\"3\" fill=\"none\"/>\\n    <path d=\"M100,490 C150,470 200,490 250,470 C300,450 350,470 400,450 C450,430 500,450 550,430 C600,410 650,430 700,410\" stroke=\"#b58863\" stroke-width=\"3\" fill=\"none\"/>\\n    \\n    <!-- Title Text -->\\n    <text x=\"400\" y=\"100\" font-family=\"serif\" font-size=\"24\" text-anchor=\"middle\" fill=\"#6d4c41\">Art Nouveau</text>\\n</svg><|im_end|>\\n', '<|im_start|>user\\nA Celtic knot design with intricate interlaced patterns and traditional symbols. The composition features rich colors inspired by medieval illuminated manuscripts with detailed ornamental elements.<|im_end|>\\n<|im_start|>assistant\\n<?xml version=\"1.0\" encoding=\"UTF-8\"?>\\n<svg width=\"800\" height=\"600\" viewBox=\"0 0 800 600\" xmlns=\"http://www.w3.org/2000/svg\">\\n    <!-- Background -->\\n    <rect width=\"800\" height=\"600\" fill=\"#f0e6d2\"/>\\n    \\n    <!-- Border -->\\n    <rect x=\"50\" y=\"50\" width=\"700\" height=\"500\" fill=\"#2c3e50\" stroke=\"#d4af37\" stroke-width=\"10\"/>\\n    <rect x=\"70\" y=\"70\" width=\"660\" height=\"460\" fill=\"#34495e\" stroke=\"#d4af37\" stroke-width=\"5\"/>\\n    \\n    <!-- Celtic Cross -->\\n    <g transform=\"translate(400, 300)\">\\n        <!-- Vertical Beam -->\\n        <rect x=\"-30\" y=\"-150\" width=\"60\" height=\"300\" fill=\"#d4af37\" stroke=\"#000\" stroke-width=\"2\"/>\\n        \\n        <!-- Horizontal Beam -->\\n        <rect x=\"-120\" y=\"-30\" width=\"240\" height=\"60\" fill=\"#d4af37\" stroke=\"#000\" stroke-width=\"2\"/>\\n        \\n        <!-- Circle -->\\n        <circle cx=\"0\" cy=\"0\" r=\"70\" fill=\"none\" stroke=\"#d4af37\" stroke-width=\"20\"/>\\n        \\n        <!-- Knot Work on Circle -->\\n        <path d=\"M0,-70 C20,-65 40,-50 50,-30 C60,-10 60,10 50,30 C40,50 20,65 0,70 C-20,65 -40,50 -50,30 C-60,10 -60,-10 -50,-30 C-40,-50 -20,-65 0,-70 Z\" fill=\"none\" stroke=\"#000\" stroke-width=\"2\"/>\\n        \\n        <!-- Knot Work on Beams -->\\n        <path d=\"M-30,-30 C-20,-20 -10,-20 0,-30 C10,-20 20,-20 30,-30 C20,-40 10,-40 0,-30 C-10,-40 -20,-40 -30,-30 Z\" fill=\"none\" stroke=\"#000\" stroke-width=\"2\"/>\\n        <path d=\"M-30,30 C-20,20 -10,20 0,30 C10,20 20,20 30,30 C20,40 10,40 0,30 C-10,40 -20,40 -30,30 Z\" fill=\"none\" stroke=\"#000\" stroke-width=\"2\"/>\\n        <path d=\"M-30,0 C-20,-10 -10,-10 0,0 C10,-10 20,-10 30,0 C20,10 10,10 0,0 C-10,10 -20,10 -30,0 Z\" fill=\"none\" stroke=\"#000\" stroke-width=\"2\"/>\\n    </g>\\n    \\n    <!-- Celtic Knot Pattern 1 -->\\n    <g transform=\"translate(200, 150)\">\\n        <path d=\"M-50,-50 C-40,-60 -30,-60 -20,-50 C-10,-60 0,-60 10,-50 C20,-60 30,-60 40,-50 C50,-60 60,-60 70,-50\\n                 C60,-40 60,-30 70,-20 C60,-10 60,0 70,10 C60,20 60,30 70,40 C60,50 50,50 40,40 C30,50 20,50 10,40\\n                 C0,50 -10,50 -20,40 C-30,50 -40,50 -50,40 C-60,30 -60,20 -50,10 C-60,0 -60,-10 -50,-20 C-60,-30 -60,-40 -50,-50 Z\" \\n              fill=\"#d4af37\" stroke=\"#000\" stroke-width=\"2\"/>\\n        \\n        <!-- Inner Details -->\\n        <path d=\"M-30,-30 C-20,-40 -10,-40 0,-30 C10,-40 20,-40 30,-30 C20,-20 10,-20 0,-30 C-10,-20 -20,-20 -30,-30 Z\" \\n              fill=\"#34495e\" stroke=\"#000\" stroke-width=\"1\"/>\\n        <path d=\"M-30,30 C-20,20 -10,20 0,30 C10,20 20,20 30,30 C20,40 10,40 0,30 C-10,40 -20,40 -30,30 Z\" \\n              fill=\"#34495e\" stroke=\"#000\" stroke-width=\"1\"/>\\n        <path d=\"M-30,0 C-20,-10 -10,-10 0,0 C10,-10 20,-10 30,0 C20,10 10,10 0,0 C-10,10 -20,10 -30,0 Z\" \\n              fill=\"#34495e\" stroke=\"#000\" stroke-width=\"1\"/>\\n    </g>\\n    \\n    <!-- Celtic Knot Pattern 2 -->\\n    <g transform=\"translate(600, 150)\">\\n        <path d=\"M-50,-50 C-40,-60 -30,-60 -20,-50 C-10,-60 0,-60 10,-50 C20,-60 30,-60 40,-50 C50,-60 60,-60 70,-50\\n                 C60,-40 60,-30 70,-20 C60,-10 60,0 70,10 C60,20 60,30 70,40 C60,50 50,50 40,40 C30,50 20,50 10,40\\n                 C0,50 -10,50 -20,40 C-30,50 -40,50 -50,40 C-60,30 -60,20 -50,10 C-60,0 -60,-10 -50,-20 C-60,-30 -60,-40 -50,-50 Z\" \\n              fill=\"#d4af37\" stroke=\"#000\" stroke-width=\"2\"/>\\n        \\n        <!-- Inner Details -->\\n        <path d=\"M-30,-30 C-20,-40 -10,-40 0,-30 C10,-40 20,-40 30,-30 C20,-20 10,-20 0,-30 C-10,-20 -20,-20 -30,-30 Z\" \\n              fill=\"#34495e\" stroke=\"#000\" stroke-width=\"1\"/>\\n        <path d=\"M-30,30 C-20,20 -10,20 0,30 C10,20 20,20 30,30 C20,40 10,40 0,30 C-10,40 -20,40 -30,30 Z\" \\n              fill=\"#34495e\" stroke=\"#000\" stroke-width=\"1\"/>\\n        <path d=\"M-30,0 C-20,-10 -10,-10 0,0 C10,-10 20,-10 30,0 C20,10 10,10 0,0 C-10,10 -20,10 -30,0 Z\" \\n              fill=\"#34495e\" stroke=\"#000\" stroke-width=\"1\"/>\\n    </g>\\n    \\n    <!-- Celtic Knot Pattern 3 -->\\n    <g transform=\"translate(200, 450)\">\\n        <path d=\"M-50,-50 C-40,-60 -30,-60 -20,-50 C-10,-60 0,-60 10,-50 C20,-60 30,-60 40,-50 C50,-60 60,-60 70,-50\\n                 C60,-40 60,-30 70,-20 C60,-10 60,0 70,10 C60,20 60,30 70,40 C60,50 50,50 40,40 C30,50 20,50 10,40\\n                 C0,50 -10,50 -20,40 C-30,50 -40,50 -50,40 C-60,30 -60,20 -50,10 C-60,0 -60,-10 -50,-20 C-60,-30 -60,-40 -50,-50 Z\" \\n              fill=\"#d4af37\" stroke=\"#000\" stroke-width=\"2\"/>\\n        \\n        <!-- Inner Details -->\\n        <path d=\"M-30,-30 C-20,-40 -10,-40 0,-30 C10,-40 20,-40 30,-30 C20,-20 10,-20 0,-30 C-10,-20 -20,-20 -30,-30 Z\" \\n              fill=\"#34495e\" stroke=\"#000\" stroke-width=\"1\"/>\\n        <path d=\"M-30,30 C-20,20 -10,20 0,30 C10,20 20,20 30,30 C20,40 10,40 0,30 C-10,40 -20,40 -30,30 Z\" \\n              fill=\"#34495e\" stroke=\"#000\" stroke-width=\"1\"/>\\n        <path d=\"M-30,0 C-20,-10 -10,-10 0,0 C10,-10 20,-10 30,0 C20,10 10,10 0,0 C-10,10 -20,10 -30,0 Z\" \\n              fill=\"#34495e\" stroke=\"#000\" stroke-width=\"1\"/>\\n    </g>\\n    \\n    <!-- Celtic Knot Pattern 4 -->\\n    <g transform=\"translate(600, 450)\">\\n        <path d=\"M-50,-50 C-40,-60 -30,-60 -20,-50 C-10,-60 0,-60 10,-50 C20,-60 30,-60 40,-50 C50,-60 60,-60 70,-50\\n                 C60,-40 60,-30 70,-20 C60,-10 60,0 70,10 C60,20 60,30 70,40 C60,50 50,50 40,40 C30,50 20,50 10,40\\n                 C0,50 -10,50 -20,40 C-30,50 -40,50 -50,40 C-60,30 -60,20 -50,10 C-60,0 -60,-10 -50,-20 C-60,-30 -60,-40 -50,-50 Z\" \\n              fill=\"#d4af37\" stroke=\"#000\" stroke-width=\"2\"/>\\n        \\n        <!-- Inner Details -->\\n        <path d=\"M-30,-30 C-20,-40 -10,-40 0,-30 C10,-40 20,-40 30,-30 C20,-20 10,-20 0,-30 C-10,-20 -20,-20 -30,-30 Z\" \\n              fill=\"#34495e\" stroke=\"#000\" stroke-width=\"1\"/>\\n        <path d=\"M-30,30 C-20,20 -10,20 0,30 C10,20 20,20 30,30 C20,40 10,40 0,30 C-10,40 -20,40 -30,30 Z\" \\n              fill=\"#34495e\" stroke=\"#000\" stroke-width=\"1\"/>\\n        <path d=\"M-30,0 C-20,-10 -10,-10 0,0 C10,-10 20,-10 30,0 C20,10 10,10 0,0 C-10,10 -20,10 -30,0 Z\" \\n              fill=\"#34495e\" stroke=\"#000\" stroke-width=\"1\"/>\\n    </g>\\n</svg><|im_end|>\\n', '<|im_start|>user\\nA tropical paradise scene with lush palm trees, exotic flowers, a sandy beach, and ocean waves. The design uses a vibrant color palette to create a serene coastal landscape.<|im_end|>\\n<|im_start|>assistant\\n<?xml version=\"1.0\" encoding=\"UTF-8\"?>\\n<svg width=\"800\" height=\"600\" viewBox=\"0 0 800 600\" xmlns=\"http://www.w3.org/2000/svg\">\\n    <!-- Sky Gradient -->\\n    <defs>\\n        <linearGradient id=\"skyGradient\" x1=\"0%\" y1=\"0%\" x2=\"0%\" y2=\"100%\">\\n            <stop offset=\"0%\" style=\"stop-color:#48cae4;stop-opacity:1\" />\\n            <stop offset=\"100%\" style=\"stop-color:#90e0ef;stop-opacity:1\" />\\n        </linearGradient>\\n    </defs>\\n    <rect width=\"800\" height=\"600\" fill=\"url(#skyGradient)\"/>\\n    \\n    <!-- Sun -->\\n    <circle cx=\"650\" cy=\"100\" r=\"60\" fill=\"#ffb703\"/>\\n    <circle cx=\"650\" cy=\"100\" r=\"50\" fill=\"#fb8500\"/>\\n    \\n    <!-- Clouds -->\\n    <g fill=\"#ffffff\" opacity=\"0.9\">\\n        <ellipse cx=\"200\" cy=\"120\" rx=\"60\" ry=\"30\"/>\\n        <ellipse cx=\"250\" cy=\"110\" rx=\"50\" ry=\"25\"/>\\n        <ellipse cx=\"300\" cy=\"130\" rx=\"40\" ry=\"20\"/>\\n        \\n        <ellipse cx=\"500\" cy=\"150\" rx=\"50\" ry=\"25\"/>\\n        <ellipse cx=\"550\" cy=\"140\" rx=\"40\" ry=\"20\"/>\\n        <ellipse cx=\"450\" cy=\"160\" rx=\"30\" ry=\"15\"/>\\n    </g>\\n    \\n    <!-- Ocean -->\\n    <rect x=\"0\" y=\"350\" width=\"800\" height=\"250\" fill=\"#0077b6\"/>\\n    \\n    <!-- Beach -->\\n    <path d=\"M0,350 C100,330 200,340 300,350 C400,360 500,350 600,340 C700,330 800,350 800,350 L800,450 C700,440 600,450 500,440 C400,430 300,440 200,430 C100,420 0,430 0,430 Z\" fill=\"#ffdd00\"/>\\n    \\n    <!-- Ocean Waves -->\\n    <path d=\"M0,430 C50,420 100,430 150,420 C200,410 250,420 300,410 C350,400 400,410 450,400 C500,390 550,400 600,390 C650,380 700,390 750,380 C800,370 850,380 900,370 L900,600 L0,600 Z\" fill=\"#0096c7\"/>\\n    <path d=\"M0,470 C50,460 100,470 150,460 C200,450 250,460 300,450 C350,440 400,450 450,440 C500,430 550,440 600,430 C650,420 700,430 750,420 C800,410 850,420 900,410 L900,600 L0,600 Z\" fill=\"#00b4d8\" opacity=\"0.7\"/>\\n    <path d=\"M0,510 C50,500 100,510 150,500 C200,490 250,500 300,490 C350,480 400,490 450,480 C500,470 550,480 600,470 C650,460 700,470 750,460 C800,450 850,460 900,450 L900,600 L0,600 Z\" fill=\"#48cae4\" opacity=\"0.5\"/>\\n    \\n    <!-- Palm Tree 1 -->\\n    <g transform=\"translate(150, 350)\">\\n        <!-- Trunk -->\\n        <path d=\"M0,0 C-10,-50 -5,-100 10,-150\" stroke=\"#774936\" stroke-width=\"15\" fill=\"none\" stroke-linecap=\"round\"/>\\n        \\n        <!-- Leaves -->\\n        <path d=\"M10,-150 C50,-140 90,-160 120,-200\" stroke=\"#38b000\" stroke-width=\"8\" fill=\"none\" stroke-linecap=\"round\"/>\\n        <path d=\"M10,-150 C40,-170 60,-200 50,-240\" stroke=\"#38b000\" stroke-width=\"8\" fill=\"none\" stroke-linecap=\"round\"/>\\n        <path d=\"M10,-150 C20,-190 10,-230 -20,-260\" stroke=\"#38b000\" stroke-width=\"8\" fill=\"none\" stroke-linecap=\"round\"/>\\n        <path d=\"M10,-150 C-20,-180 -60,-190 -100,-180\" stroke=\"#38b000\" stroke-width=\"8\" fill=\"none\" stroke-linecap=\"round\"/>\\n        <path d=\"M10,-150 C-30,-130 -70,-140 -110,-120\" stroke=\"#38b000\" stroke-width=\"8\" fill=\"none\" stroke-linecap=\"round\"/>\\n        <path d=\"M10,-150 C-10,-120 -40,-100 -70,-70\" stroke=\"#38b000\" stroke-width=\"8\" fill=\"none\" stroke-linecap=\"round\"/>\\n        <path d=\"M10,-150 C30,-120 30,-90 20,-60\" stroke=\"#38b000\" stroke-width=\"8\" fill=\"none\" stroke-linecap=\"round\"/>\\n    </g>\\n    \\n    <!-- Palm Tree 2 -->\\n    <g transform=\"translate(650, 340)\">\\n        <!-- Trunk -->\\n        <path d=\"M0,0 C10,-40 15,-80 5,-120\" stroke=\"#774936\" stroke-width=\"12\" fill=\"none\" stroke-linecap=\"round\"/>\\n        \\n        <!-- Leaves -->\\n        <path d=\"M5,-120 C-25,-110 -55,-130 -75,-160\" stroke=\"#38b000\" stroke-width=\"6\" fill=\"none\" stroke-linecap=\"round\"/>\\n        <path d=\"M5,-120 C-15,-140 -25,-170 -15,-200\" stroke=\"#38b000\" stroke-width=\"6\" fill=\"none\" stroke-linecap=\"round\"/>\\n        <path d=\"M5,-120 C5,-150 15,-180 35,-200\" stroke=\"#38b000\" stroke-width=\"6\" fill=\"none\" stroke-linecap=\"round\"/>\\n        <path d=\"M5,-120 C35,-140 65,-150 95,-140\" stroke=\"#38b000\" stroke-width=\"6\" fill=\"none\" stroke-linecap=\"round\"/>\\n        <path d=\"M5,-120 C35,-100 65,-110 95,-90\" stroke=\"#38b000\" stroke-width=\"6\" fill=\"none\" stroke-linecap=\"round\"/>\\n        <path d=\"M5,-120 C15,-90 35,-70 55,-50\" stroke=\"#38b000\" stroke-width=\"6\" fill=\"none\" stroke-linecap=\"round\"/>\\n        <path d=\"M5,-120 C-15,-90 -15,-70 -5,-40\" stroke=\"#38b000\" stroke-width=\"6\" fill=\"none\" stroke-linecap=\"round\"/>\\n    </g>\\n    \\n    <!-- Tropical Flowers -->\\n    <g transform=\"translate(250, 380)\">\\n        <!-- Stem -->\\n        <path d=\"M0,0 C-5,-15 0,-30 10,-40\" stroke=\"#38b000\" stroke-width=\"3\" fill=\"none\"/>\\n        \\n        <!-- Flower -->\\n        <circle cx=\"10\" cy=\"-40\" r=\"10\" fill=\"#ff006e\"/>\\n        <circle cx=\"20\" cy=\"-45\" r=\"8\" fill=\"#ff006e\"/>\\n        <circle cx=\"15\" cy=\"-50\" r=\"8\" fill=\"#ff006e\"/>\\n        <circle cx=\"5\" cy=\"-50\" r=\"8\" fill=\"#ff006e\"/>\\n        <circle cx=\"0\" cy=\"-45\" r=\"8\" fill=\"#ff006e\"/>\\n        <circle cx=\"10\" cy=\"-40\" r=\"5\" fill=\"#ffbe0b\"/>\\n    </g>\\n    \\n    <g transform=\"translate(280, 390)\">\\n        <!-- Stem -->\\n        <path d=\"M0,0 C5,-10 15,-15 25,-15\" stroke=\"#38b000\" stroke-width=\"3\" fill=\"none\"/>\\n        \\n        <!-- Flower -->\\n        <circle cx=\"25\" cy=\"-15\" r=\"8\" fill=\"#3a86ff\"/>\\n        <circle cx=\"33\" cy=\"-18\" r=\"6\" fill=\"#3a86ff\"/>\\n        <circle cx=\"30\" cy=\"-23\" r=\"6\" fill=\"#3a86ff\"/>\\n        <circle cx=\"20\" cy=\"-23\" r=\"6\" fill=\"#3a86ff\"/>\\n        <circle cx=\"17\" cy=\"-18\" r=\"6\" fill=\"#3a86ff\"/>\\n        <circle cx=\"25\" cy=\"-15\" r=\"4\" fill=\"#ffbe0b\"/>\\n    </g>\\n    \\n    <g transform=\"translate(550, 370)\">\\n        <!-- Stem -->\\n        <path d=\"M0,0 C-5,-15 0,-30 10,-40\" stroke=\"#38b000\" stroke-width=\"3\" fill=\"none\"/>\\n        \\n        <!-- Flower -->\\n        <circle cx=\"10\" cy=\"-40\" r=\"10\" fill=\"#fb5607\"/>\\n        <circle cx=\"20\" cy=\"-45\" r=\"8\" fill=\"#fb5607\"/>\\n        <circle cx=\"15\" cy=\"-50\" r=\"8\" fill=\"#fb5607\"/>\\n        <circle cx=\"5\" cy=\"-50\" r=\"8\" fill=\"#fb5607\"/>\\n        <circle cx=\"0\" cy=\"-45\" r=\"8\" fill=\"#fb5607\"/>\\n        <circle cx=\"10\" cy=\"-40\" r=\"5\" fill=\"#ffbe0b\"/>\\n    </g>\\n</svg><|im_end|>\\n', '<|im_start|>user\\nA steampunk themed mechanical design featuring gears, pipes, and Victorian-inspired elements. The composition uses a rich copper and brass color palette with detailed industrial components.<|im_end|>\\n<|im_start|>assistant\\n<?xml version=\"1.0\" encoding=\"UTF-8\"?>\\n<svg width=\"800\" height=\"600\" viewBox=\"0 0 800 600\" xmlns=\"http://www.w3.org/2000/svg\">\\n    <!-- Background -->\\n    <rect width=\"800\" height=\"600\" fill=\"#2d3436\"/>\\n    \\n    <!-- Textured Background -->\\n    <rect width=\"800\" height=\"600\" fill=\"url(#steampunkTexture)\"/>\\n    <defs>\\n        <pattern id=\"steampunkTexture\" patternUnits=\"userSpaceOnUse\" width=\"100\" height=\"100\">\\n            <rect width=\"100\" height=\"100\" fill=\"#2d3436\"/>\\n            <path d=\"M0,0 L100,100 M100,0 L0,100\" stroke=\"#636e72\" stroke-width=\"0.5\" opacity=\"0.3\"/>\\n        </pattern>\\n    </defs>\\n    \\n    <!-- Main Gear -->\\n    <g transform=\"translate(400, 300)\">\\n        <circle cx=\"0\" cy=\"0\" r=\"150\" fill=\"#d35400\" stroke=\"#e67e22\" stroke-width=\"5\"/>\\n        <circle cx=\"0\" cy=\"0\" r=\"130\" fill=\"#e67e22\" stroke=\"#d35400\" stroke-width=\"3\"/>\\n        <circle cx=\"0\" cy=\"0\" r=\"30\" fill=\"#2d3436\" stroke=\"#d35400\" stroke-width=\"5\"/>\\n        <circle cx=\"0\" cy=\"0\" r=\"15\" fill=\"#d35400\"/>\\n        \\n        <!-- Gear Teeth -->\\n        <g id=\"gearTeeth\">\\n            <rect x=\"-10\" y=\"-160\" width=\"20\" height=\"30\" fill=\"#d35400\" stroke=\"#e67e22\" stroke-width=\"2\"/>\\n            <rect x=\"-10\" y=\"130\" width=\"20\" height=\"30\" fill=\"#d35400\" stroke=\"#e67e22\" stroke-width=\"2\"/>\\n            <rect x=\"-160\" y=\"-10\" width=\"30\" height=\"20\" fill=\"#d35400\" stroke=\"#e67e22\" stroke-width=\"2\"/>\\n            <rect x=\"130\" y=\"-10\" width=\"30\" height=\"20\" fill=\"#d35400\" stroke=\"#e67e22\" stroke-width=\"2\"/>\\n        </g>\\n        \\n        <!-- Rotated Gear Teeth -->\\n        <use href=\"#gearTeeth\" transform=\"rotate(45)\"/>\\n        <use href=\"#gearTeeth\" transform=\"rotate(90)\"/>\\n        <use href=\"#gearTeeth\" transform=\"rotate(135)\"/>\\n        \\n        <!-- Decorative Rivets -->\\n        <g id=\"rivets\">\\n            <circle cx=\"0\" cy=\"-100\" r=\"8\" fill=\"#f39c12\" stroke=\"#d35400\" stroke-width=\"2\"/>\\n            <circle cx=\"0\" cy=\"100\" r=\"8\" fill=\"#f39c12\" stroke=\"#d35400\" stroke-width=\"2\"/>\\n            <circle cx=\"-100\" cy=\"0\" r=\"8\" fill=\"#f39c12\" stroke=\"#d35400\" stroke-width=\"2\"/>\\n            <circle cx=\"100\" cy=\"0\" r=\"8\" fill=\"#f39c12\" stroke=\"#d35400\" stroke-width=\"2\"/>\\n        </g>\\n        \\n        <!-- Rotated Rivets -->\\n        <use href=\"#rivets\" transform=\"rotate(45)\"/>\\n    </g>\\n    \\n    <!-- Small Gear 1 -->\\n    <g transform=\"translate(200, 150)\">\\n        <circle cx=\"0\" cy=\"0\" r=\"70\" fill=\"#f39c12\" stroke=\"#e67e22\" stroke-width=\"3\"/>\\n        <circle cx=\"0\" cy=\"0\" r=\"60\" fill=\"#e67e22\" stroke=\"#f39c12\" stroke-width=\"2\"/>\\n        <circle cx=\"0\" cy=\"0\" r=\"15\" fill=\"#2d3436\" stroke=\"#f39c12\" stroke-width=\"3\"/>\\n        <circle cx=\"0\" cy=\"0\" r=\"8\" fill=\"#f39c12\"/>\\n        \\n        <!-- Gear Teeth -->\\n        <g id=\"smallGearTeeth\">\\n            <rect x=\"-5\" y=\"-75\" width=\"10\" height=\"15\" fill=\"#f39c12\" stroke=\"#e67e22\" stroke-width=\"1\"/>\\n            <rect x=\"-5\" y=\"60\" width=\"10\" height=\"15\" fill=\"#f39c12\" stroke=\"#e67e22\" stroke-width=\"1\"/>\\n            <rect x=\"-75\" y=\"-5\" width=\"15\" height=\"10\" fill=\"#f39c12\" stroke=\"#e67e22\" stroke-width=\"1\"/>\\n            <rect x=\"60\" y=\"-5\" width=\"15\" height=\"10\" fill=\"#f39c12\" stroke=\"#e67e22\" stroke-width=\"1\"/>\\n        </g>\\n        \\n        <!-- Rotated Small Gear Teeth -->\\n        <use href=\"#smallGearTeeth\" transform=\"rotate(30)\"/>\\n        <use href=\"#smallGearTeeth\" transform=\"rotate(60)\"/>\\n        <use href=\"#smallGearTeeth\" transform=\"rotate(90)\"/>\\n        <use href=\"#smallGearTeeth\" transform=\"rotate(120)\"/>\\n        <use href=\"#smallGearTeeth\" transform=\"rotate(150)\"/>\\n    </g>\\n    \\n    <!-- Small Gear 2 -->\\n    <g transform=\"translate(600, 450)\">\\n        <circle cx=\"0\" cy=\"0\" r=\"80\" fill=\"#f39c12\" stroke=\"#e67e22\" stroke-width=\"3\"/>\\n        <circle cx=\"0\" cy=\"0\" r=\"70\" fill=\"#e67e22\" stroke=\"#f39c12\" stroke-width=\"2\"/>\\n        <circle cx=\"0\" cy=\"0\" r=\"20\" fill=\"#2d3436\" stroke=\"#f39c12\" stroke-width=\"3\"/>\\n        <circle cx=\"0\" cy=\"0\" r=\"10\" fill=\"#f39c12\"/>\\n        \\n        <!-- Gear Teeth -->\\n        <g id=\"smallGearTeeth2\">\\n            <rect x=\"-6\" y=\"-85\" width=\"12\" height=\"15\" fill=\"#f39c12\" stroke=\"#e67e22\" stroke-width=\"1\"/>\\n            <rect x=\"-6\" y=\"70\" width=\"12\" height=\"15\" fill=\"#f39c12\" stroke=\"#e67e22\" stroke-width=\"1\"/>\\n            <rect x=\"-85\" y=\"-6\" width=\"15\" height=\"12\" fill=\"#f39c12\" stroke=\"#e67e22\" stroke-width=\"1\"/>\\n            <rect x=\"70\" y=\"-6\" width=\"15\" height=\"12\" fill=\"#f39c12\" stroke=\"#e67e22\" stroke-width=\"1\"/>\\n        </g>\\n        \\n        <!-- Rotated Small Gear Teeth -->\\n        <use href=\"#smallGearTeeth2\" transform=\"rotate(22.5)\"/>\\n        <use href=\"#smallGearTeeth2\" transform=\"rotate(45)\"/>\\n        <use href=\"#smallGearTeeth2\" transform=\"rotate(67.5)\"/>\\n        <use href=\"#smallGearTeeth2\" transform=\"rotate(90)\"/>\\n        <use href=\"#smallGearTeeth2\" transform=\"rotate(112.5)\"/>\\n        <use href=\"#smallGearTeeth2\" transform=\"rotate(135)\"/>\\n        <use href=\"#smallGearTeeth2\" transform=\"rotate(157.5)\"/>\\n    </g>\\n    \\n    <!-- Connecting Rods -->\\n    <path d=\"M200,150 L400,300\" stroke=\"#e67e22\" stroke-width=\"10\" stroke-linecap=\"round\"/>\\n    <path d=\"M400,300 L600,450\" stroke=\"#e67e22\" stroke-width=\"10\" stroke-linecap=\"round\"/>\\n    \\n    <!-- Decorative Pipes -->\\n    <path d=\"M50,50 C100,100 150,50 200,100 C250,150 300,100 350,150\" stroke=\"#d35400\" stroke-width=\"15\" fill=\"none\" stroke-linecap=\"round\"/>\\n    <path d=\"M750,50 C700,100 650,50 600,100 C550,150 500,100 450,150\" stroke=\"#d35400\" stroke-width=\"15\" fill=\"none\" stroke-linecap=\"round\"/>\\n    \\n    <!-- Pipe Connectors -->\\n    <circle cx=\"50\" cy=\"50\" r=\"12\" fill=\"#f39c12\" stroke=\"#d35400\" stroke-width=\"2\"/>\\n    <circle cx=\"200\" cy=\"100\" r=\"12\" fill=\"#f39c12\" stroke=\"#d35400\" stroke-width=\"2\"/>\\n    <circle cx=\"350\" cy=\"150\" r=\"12\" fill=\"#f39c12\" stroke=\"#d35400\" stroke-width=\"2\"/>\\n    <circle cx=\"750\" cy=\"50\" r=\"12\" fill=\"#f39c12\" stroke=\"#d35400\" stroke-width=\"2\"/>\\n    <circle cx=\"600\" cy=\"100\" r=\"12\" fill=\"#f39c12\" stroke=\"#d35400\" stroke-width=\"2\"/>\\n    <circle cx=\"450\" cy=\"150\" r=\"12\" fill=\"#f39c12\" stroke=\"#d35400\" stroke-width=\"2\"/>\\n    \\n    <!-- Pressure Gauge -->\\n    <g transform=\"translate(100, 500)\">\\n        <circle cx=\"0\" cy=\"0\" r=\"40\" fill=\"#2d3436\" stroke=\"#d35400\" stroke-width=\"5\"/>\\n        <circle cx=\"0\" cy=\"0\" r=\"35\" fill=\"#f5f6fa\" stroke=\"#d35400\" stroke-width=\"2\"/>\\n        \\n        <!-- Gauge Markings -->\\n        <line x1=\"0\" y1=\"-25\" x2=\"0\" y2=\"-30\" stroke=\"#2d3436\" stroke-width=\"2\"/>\\n        <line x1=\"15\" y1=\"-20\" x2=\"18\" y2=\"-25\" stroke=\"#2d3436\" stroke-width=\"2\"/>\\n        <line x1=\"25\" y1=\"0\" x2=\"30\" y2=\"0\" stroke=\"#2d3436\" stroke-width=\"2\"/>\\n        <line x1=\"15\" y1=\"20\" x2=\"18\" y2=\"25\" stroke=\"#2d3436\" stroke-width=\"2\"/>\\n        <line x1=\"0\" y1=\"25\" x2=\"0\" y2=\"30\" stroke=\"#2d3436\" stroke-width=\"2\"/>\\n        <line x1=\"-15\" y1=\"20\" x2=\"-18\" y2=\"25\" stroke=\"#2d3436\" stroke-width=\"2\"/>\\n        <line x1=\"-25\" y1=\"0\" x2=\"-30\" y2=\"0\" stroke=\"#2d3436\" stroke-width=\"2\"/>\\n        <line x1=\"-15\" y1=\"-20\" x2=\"-18\" y2=\"-25\" stroke=\"#2d3436\" stroke-width=\"2\"/>\\n        \\n        <!-- Gauge Needle -->\\n        <line x1=\"0\" y1=\"0\" x2=\"-15\" y2=\"-20\" stroke=\"#e74c3c\" stroke-width=\"2\"/>\\n        <circle cx=\"0\" cy=\"0\" r=\"5\" fill=\"#d35400\" stroke=\"#2d3436\" stroke-width=\"1\"/>\\n    </g>\\n    \\n    <!-- Pressure Gauge 2 -->\\n    <g transform=\"translate(700, 500)\">\\n        <circle cx=\"0\" cy=\"0\" r=\"40\" fill=\"#2d3436\" stroke=\"#d35400\" stroke-width=\"5\"/>\\n        <circle cx=\"0\" cy=\"0\" r=\"35\" fill=\"#f5f6fa\" stroke=\"#d35400\" stroke-width=\"2\"/>\\n        \\n        <!-- Gauge Markings -->\\n        <line x1=\"0\" y1=\"-25\" x2=\"0\" y2=\"-30\" stroke=\"#2d3436\" stroke-width=\"2\"/>\\n        <line x1=\"15\" y1=\"-20\" x2=\"18\" y2=\"-25\" stroke=\"#2d3436\" stroke-width=\"2\"/>\\n        <line x1=\"25\" y1=\"0\" x2=\"30\" y2=\"0\" stroke=\"#2d3436\" stroke-width=\"2\"/>\\n        <line x1=\"15\" y1=\"20\" x2=\"18\" y2=\"25\" stroke=\"#2d3436\" stroke-width=\"2\"/>\\n        <line x1=\"0\" y1=\"25\" x2=\"0\" y2=\"30\" stroke=\"#2d3436\" stroke-width=\"2\"/>\\n        <line x1=\"-15\" y1=\"20\" x2=\"-18\" y2=\"25\" stroke=\"#2d3436\" stroke-width=\"2\"/>\\n        <line x1=\"-25\" y1=\"0\" x2=\"-30\" y2=\"0\" stroke=\"#2d3436\" stroke-width=\"2\"/>\\n        <line x1=\"-15\" y1=\"-20\" x2=\"-18\" y2=\"-25\" stroke=\"#2d3436\" stroke-width=\"2\"/>\\n        \\n        <!-- Gauge Needle -->\\n        <line x1=\"0\" y1=\"0\" x2=\"20\" y2=\"-15\" stroke=\"#e74c3c\" stroke-width=\"2\"/>\\n        <circle cx=\"0\" cy=\"0\" r=\"5\" fill=\"#d35400\" stroke=\"#2d3436\" stroke-width=\"1\"/>\\n    </g>\\n    \\n    <!-- Decorative Bolts -->\\n    <g id=\"cornerBolts\">\\n        <circle cx=\"50\" cy=\"50\" r=\"15\" fill=\"#f39c12\" stroke=\"#d35400\" stroke-width=\"3\"/>\\n        <circle cx=\"50\" cy=\"50\" r=\"5\" fill=\"#d35400\"/>\\n        <line x1=\"50\" y1=\"45\" x2=\"50\" y2=\"55\" stroke=\"#d35400\" stroke-width=\"2\"/>\\n        <line x1=\"45\" y1=\"50\" x2=\"55\" y2=\"50\" stroke=\"#d35400\" stroke-width=\"2\"/>\\n    </g>\\n    \\n    <use href=\"#cornerBolts\" x=\"700\" y=\"0\"/>\\n    <use href=\"#cornerBolts\" x=\"0\" y=\"500\"/>\\n    <use href=\"#cornerBolts\" x=\"700\" y=\"500\"/>\\n</svg><|im_end|>\\n', '<|im_start|>user\\nA space exploration scene featuring planets, stars, and a rocket ship in a cosmic setting. The design uses vibrant colors and detailed celestial elements against a deep space background.<|im_end|>\\n<|im_start|>assistant\\n<?xml version=\"1.0\" encoding=\"UTF-8\"?>\\n<svg width=\"800\" height=\"600\" viewBox=\"0 0 800 600\" xmlns=\"http://www.w3.org/2000/svg\">\\n    <!-- Space Background with Gradient -->\\n    <defs>\\n        <linearGradient id=\"spaceGradient\" x1=\"0%\" y1=\"0%\" x2=\"0%\" y2=\"100%\">\\n            <stop offset=\"0%\" style=\"stop-color:#0f0c29;stop-opacity:1\" />\\n            <stop offset=\"50%\" style=\"stop-color:#302b63;stop-opacity:1\" />\\n            <stop offset=\"100%\" style=\"stop-color:#24243e;stop-opacity:1\" />\\n        </linearGradient>\\n        <radialGradient id=\"starGlow\" cx=\"50%\" cy=\"50%\" r=\"50%\" fx=\"50%\" fy=\"50%\">\\n            <stop offset=\"0%\" style=\"stop-color:#ffffff;stop-opacity:1\" />\\n            <stop offset=\"100%\" style=\"stop-color:#ffffff;stop-opacity:0\" />\\n        </radialGradient>\\n    </defs>\\n    \\n    <!-- Background -->\\n    <rect width=\"800\" height=\"600\" fill=\"url(#spaceGradient)\"/>\\n    \\n    <!-- Stars -->\\n    <g id=\"stars\">\\n        <!-- Small Stars -->\\n        <g fill=\"#ffffff\">\\n            <circle cx=\"50\" cy=\"50\" r=\"1\"/>\\n            <circle cx=\"120\" cy=\"80\" r=\"1.5\"/>\\n            <circle cx=\"200\" cy=\"30\" r=\"1\"/>\\n            <circle cx=\"280\" cy=\"120\" r=\"1.5\"/>\\n            <circle cx=\"350\" cy=\"60\" r=\"1\"/>\\n            <circle cx=\"420\" cy=\"90\" r=\"1.5\"/>\\n            <circle cx=\"500\" cy=\"40\" r=\"1\"/>\\n            <circle cx=\"580\" cy=\"70\" r=\"1.5\"/>\\n            <circle cx=\"650\" cy=\"30\" r=\"1\"/>\\n            <circle cx=\"720\" cy=\"110\" r=\"1.5\"/>\\n            <circle cx=\"100\" cy=\"150\" r=\"1\"/>\\n            <circle cx=\"170\" cy=\"180\" r=\"1.5\"/>\\n            <circle cx=\"250\" cy=\"130\" r=\"1\"/>\\n            <circle cx=\"330\" cy=\"220\" r=\"1.5\"/>\\n            <circle cx=\"400\" cy=\"160\" r=\"1\"/>\\n            <circle cx=\"470\" cy=\"190\" r=\"1.5\"/>\\n            <circle cx=\"550\" cy=\"140\" r=\"1\"/>\\n            <circle cx=\"630\" cy=\"170\" r=\"1.5\"/>\\n            <circle cx=\"700\" cy=\"130\" r=\"1\"/>\\n            <circle cx=\"770\" cy=\"210\" r=\"1.5\"/>\\n            <circle cx=\"80\" cy=\"250\" r=\"1\"/>\\n            <circle cx=\"150\" cy=\"280\" r=\"1.5\"/>\\n            <circle cx=\"230\" cy=\"230\" r=\"1\"/>\\n            <circle cx=\"310\" cy=\"320\" r=\"1.5\"/>\\n            <circle cx=\"380\" cy=\"260\" r=\"1\"/>\\n            <circle cx=\"450\" cy=\"290\" r=\"1.5\"/>\\n            <circle cx=\"530\" cy=\"240\" r=\"1\"/>\\n            <circle cx=\"610\" cy=\"270\" r=\"1.5\"/>\\n            <circle cx=\"680\" cy=\"230\" r=\"1\"/>\\n            <circle cx=\"750\" cy=\"310\" r=\"1.5\"/>\\n        </g>\\n        \\n        <!-- Medium Stars with Glow -->\\n        <g>\\n            <circle cx=\"150\" cy=\"100\" r=\"2\" fill=\"#ffffff\"/>\\n            <circle cx=\"150\" cy=\"100\" r=\"4\" fill=\"url(#starGlow)\" opacity=\"0.7\"/>\\n            \\n            <circle cx=\"450\" cy=\"80\" r=\"2\" fill=\"#ffffff\"/>\\n            <circle cx=\"450\" cy=\"80\" r=\"4\" fill=\"url(#starGlow)\" opacity=\"0.7\"/>\\n            \\n            <circle cx=\"700\" cy=\"150\" r=\"2\" fill=\"#ffffff\"/>\\n            <circle cx=\"700\" cy=\"150\" r=\"4\" fill=\"url(#starGlow)\" opacity=\"0.7\"/>\\n            \\n            <circle cx=\"250\" cy=\"350\" r=\"2\" fill=\"#ffffff\"/>\\n            <circle cx=\"250\" cy=\"350\" r=\"4\" fill=\"url(#starGlow)\" opacity=\"0.7\"/>\\n            \\n            <circle cx=\"600\" cy=\"400\" r=\"2\" fill=\"#ffffff\"/>\\n            <circle cx=\"600\" cy=\"400\" r=\"4\" fill=\"url(#starGlow)\" opacity=\"0.7\"/>\\n        </g>\\n        \\n        <!-- Large Stars with Glow -->\\n        <g>\\n            <circle cx=\"350\" cy=\"150\" r=\"3\" fill=\"#ffffff\"/>\\n            <circle cx=\"350\" cy=\"150\" r=\"6\" fill=\"url(#starGlow)\" opacity=\"0.8\"/>\\n            \\n            <circle cx=\"650\" cy=\"250\" r=\"3\" fill=\"#ffffff\"/>\\n            <circle cx=\"650\" cy=\"250\" r=\"6\" fill=\"url(#starGlow)\" opacity=\"0.8\"/>\\n            \\n            <circle cx=\"200\" cy=\"450\" r=\"3\" fill=\"#ffffff\"/>\\n            <circle cx=\"200\" cy=\"450\" r=\"6\" fill=\"url(#starGlow)\" opacity=\"0.8\"/>\\n            \\n            <circle cx=\"500\" cy=\"500\" r=\"3\" fill=\"#ffffff\"/>\\n            <circle cx=\"500\" cy=\"500\" r=\"6\" fill=\"url(#starGlow)\" opacity=\"0.8\"/>\\n        </g>\\n    </g>\\n    \\n    <!-- Distant Galaxy -->\\n    <g transform=\"translate(100, 100)\">\\n        <ellipse cx=\"0\" cy=\"0\" rx=\"80\" ry=\"30\" fill=\"#8e44ad\" opacity=\"0.3\" transform=\"rotate(30)\"/>\\n        <ellipse cx=\"0\" cy=\"0\" rx=\"60\" ry=\"20\" fill=\"#9b59b6\" opacity=\"0.4\" transform=\"rotate(30)\"/>\\n        <ellipse cx=\"0\" cy=\"0\" rx=\"40\" ry=\"10\" fill=\"#d2b4de\" opacity=\"0.5\" transform=\"rotate(30)\"/>\\n    </g>\\n    \\n    <!-- Large Planet -->\\n    <g transform=\"translate(600, 350)\">\\n        <!-- Planet Body -->\\n        <circle cx=\"0\" cy=\"0\" r=\"100\" fill=\"#3498db\"/>\\n        \\n        <!-- Planet Surface Details -->\\n        <path d=\"M-80,-60 C-40,-90 40,-90 80,-60 C90,-30 90,30 80,60 C40,90 -40,90 -80,60 C-90,30 -90,-30 -80,-60 Z\" fill=\"#2980b9\"/>\\n        <path d=\"M-60,-40 C-30,-60 30,-60 60,-40 C70,-20 70,20 60,40 C30,60 -30,60 -60,40 C-70,20 -70,-20 -60,-40 Z\" fill=\"#1abc9c\"/>\\n        \\n        <!-- Atmosphere Glow -->\\n        <circle cx=\"0\" cy=\"0\" r=\"110\" fill=\"none\" stroke=\"#3498db\" stroke-width=\"5\" opacity=\"0.5\"/>\\n    </g>\\n    \\n    <!-- Small Planet -->\\n    <g transform=\"translate(200, 500)\">\\n        <!-- Planet Body -->\\n        <circle cx=\"0\" cy=\"0\" r=\"40\" fill=\"#e74c3c\"/>\\n        \\n        <!-- Planet Surface Details -->\\n        <path d=\"M-30,-20 C-15,-30 15,-30 30,-20 C35,-10 35,10 30,20 C15,30 -15,30 -30,20 C-35,10 -35,-10 -30,-20 Z\" fill=\"#c0392b\"/>\\n        \\n        <!-- Atmosphere Glow -->\\n        <circle cx=\"0\" cy=\"0\" r=\"45\" fill=\"none\" stroke=\"#e74c3c\" stroke-width=\"2\" opacity=\"0.5\"/>\\n    </g>\\n    \\n    <!-- Ringed Planet -->\\n    <g transform=\"translate(150, 200)\">\\n        <!-- Planet Body -->\\n        <circle cx=\"0\" cy=\"0\" r=\"30\" fill=\"#f39c12\"/>\\n        \\n        <!-- Rings -->\\n        <ellipse cx=\"0\" cy=\"0\" rx=\"60\" ry=\"10\" fill=\"none\" stroke=\"#f1c40f\" stroke-width=\"4\" opacity=\"0.7\" transform=\"rotate(-20)\"/>\\n        <ellipse cx=\"0\" cy=\"0\" rx=\"50\" ry=\"8\" fill=\"none\" stroke=\"#f39c12\" stroke-width=\"3\" opacity=\"0.5\" transform=\"rotate(-20)\"/>\\n    </g>\\n    \\n    <!-- Rocket Ship -->\\n    <g transform=\"translate(400, 300)\">\\n        <!-- Rocket Body -->\\n        <path d=\"M0,-50 L15,30 L-15,30 Z\" fill=\"#e74c3c\"/>\\n        <rect x=\"-15\" y=\"30\" width=\"30\" height=\"20\" fill=\"#e74c3c\"/>\\n        \\n        <!-- Rocket Windows -->\\n        <circle cx=\"0\" cy=\"0\" r=\"7\" fill=\"#f5f6fa\"/>\\n        <circle cx=\"0\" cy=\"-20\" r=\"5\" fill=\"#f5f6fa\"/>\\n        \\n        <!-- Rocket Fins -->\\n        <path d=\"M-15,30 L-30,50 L-15,50 Z\" fill=\"#c0392b\"/>\\n        <path d=\"M15,30 L30,50 L15,50 Z\" fill=\"#c0392b\"/>\\n        \\n        <!-- Rocket Flames -->\\n        <path d=\"M-10,50 L0,80 L10,50 Z\" fill=\"#f39c12\"/>\\n        <path d=\"M-5,50 L0,70 L5,50 Z\" fill=\"#f1c40f\"/>\\n    </g>\\n    \\n    <!-- Comet -->\\n    <g>\\n        <path d=\"M700,100 C650,150 600,200 550,250\" stroke=\"#f5f6fa\" stroke-width=\"2\" fill=\"none\" opacity=\"0.6\"/>\\n        <circle cx=\"700\" cy=\"100\" r=\"5\" fill=\"#f5f6fa\"/>\\n        <circle cx=\"700\" cy=\"100\" r=\"10\" fill=\"url(#starGlow)\" opacity=\"0.7\"/>\\n    </g>\\n    \\n    <!-- Asteroid Belt -->\\n    <g transform=\"translate(400, 150)\">\\n        <circle cx=\"-80\" cy=\"0\" r=\"4\" fill=\"#95a5a6\"/>\\n        <circle cx=\"-65\" cy=\"10\" r=\"3\" fill=\"#7f8c8d\"/>\\n        <circle cx=\"-50\" cy=\"-5\" r=\"5\" fill=\"#95a5a6\"/>\\n        <circle cx=\"-30\" cy=\"15\" r=\"2\" fill=\"#7f8c8d\"/>\\n        <circle cx=\"-15\" cy=\"-10\" r=\"3\" fill=\"#95a5a6\"/>\\n        <circle cx=\"0\" cy=\"5\" r=\"4\" fill=\"#7f8c8d\"/>\\n        <circle cx=\"15\" cy=\"-15\" r=\"2\" fill=\"#95a5a6\"/>\\n        <circle cx=\"30\" cy=\"0\" r=\"5\" fill=\"#7f8c8d\"/>\\n        <circle cx=\"50\" cy=\"10\" r=\"3\" fill=\"#95a5a6\"/>\\n        <circle cx=\"65\" cy=\"-5\" r=\"4\" fill=\"#7f8c8d\"/>\\n        <circle cx=\"80\" cy=\"15\" r=\"2\" fill=\"#95a5a6\"/>\\n    </g>\\n    \\n    <!-- Space Station -->\\n    <g transform=\"translate(300, 400)\">\\n        <!-- Main Module -->\\n        <rect x=\"-20\" y=\"-10\" width=\"40\" height=\"20\" fill=\"#bdc3c7\" rx=\"5\" ry=\"5\"/>\\n        \\n        <!-- Solar Panels -->\\n        <rect x=\"-60\" y=\"-5\" width=\"40\" height=\"10\" fill=\"#3498db\"/>\\n        <rect x=\"20\" y=\"-5\" width=\"40\" height=\"10\" fill=\"#3498db\"/>\\n        \\n        <!-- Connecting Arms -->\\n        <rect x=\"-20\" y=\"-2\" width=\"-10\" height=\"4\" fill=\"#7f8c8d\"/>\\n        <rect x=\"20\" y=\"-2\" width=\"10\" height=\"4\" fill=\"#7f8c8d\"/>\\n        \\n        <!-- Antenna -->\\n        <line x1=\"0\" y1=\"-10\" x2=\"0\" y2=\"-20\" stroke=\"#7f8c8d\" stroke-width=\"2\"/>\\n        <circle cx=\"0\" cy=\"-22\" r=\"2\" fill=\"#7f8c8d\"/>\\n    </g>\\n</svg><|im_end|>\\n']\n"
          ]
        }
      ],
      "source": [
        "def convert_dataset_dict(dataset_dict):\n",
        "    \"\"\"Converts a DatasetDict to the desired format.\n",
        "\n",
        "    Args:\n",
        "        dataset_dict: The DatasetDict to convert.\n",
        "\n",
        "    Returns:\n",
        "        A list of dictionaries in the desired format.\n",
        "    \"\"\"\n",
        "\n",
        "    converted_data = []\n",
        "    for example in dataset_dict['train']:\n",
        "        # Adding the prefixes here\n",
        "        prompt_with_prefix = \"<|im_start|>user\\n\" + example['prompt'] + \"<|im_end|>\\n\"\n",
        "        svg_with_prefix = \"<|im_start|>assistant\\n\" + example['svg'] + \"<|im_end|>\\n\"\n",
        "\n",
        "        converted_data.append(\n",
        "            prompt_with_prefix + svg_with_prefix\n",
        "        )\n",
        "    return converted_data\n",
        "\n",
        "# Example usage:\n",
        "converted_dataset = convert_dataset_dict(dataset)  # Assuming 'dataset' is your DatasetDict\n",
        "\n",
        "from datasets import Dataset\n",
        "trainer_dataset = Dataset.from_dict({\"text\": converted_dataset})\n",
        "\n",
        "print(trainer_dataset['text'])"
      ]
    },
    {
      "cell_type": "markdown",
      "metadata": {
        "id": "ndDUB23CGAC5"
      },
      "source": [
        "We look at how the conversations are structured for item 5:"
      ]
    },
    {
      "source": [
        "from datasets import Dataset\n",
        "\n",
        "from trl import SFTTrainer\n",
        "from transformers import TrainingArguments, DataCollatorForSeq2Seq\n",
        "from unsloth import is_bfloat16_supported\n",
        "\n",
        "trainer = SFTTrainer(\n",
        "    model=model,\n",
        "    tokenizer=tokenizer,\n",
        "    train_dataset=trainer_dataset,  # Updated line\n",
        "    dataset_text_field=\"text\",\n",
        "    max_seq_length=max_seq_length,\n",
        "    data_collator=DataCollatorForSeq2Seq(tokenizer=tokenizer),\n",
        "    dataset_num_proc=4,\n",
        "    packing=False,\n",
        "    args=TrainingArguments(\n",
        "        per_device_train_batch_size=1,\n",
        "        gradient_accumulation_steps=4,\n",
        "        warmup_steps=5,\n",
        "        max_steps=30,\n",
        "        learning_rate=2e-4,\n",
        "        fp16=not is_bfloat16_supported(),\n",
        "        bf16=is_bfloat16_supported(),\n",
        "        logging_steps=1,\n",
        "        optim=\"paged_adamw_8bit\",\n",
        "        weight_decay=0.01,\n",
        "        lr_scheduler_type=\"linear\",\n",
        "        seed=3407,\n",
        "        output_dir=\"outputs\",\n",
        "        report_to=\"none\",\n",
        "    ),\n",
        ")"
      ],
      "cell_type": "code",
      "metadata": {
        "id": "dReAIbucAB8-",
        "outputId": "4ee3fc90-15fb-48a9-b121-1065b3944a36",
        "colab": {
          "base_uri": "https://localhost:8080/",
          "height": 49,
          "referenced_widgets": [
            "87b779d64fb44475a7af2720c2ad559e",
            "802a189d6ed24949827ce507430dfa49",
            "1fa42621bdf64d9da5e50ba954415dc3",
            "324bce0e696642eaa3be126259f47ecf",
            "e7ff8d50af3549b4b908b8465fc70a11",
            "e1e4def081a34ba08e5d815e12437f20",
            "82ed19f3c3a5454481a1311dd5444d4c",
            "c83f32dd94fb465080b298f9eb9590c3",
            "f1b2dd5ea39a4f9eb2ac6e2e4310f68b",
            "321e2367932d4559a8d612b53b871117",
            "679dddd83ca74188a717bad1a7c5add2"
          ]
        }
      },
      "execution_count": null,
      "outputs": [
        {
          "output_type": "display_data",
          "data": {
            "text/plain": [
              "Unsloth: Tokenizing [\"text\"] (num_proc=4):   0%|          | 0/20 [00:00<?, ? examples/s]"
            ],
            "application/vnd.jupyter.widget-view+json": {
              "version_major": 2,
              "version_minor": 0,
              "model_id": "87b779d64fb44475a7af2720c2ad559e"
            }
          },
          "metadata": {}
        }
      ]
    },
    {
      "cell_type": "markdown",
      "metadata": {
        "id": "GfzTdMtvGE6w"
      },
      "source": [
        "And we see how the chat template transformed these conversations."
      ]
    },
    {
      "cell_type": "markdown",
      "metadata": {
        "id": "idAEIeSQ3xdS"
      },
      "source": [
        "<a name=\"Train\"></a>\n",
        "### Train the model\n",
        "Now let's use Huggingface TRL's `SFTTrainer`! More docs here: [TRL SFT docs](https://huggingface.co/docs/trl/sft_trainer). We do 60 steps to speed things up, but you can set `num_train_epochs=1` for a full run, and turn off `max_steps=None`. We also support TRL's `DPOTrainer`!\n",
        "\n",
        "The trainer includes our **gradient accumulation bug fix**. Read more about it here: [Blog post](https://unsloth.ai/blog/gradient)"
      ]
    },
    {
      "cell_type": "markdown",
      "metadata": {
        "id": "C_sGp5XlG6dq"
      },
      "source": [
        "We also use Unsloth's `train_on_completions` method to only train on the assistant outputs and ignore the loss on the user's inputs."
      ]
    },
    {
      "cell_type": "code",
      "source": [
        "print(trainer_dataset[0])  # Print the first example in the dataset"
      ],
      "metadata": {
        "id": "_BL9tRH6Boeo",
        "outputId": "6df1996c-ce84-4a9d-d3f1-5fce87ec089f",
        "colab": {
          "base_uri": "https://localhost:8080/"
        }
      },
      "execution_count": null,
      "outputs": [
        {
          "output_type": "stream",
          "name": "stdout",
          "text": [
            "{'text': '<|im_start|>user\\nA clean, minimalist mountain landscape design featuring layered mountains in grayscale tones with a golden sun element. The design uses simple geometric shapes to create depth and perspective.<|im_end|>\\n<|im_start|>assistant\\n<?xml version=\"1.0\" encoding=\"UTF-8\"?>\\n<svg width=\"800\" height=\"600\" viewBox=\"0 0 800 600\" xmlns=\"http://www.w3.org/2000/svg\">\\n    <!-- Background -->\\n    <rect width=\"800\" height=\"600\" fill=\"#f5f5f5\"/>\\n    \\n    <!-- Mountains -->\\n    <path d=\"M0 600 L300 200 L500 400 L800 100 L800 600 Z\" fill=\"#e0e0e0\"/>\\n    <path d=\"M0 600 L200 300 L400 500 L600 200 L800 400 L800 600 Z\" fill=\"#d0d0d0\"/>\\n    <path d=\"M0 600 L100 400 L300 550 L500 350 L700 500 L800 450 L800 600 Z\" fill=\"#c0c0c0\"/>\\n    \\n    <!-- Sun -->\\n    <circle cx=\"700\" cy=\"150\" r=\"60\" fill=\"#ffd700\"/>\\n</svg><|im_end|>\\n'}\n"
          ]
        }
      ]
    },
    {
      "cell_type": "code",
      "execution_count": null,
      "metadata": {
        "colab": {
          "base_uri": "https://localhost:8080/",
          "height": 49,
          "referenced_widgets": [
            "8c3323dfa7214493acb98fd1df48798d",
            "66468979ca414f728a8f8101871ad06f",
            "bc56c315da54492b8204c328a34ae419",
            "fd579d36692c4db2959e1bd7ac56173f",
            "6bbcf6b051f5477c81ffb36b3a720508",
            "740c54675aea47aaae98a3bf5b992fd9",
            "780b538020804ad3959a645c400922cf",
            "63cbea89b1e947518fcfb1da079e6f01",
            "51f26a27bbda4dc28259b8f5b80c4ec1",
            "313687e63f524188adc9f72fc2090750",
            "6555d96f095e42559bde414120b966c1"
          ]
        },
        "id": "juQiExuBG5Bt",
        "outputId": "a5921700-5abe-4b99-eba0-5743594d82ba"
      },
      "outputs": [
        {
          "output_type": "display_data",
          "data": {
            "text/plain": [
              "Map (num_proc=2):   0%|          | 0/20 [00:00<?, ? examples/s]"
            ],
            "application/vnd.jupyter.widget-view+json": {
              "version_major": 2,
              "version_minor": 0,
              "model_id": "8c3323dfa7214493acb98fd1df48798d"
            }
          },
          "metadata": {}
        }
      ],
      "source": [
        "from unsloth.chat_templates import train_on_responses_only\n",
        "\n",
        "trainer = train_on_responses_only(\n",
        "    trainer,\n",
        "    instruction_part=\"<|im_start|>user\\n\",\n",
        "    response_part=\"<|im_start|>assistant\\n\",\n",
        ")"
      ]
    },
    {
      "cell_type": "markdown",
      "metadata": {
        "id": "Dv1NBUozV78l"
      },
      "source": [
        "We verify masking is actually done:"
      ]
    },
    {
      "cell_type": "code",
      "execution_count": null,
      "metadata": {
        "colab": {
          "base_uri": "https://localhost:8080/",
          "height": 227
        },
        "id": "LtsMVtlkUhja",
        "outputId": "6480461f-d939-40d0-d120-052c7742ffc9"
      },
      "outputs": [
        {
          "output_type": "execute_result",
          "data": {
            "text/plain": [
              "'<|im_start|>user\\nA circuit board inspired design featuring clean lines and connection points. The design creates a modern tech aesthetic with geometric shapes and subtle opacity variations.<|im_end|>\\n<|im_start|>assistant\\n<?xml version=\"1.0\" encoding=\"UTF-8\"?>\\n<svg width=\"800\" height=\"600\" viewBox=\"0 0 800 600\" xmlns=\"http://www.w3.org/2000/svg\">\\n    <!-- Background -->\\n    <rect width=\"800\" height=\"600\" fill=\"#2d3436\"/>\\n    \\n    <!-- Circuit Board Pattern -->\\n    <g stroke=\"#00b894\" stroke-width=\"2\" fill=\"none\">\\n        <!-- Horizontal Lines -->\\n        <line x1=\"100\" y1=\"100\" x2=\"700\" y2=\"100\"/>\\n        <line x1=\"200\" y1=\"300\" x2=\"600\" y2=\"300\"/>\\n        <line x1=\"100\" y1=\"500\" x2=\"700\" y2=\"500\"/>\\n        \\n        <!-- Vertical Lines -->\\n        <line x1=\"200\" y1=\"50\" x2=\"200\" y2=\"550\"/>\\n        <line x1=\"400\" y1=\"50\" x2=\"400\" y2=\"550\"/>\\n        <line x1=\"600\" y1=\"50\" x2=\"600\" y2=\"550\"/>\\n    </g>\\n    \\n    <!-- Connection Points -->\\n    <g fill=\"#00cec9\">\\n        <circle cx=\"200\" cy=\"100\" r=\"8\"/>\\n        <circle cx=\"400\" cy=\"100\" r=\"8\"/>\\n        <circle cx=\"600\" cy=\"100\" r=\"8\"/>\\n        <circle cx=\"200\" cy=\"300\" r=\"8\"/>\\n        <circle cx=\"400\" cy=\"300\" r=\"8\"/>\\n        <circle cx=\"600\" cy=\"300\" r=\"8\"/>\\n        <circle cx=\"200\" cy=\"500\" r=\"8\"/>\\n        <circle cx=\"400\" cy=\"500\" r=\"8\"/>\\n        <circle cx=\"600\" cy=\"500\" r=\"8\"/>\\n    </g>\\n    \\n    <!-- Decorative Elements -->\\n    <rect x=\"350\" y=\"250\" width=\"100\" height=\"100\" fill=\"#fd79a8\" opacity=\"0.6\"/>\\n    <circle cx=\"150\" cy=\"450\" r=\"40\" fill=\"#a29bfe\" opacity=\"0.6\"/>\\n    <rect x=\"550\" y=\"150\" width=\"80\" height=\"80\" fill=\"#ffeaa7\" opacity=\"0.6\"/>\\n</svg><|im_end|>\\n'"
            ],
            "application/vnd.google.colaboratory.intrinsic+json": {
              "type": "string"
            }
          },
          "metadata": {},
          "execution_count": 27
        }
      ],
      "source": [
        "tokenizer.decode(trainer.train_dataset[5][\"input_ids\"])"
      ]
    },
    {
      "cell_type": "code",
      "execution_count": null,
      "metadata": {
        "colab": {
          "base_uri": "https://localhost:8080/",
          "height": 227
        },
        "id": "_rD6fl8EUxnG",
        "outputId": "b65a64f2-4963-49bf-8806-993a97f91061"
      },
      "outputs": [
        {
          "output_type": "execute_result",
          "data": {
            "text/plain": [
              "'                                   <?xml version=\"1.0\" encoding=\"UTF-8\"?>\\n<svg width=\"800\" height=\"600\" viewBox=\"0 0 800 600\" xmlns=\"http://www.w3.org/2000/svg\">\\n    <!-- Background -->\\n    <rect width=\"800\" height=\"600\" fill=\"#2d3436\"/>\\n    \\n    <!-- Circuit Board Pattern -->\\n    <g stroke=\"#00b894\" stroke-width=\"2\" fill=\"none\">\\n        <!-- Horizontal Lines -->\\n        <line x1=\"100\" y1=\"100\" x2=\"700\" y2=\"100\"/>\\n        <line x1=\"200\" y1=\"300\" x2=\"600\" y2=\"300\"/>\\n        <line x1=\"100\" y1=\"500\" x2=\"700\" y2=\"500\"/>\\n        \\n        <!-- Vertical Lines -->\\n        <line x1=\"200\" y1=\"50\" x2=\"200\" y2=\"550\"/>\\n        <line x1=\"400\" y1=\"50\" x2=\"400\" y2=\"550\"/>\\n        <line x1=\"600\" y1=\"50\" x2=\"600\" y2=\"550\"/>\\n    </g>\\n    \\n    <!-- Connection Points -->\\n    <g fill=\"#00cec9\">\\n        <circle cx=\"200\" cy=\"100\" r=\"8\"/>\\n        <circle cx=\"400\" cy=\"100\" r=\"8\"/>\\n        <circle cx=\"600\" cy=\"100\" r=\"8\"/>\\n        <circle cx=\"200\" cy=\"300\" r=\"8\"/>\\n        <circle cx=\"400\" cy=\"300\" r=\"8\"/>\\n        <circle cx=\"600\" cy=\"300\" r=\"8\"/>\\n        <circle cx=\"200\" cy=\"500\" r=\"8\"/>\\n        <circle cx=\"400\" cy=\"500\" r=\"8\"/>\\n        <circle cx=\"600\" cy=\"500\" r=\"8\"/>\\n    </g>\\n    \\n    <!-- Decorative Elements -->\\n    <rect x=\"350\" y=\"250\" width=\"100\" height=\"100\" fill=\"#fd79a8\" opacity=\"0.6\"/>\\n    <circle cx=\"150\" cy=\"450\" r=\"40\" fill=\"#a29bfe\" opacity=\"0.6\"/>\\n    <rect x=\"550\" y=\"150\" width=\"80\" height=\"80\" fill=\"#ffeaa7\" opacity=\"0.6\"/>\\n</svg><|im_end|>\\n'"
            ],
            "application/vnd.google.colaboratory.intrinsic+json": {
              "type": "string"
            }
          },
          "metadata": {},
          "execution_count": 28
        }
      ],
      "source": [
        "space = tokenizer(\" \", add_special_tokens = False).input_ids[0]\n",
        "tokenizer.decode([space if x == -100 else x for x in trainer.train_dataset[5][\"labels\"]])"
      ]
    },
    {
      "cell_type": "markdown",
      "metadata": {
        "id": "3enWUM0jV-jV"
      },
      "source": [
        "We can see the System and Instruction prompts are successfully masked!"
      ]
    },
    {
      "cell_type": "code",
      "execution_count": null,
      "metadata": {
        "colab": {
          "base_uri": "https://localhost:8080/"
        },
        "id": "2ejIt2xSNKKp",
        "outputId": "20df81a7-eda0-4e47-f132-20d05fe0bb3c"
      },
      "outputs": [
        {
          "output_type": "stream",
          "name": "stdout",
          "text": [
            "GPU = Tesla T4. Max memory = 14.741 GB.\n",
            "10.438 GB of memory reserved.\n"
          ]
        }
      ],
      "source": [
        "# @title Show current memory stats\n",
        "gpu_stats = torch.cuda.get_device_properties(0)\n",
        "start_gpu_memory = round(torch.cuda.max_memory_reserved() / 1024 / 1024 / 1024, 3)\n",
        "max_memory = round(gpu_stats.total_memory / 1024 / 1024 / 1024, 3)\n",
        "print(f\"GPU = {gpu_stats.name}. Max memory = {max_memory} GB.\")\n",
        "print(f\"{start_gpu_memory} GB of memory reserved.\")"
      ]
    },
    {
      "cell_type": "markdown",
      "metadata": {
        "id": "r3WJRxG-zoeS"
      },
      "source": [
        "We fixed a major gradient accumulation bug in all trainers. See [blog](https://unsloth.ai/blog/gradient) for more details."
      ]
    },
    {
      "cell_type": "code",
      "execution_count": null,
      "metadata": {
        "colab": {
          "base_uri": "https://localhost:8080/",
          "height": 1000
        },
        "id": "yqxqAZ7KJ4oL",
        "outputId": "8126b5e9-9153-4607-f2d6-7027cd0e4762"
      },
      "outputs": [
        {
          "output_type": "stream",
          "name": "stderr",
          "text": [
            "==((====))==  Unsloth - 2x faster free finetuning | Num GPUs used = 1\n",
            "   \\\\   /|    Num examples = 20 | Num Epochs = 6 | Total steps = 30\n",
            "O^O/ \\_/ \\    Batch size per device = 1 | Gradient accumulation steps = 4\n",
            "\\        /    Data Parallel GPUs = 1 | Total batch size (1 x 4 x 1) = 4\n",
            " \"-____-\"     Trainable parameters = 40,370,176/7,000,000,000 (0.58% trained)\n"
          ]
        },
        {
          "output_type": "stream",
          "name": "stdout",
          "text": [
            "Unsloth: Will smartly offload gradients to save VRAM!\n"
          ]
        },
        {
          "output_type": "display_data",
          "data": {
            "text/plain": [
              "<IPython.core.display.HTML object>"
            ],
            "text/html": [
              "\n",
              "    <div>\n",
              "      \n",
              "      <progress value='30' max='30' style='width:300px; height:20px; vertical-align: middle;'></progress>\n",
              "      [30/30 06:23, Epoch 6/6]\n",
              "    </div>\n",
              "    <table border=\"1\" class=\"dataframe\">\n",
              "  <thead>\n",
              " <tr style=\"text-align: left;\">\n",
              "      <th>Step</th>\n",
              "      <th>Training Loss</th>\n",
              "    </tr>\n",
              "  </thead>\n",
              "  <tbody>\n",
              "    <tr>\n",
              "      <td>1</td>\n",
              "      <td>0.231900</td>\n",
              "    </tr>\n",
              "    <tr>\n",
              "      <td>2</td>\n",
              "      <td>0.287700</td>\n",
              "    </tr>\n",
              "    <tr>\n",
              "      <td>3</td>\n",
              "      <td>0.266900</td>\n",
              "    </tr>\n",
              "    <tr>\n",
              "      <td>4</td>\n",
              "      <td>0.298100</td>\n",
              "    </tr>\n",
              "    <tr>\n",
              "      <td>5</td>\n",
              "      <td>0.289400</td>\n",
              "    </tr>\n",
              "    <tr>\n",
              "      <td>6</td>\n",
              "      <td>0.214000</td>\n",
              "    </tr>\n",
              "    <tr>\n",
              "      <td>7</td>\n",
              "      <td>0.268200</td>\n",
              "    </tr>\n",
              "    <tr>\n",
              "      <td>8</td>\n",
              "      <td>0.261800</td>\n",
              "    </tr>\n",
              "    <tr>\n",
              "      <td>9</td>\n",
              "      <td>0.167500</td>\n",
              "    </tr>\n",
              "    <tr>\n",
              "      <td>10</td>\n",
              "      <td>0.248900</td>\n",
              "    </tr>\n",
              "    <tr>\n",
              "      <td>11</td>\n",
              "      <td>0.226100</td>\n",
              "    </tr>\n",
              "    <tr>\n",
              "      <td>12</td>\n",
              "      <td>0.163400</td>\n",
              "    </tr>\n",
              "    <tr>\n",
              "      <td>13</td>\n",
              "      <td>0.195100</td>\n",
              "    </tr>\n",
              "    <tr>\n",
              "      <td>14</td>\n",
              "      <td>0.187800</td>\n",
              "    </tr>\n",
              "    <tr>\n",
              "      <td>15</td>\n",
              "      <td>0.159200</td>\n",
              "    </tr>\n",
              "    <tr>\n",
              "      <td>16</td>\n",
              "      <td>0.204100</td>\n",
              "    </tr>\n",
              "    <tr>\n",
              "      <td>17</td>\n",
              "      <td>0.142200</td>\n",
              "    </tr>\n",
              "    <tr>\n",
              "      <td>18</td>\n",
              "      <td>0.145600</td>\n",
              "    </tr>\n",
              "    <tr>\n",
              "      <td>19</td>\n",
              "      <td>0.171500</td>\n",
              "    </tr>\n",
              "    <tr>\n",
              "      <td>20</td>\n",
              "      <td>0.115300</td>\n",
              "    </tr>\n",
              "    <tr>\n",
              "      <td>21</td>\n",
              "      <td>0.193000</td>\n",
              "    </tr>\n",
              "    <tr>\n",
              "      <td>22</td>\n",
              "      <td>0.129300</td>\n",
              "    </tr>\n",
              "    <tr>\n",
              "      <td>23</td>\n",
              "      <td>0.086300</td>\n",
              "    </tr>\n",
              "    <tr>\n",
              "      <td>24</td>\n",
              "      <td>0.132500</td>\n",
              "    </tr>\n",
              "    <tr>\n",
              "      <td>25</td>\n",
              "      <td>0.097500</td>\n",
              "    </tr>\n",
              "    <tr>\n",
              "      <td>26</td>\n",
              "      <td>0.102400</td>\n",
              "    </tr>\n",
              "    <tr>\n",
              "      <td>27</td>\n",
              "      <td>0.100500</td>\n",
              "    </tr>\n",
              "    <tr>\n",
              "      <td>28</td>\n",
              "      <td>0.090700</td>\n",
              "    </tr>\n",
              "    <tr>\n",
              "      <td>29</td>\n",
              "      <td>0.106500</td>\n",
              "    </tr>\n",
              "    <tr>\n",
              "      <td>30</td>\n",
              "      <td>0.112200</td>\n",
              "    </tr>\n",
              "  </tbody>\n",
              "</table><p>"
            ]
          },
          "metadata": {}
        }
      ],
      "source": [
        "trainer_stats = trainer.train()"
      ]
    },
    {
      "cell_type": "code",
      "execution_count": null,
      "metadata": {
        "cellView": "form",
        "colab": {
          "base_uri": "https://localhost:8080/"
        },
        "id": "pCqnaKmlO1U9",
        "outputId": "6d6ad4b4-2ea4-4601-847b-8ec27f2ec2e5"
      },
      "outputs": [
        {
          "output_type": "stream",
          "name": "stdout",
          "text": [
            "412.9074 seconds used for training.\n",
            "6.88 minutes used for training.\n",
            "Peak reserved memory = 10.438 GB.\n",
            "Peak reserved memory for training = 0.0 GB.\n",
            "Peak reserved memory % of max memory = 70.809 %.\n",
            "Peak reserved memory for training % of max memory = 0.0 %.\n"
          ]
        }
      ],
      "source": [
        "# @title Show final memory and time stats\n",
        "used_memory = round(torch.cuda.max_memory_reserved() / 1024 / 1024 / 1024, 3)\n",
        "used_memory_for_lora = round(used_memory - start_gpu_memory, 3)\n",
        "used_percentage = round(used_memory / max_memory * 100, 3)\n",
        "lora_percentage = round(used_memory_for_lora / max_memory * 100, 3)\n",
        "print(f\"{trainer_stats.metrics['train_runtime']} seconds used for training.\")\n",
        "print(\n",
        "    f\"{round(trainer_stats.metrics['train_runtime']/60, 2)} minutes used for training.\"\n",
        ")\n",
        "print(f\"Peak reserved memory = {used_memory} GB.\")\n",
        "print(f\"Peak reserved memory for training = {used_memory_for_lora} GB.\")\n",
        "print(f\"Peak reserved memory % of max memory = {used_percentage} %.\")\n",
        "print(f\"Peak reserved memory for training % of max memory = {lora_percentage} %.\")"
      ]
    },
    {
      "cell_type": "markdown",
      "metadata": {
        "id": "ekOmTR1hSNcr"
      },
      "source": [
        "<a name=\"Inference\"></a>\n",
        "### Inference\n",
        "Let's run the model! You can change the instruction and input - leave the output blank!\n",
        "\n",
        "**[NEW] Try 2x faster inference in a free Colab for Llama-3.1 8b Instruct [here](https://colab.research.google.com/github/unslothai/notebooks/blob/main/nb/Unsloth_Studio.ipynb)**\n",
        "\n",
        "We use `min_p = 0.1` and `temperature = 1.5`. Read this [Tweet](https://x.com/menhguin/status/1826132708508213629) for more information on why."
      ]
    },
    {
      "cell_type": "code",
      "execution_count": null,
      "metadata": {
        "colab": {
          "base_uri": "https://localhost:8080/"
        },
        "id": "kR3gIAX-SM2q",
        "outputId": "1edbe683-3905-4eb5-958b-3a72918445de"
      },
      "outputs": [
        {
          "output_type": "execute_result",
          "data": {
            "text/plain": [
              "['<|im_start|>system\\nYou are Qwen, created by Alibaba Cloud. You are a helpful assistant.<|im_end|>\\n<|im_start|>user\\npurple pyramids spiraling around a bronze cone<|im_end|>\\n<|im_start|>assistant\\n<?xml version=\"1.0\" encoding=\"UTF-8\"?>\\n<svg width=\"400\" height=\"400\" viewBox=\"0 0 400 400\" xmlns=\"http://www.w3.org/2000/svg\">\\n    <!-- Background -->\\n    <rect width=\"400\" height=\"400\" fill=\"#f0f4f8\"/>\\n    \\n    <!-- Pyramids -->\\n    <g transform=\"translate(200, 200)\">\\n        <!-- Purple Pyramid 1 -->\\n        <path d=\"M0,0 L50,-100 L100,0 Z\" fill=\"#7e57c2\"/>\\n        \\n        <!-- Purple Pyramid 2 -->\\n        <path d=\"M0,0 L-50,-100 L-100,0 Z\" fill=\"#7e57c2\" transform=\"rotate(120)\"/>\\n        \\n        <!-- Purple Pyramid 3 -->\\n        <path d=\"M0,0 L-50,-100 L50,-100 Z\" fill=\"#7e57c2\" transform=\"rotate(240)\"/>\\n    </g>\\n    \\n    <!-- Bronze Cone -->\\n    <path d=\"M200,400 L300,300 L100,300 Z\" fill=\"#cd7f32\"/>\\n    \\n    <!-- Center Point -->\\n    <circle cx=\"200\" cy=\"200\" r=\"5\" fill=\"#333\"/>\\n</svg><|repo_name|><?xml version=\"1.0\" encoding=\"UTF-8\"?>\\n<svg width=\"400\" height=\"400\" viewBox=\"0 0 400 400\" xmlns=\"http://www.w3.org/2000/svg\">\\n    <!-- Background -->\\n    <rect width=\"400\" height=\"400\" fill=\"#f0f4f8\"/>\\n    \\n    <!-- Pyramids -->\\n    <g transform=\"translate(200, 200)\">\\n        <!-- Purple Pyramid 1 -->\\n        <path d=\"M0,0 L50,-100 L100,0 Z\" fill=\"#7e57c2\"/>\\n        \\n        <!-- Purple Pyramid 2 -->\\n        <path d=\"M0,0 L-50,-100 L-100,0 Z\" fill=\"#7e57c2\" transform=\"rotate(120)\"/>\\n        \\n        <!-- Purple Pyramid 3 -->\\n        <path d=\"M0,0 L-50,-100 L50,-100 Z\" fill=\"#7e57c2\" transform=\"rotate(240)\"/>\\n    </g>\\n    \\n    <!-- Bronze Cone -->\\n    <path d=\"M200,400 L300,300 L100,300 Z\" fill=\"#cd7f32\"/>\\n    \\n    <!-- Center Point -->\\n    <circle cx=\"200\" cy=\"200\" r=\"5\" fill=\"#333\"/>\\n</svg>#\\n<?xml version=\"1.0\" encoding=\"UTF-8\"?>\\n<svg width=\"400\" height=\"400\" viewBox=\"0 0 400 400\" xmlns=\"http://www.w3.org/2000/svg\">\\n    <!-- Background -->\\n    <rect width=\"400\" height=\"400\" fill=\"#f0f4f8\"/>\\n    \\n    <!-- Pyramids -->\\n    <g transform=\"translate(200, 200)\">\\n        <!-- Purple Pyramid 1 -->\\n        <path d=\"M0,0 L50,-100 L100,0 Z\" fill=\"#7e57c2\"/>\\n        \\n        <!-- Purple Pyramid 2 -->\\n        <path d=\"M0,0 L-50,-100 L-100,0 Z\" fill=\"#7e57c2\" transform=\"rotate(120)\"/>\\n        \\n        <!-- Purple Pyramid 3 -->\\n        <path d=\"M0,0 L-50,-100 L50,-100 Z\" fill=\"#7e57c2\" transform=\"rotate(240)\"/>\\n    </g>\\n    \\n    <!-- Bronze Cone -->\\n    <path d=\"M200,400 L300,300 L100,300 Z\" fill=\"#cd7f32\"/>\\n    \\n    <!-- Center Point -->\\n    <circle cx=\"200\" cy=\"200\" r=\"5\" fill=\"#333']"
            ]
          },
          "metadata": {},
          "execution_count": 33
        }
      ],
      "source": [
        "from unsloth.chat_templates import get_chat_template\n",
        "\n",
        "tokenizer = get_chat_template(\n",
        "    tokenizer,\n",
        "    chat_template = \"qwen-2.5\",\n",
        ")\n",
        "FastLanguageModel.for_inference(model) # Enable native 2x faster inference\n",
        "\n",
        "messages = [\n",
        "    {\"role\": \"user\", \"content\": \"purple pyramids spiraling around a bronze cone\"},\n",
        "]\n",
        "inputs = tokenizer.apply_chat_template(\n",
        "    messages,\n",
        "    tokenize = True,\n",
        "    add_generation_prompt = True, # Must add for generation\n",
        "    return_tensors = \"pt\",\n",
        ").to(\"cuda\")\n",
        "\n",
        "outputs = model.generate(input_ids = inputs, max_new_tokens = 1, use_cache = True,\n",
        "                         temperature = 1.5, min_p = 0.1)\n",
        "tokenizer.batch_decode(outputs)"
      ]
    },
    {
      "cell_type": "markdown",
      "metadata": {
        "id": "CrSvZObor0lY"
      },
      "source": [
        " You can also use a `TextStreamer` for continuous inference - so you can see the generation token by token, instead of waiting the whole time!"
      ]
    },
    {
      "cell_type": "code",
      "execution_count": null,
      "metadata": {
        "colab": {
          "base_uri": "https://localhost:8080/",
          "height": 1000
        },
        "id": "e2pEuRb1r2Vg",
        "outputId": "5871b40d-a69b-441d-f52b-8a076165ab7f"
      },
      "outputs": [
        {
          "output_type": "stream",
          "name": "stdout",
          "text": [
            "<?xml version=\"1.0\" encoding=\"UTF-8\"?>\n",
            "<svg width=\"400\" height=\"400\" viewBox=\"0 0 400 400\" xmlns=\"http://www.w3.org/2000/svg\">\n",
            "    <!-- Background -->\n",
            "    <rect width=\"400\" height=\"400\" fill=\"#f0f4f8\"/>\n",
            "    \n",
            "    <!-- Pyramids -->\n",
            "    <g transform=\"translate(200, 200)\">\n",
            "        <!-- Purple Pyramid 1 -->\n",
            "        <path d=\"M0,0 L50,-100 L100,0 Z\" fill=\"#7e57c2\"/>\n",
            "        \n",
            "        <!-- Purple Pyramid 2 -->\n",
            "        <path d=\"M0,0 L-50,-100 L-100,0 Z\" fill=\"#7e57c2\" transform=\"rotate(120)\"/>\n",
            "        \n",
            "        <!-- Purple Pyramid 3 -->\n",
            "        <path d=\"M0,0 L-50,-100 L50,-100 Z\" fill=\"#7e57c2\" transform=\"rotate(240)\"/>\n",
            "    </g>\n",
            "    \n",
            "    <!-- Bronze Cone -->\n",
            "    <path d=\"M200,400 L300,300 L100,300 Z\" fill=\"#cd7f32\"/>\n",
            "    \n",
            "    <!-- Center Point -->\n",
            "    <circle cx=\"200\" cy=\"200\" r=\"5\" fill=\"#333\"/>\n",
            "</svg><|repo_name|><?xml version=\"1.0\" encoding=\"UTF-8\"?>\n",
            "<svg width=\"400\" height=\"400\" viewBox=\"0 0 400 400\" xmlns=\"http://www.w3.org/2000/svg\">\n",
            "    <!-- Background -->\n",
            "    <rect width=\"400\" height=\"400\" fill=\"#f0f4f8\"/>\n",
            "    \n",
            "    <!-- Pyramids -->\n",
            "    <g transform=\"translate(200, 200)\">\n",
            "        <!-- Purple Pyramid 1 -->\n",
            "        <path d=\"M0,0 L50,-100 L100,0 Z\" fill=\"#7e57c2\"/>\n",
            "        \n",
            "        <!-- Purple Pyramid 2 -->\n",
            "        <path d=\"M0,0 L-50,-100 L-100,0 Z\" fill=\"#7e57c2\" transform=\"rotate(120)\"/>\n",
            "        \n",
            "        <!-- Purple Pyramid 3 -->\n",
            "        <path d=\"M0,0 L-50,-100 L50,-100 Z\" fill=\"#7e57c2\" transform=\"rotate(240)\"/>\n",
            "    </g>\n",
            "    \n",
            "    <!-- Bronze Cone -->\n",
            "    <path d=\"M200,400 L300,300 L100,300 Z\" fill=\"#cd7f32\"/>\n",
            "    \n",
            "    <!-- Center Point -->\n",
            "    <circle cx=\"200\" cy=\"200\" r=\"5\" fill=\"#333\"/>\n",
            "</svg>#\n",
            "<?xml version=\"1.0\" encoding=\"UTF-8\"?>\n",
            "<svg width=\"400\" height=\"400\" viewBox=\"0 0 400 400\" xmlns=\"http://www.w3.org/2000/svg\">\n",
            "    <!-- Background -->\n",
            "    <rect width=\"400\" height=\"400\" fill=\"#f0f4f8\"/>\n",
            "    \n",
            "    <!-- Pyramids -->\n",
            "    <g transform=\"translate(200, 200)\">\n",
            "        <!-- Purple Pyramid 1 -->\n",
            "        <path d=\"M0,0 L50,-100 L100,0 Z\" fill=\"#7e57c2\"/>\n",
            "        \n",
            "        <!-- Purple Pyramid 2 -->\n",
            "        <path d=\"M0,0 L-50,-100 L-100,0 Z\" fill=\"#7e57c2\" transform=\"rotate(120)\"/>\n",
            "        \n",
            "        <!-- Purple Pyramid 3 -->\n",
            "        <path d=\"M0,0 L-50,-100 L50,-100 Z\" fill=\"#7e57c2\" transform=\"rotate(240)\"/>\n",
            "    </g>\n",
            "    \n",
            "    <!-- Bronze Cone -->\n",
            "    <path d=\"M200,400 L300,300 L100,300 Z\" fill=\"#cd7f32\"/>\n",
            "    \n",
            "    <!-- Center Point -->\n",
            "    <circle cx=\"200\" cy=\"200\" r=\"5\" fill=\"#333\"/>\n",
            "</svg>#\n",
            "<?xml version=\"1.0\" encoding=\"UTF-8\"?>\n",
            "<svg width=\"400\" height=\"400\" viewBox=\"0 0 400 400\" xmlns=\"http://www.w3.org/2000/svg\">\n",
            "    <!-- Background -->\n",
            "    <rect width=\"400\" height=\"400\" fill=\"#f0f4f8\"/>\n",
            "    \n",
            "    <!-- Pyramids -->\n",
            "    <g transform=\"translate(200, 200)\">\n",
            "        <!-- Purple Pyramid 1 -->\n",
            "        <path d=\"M0,0 L50,-100 L100,0 Z\" fill=\"#7e57c2\"/>\n",
            "        \n",
            "        <!-- Purple Pyramid 2 -->\n",
            "        <path d=\"M0,0 L-50,-100 L-100,0 Z\" fill=\"#7e57c2\" transform=\"rotate(120)\"/>\n",
            "        \n",
            "        <!-- Purple Pyramid 3 -->\n",
            "        <path d=\"M0,0 L-50,-100 L50,-100 Z\" fill=\"#7e57c2\" transform=\"rotate(240)\"/>\n",
            "    </g>\n",
            "    \n",
            "    <!-- Bronze Cone -->\n",
            "    <path d=\"M200,400 L300,300 L100,300 Z\" fill=\"#cd7f32\"/>\n",
            "    \n",
            "    <!-- Center Point -->\n",
            "    <circle cx=\"200\" "
          ]
        },
        {
          "output_type": "error",
          "ename": "KeyboardInterrupt",
          "evalue": "",
          "traceback": [
            "\u001b[0;31m---------------------------------------------------------------------------\u001b[0m",
            "\u001b[0;31mKeyboardInterrupt\u001b[0m                         Traceback (most recent call last)",
            "\u001b[0;32m<ipython-input-34-2ec2a6fecf21>\u001b[0m in \u001b[0;36m<cell line: 0>\u001b[0;34m()\u001b[0m\n\u001b[1;32m     13\u001b[0m \u001b[0;32mfrom\u001b[0m \u001b[0mtransformers\u001b[0m \u001b[0;32mimport\u001b[0m \u001b[0mTextStreamer\u001b[0m\u001b[0;34m\u001b[0m\u001b[0;34m\u001b[0m\u001b[0m\n\u001b[1;32m     14\u001b[0m \u001b[0mtext_streamer\u001b[0m \u001b[0;34m=\u001b[0m \u001b[0mTextStreamer\u001b[0m\u001b[0;34m(\u001b[0m\u001b[0mtokenizer\u001b[0m\u001b[0;34m,\u001b[0m \u001b[0mskip_prompt\u001b[0m \u001b[0;34m=\u001b[0m \u001b[0;32mTrue\u001b[0m\u001b[0;34m)\u001b[0m\u001b[0;34m\u001b[0m\u001b[0;34m\u001b[0m\u001b[0m\n\u001b[0;32m---> 15\u001b[0;31m _ = model.generate(input_ids = inputs, streamer = text_streamer, max_new_tokens = 5000,\n\u001b[0m\u001b[1;32m     16\u001b[0m                    use_cache = True, temperature = 1.5, min_p = 0.1)\n",
            "\u001b[0;32m/usr/local/lib/python3.11/dist-packages/peft/peft_model.py\u001b[0m in \u001b[0;36mgenerate\u001b[0;34m(self, *args, **kwargs)\u001b[0m\n\u001b[1;32m   1836\u001b[0m                 \u001b[0;32mwith\u001b[0m \u001b[0mself\u001b[0m\u001b[0;34m.\u001b[0m\u001b[0m_enable_peft_forward_hooks\u001b[0m\u001b[0;34m(\u001b[0m\u001b[0;34m*\u001b[0m\u001b[0margs\u001b[0m\u001b[0;34m,\u001b[0m \u001b[0;34m**\u001b[0m\u001b[0mkwargs\u001b[0m\u001b[0;34m)\u001b[0m\u001b[0;34m:\u001b[0m\u001b[0;34m\u001b[0m\u001b[0;34m\u001b[0m\u001b[0m\n\u001b[1;32m   1837\u001b[0m                     \u001b[0mkwargs\u001b[0m \u001b[0;34m=\u001b[0m \u001b[0;34m{\u001b[0m\u001b[0mk\u001b[0m\u001b[0;34m:\u001b[0m \u001b[0mv\u001b[0m \u001b[0;32mfor\u001b[0m \u001b[0mk\u001b[0m\u001b[0;34m,\u001b[0m \u001b[0mv\u001b[0m \u001b[0;32min\u001b[0m \u001b[0mkwargs\u001b[0m\u001b[0;34m.\u001b[0m\u001b[0mitems\u001b[0m\u001b[0;34m(\u001b[0m\u001b[0;34m)\u001b[0m \u001b[0;32mif\u001b[0m \u001b[0mk\u001b[0m \u001b[0;32mnot\u001b[0m \u001b[0;32min\u001b[0m \u001b[0mself\u001b[0m\u001b[0;34m.\u001b[0m\u001b[0mspecial_peft_forward_args\u001b[0m\u001b[0;34m}\u001b[0m\u001b[0;34m\u001b[0m\u001b[0;34m\u001b[0m\u001b[0m\n\u001b[0;32m-> 1838\u001b[0;31m                     \u001b[0moutputs\u001b[0m \u001b[0;34m=\u001b[0m \u001b[0mself\u001b[0m\u001b[0;34m.\u001b[0m\u001b[0mbase_model\u001b[0m\u001b[0;34m.\u001b[0m\u001b[0mgenerate\u001b[0m\u001b[0;34m(\u001b[0m\u001b[0;34m*\u001b[0m\u001b[0margs\u001b[0m\u001b[0;34m,\u001b[0m \u001b[0;34m**\u001b[0m\u001b[0mkwargs\u001b[0m\u001b[0;34m)\u001b[0m\u001b[0;34m\u001b[0m\u001b[0;34m\u001b[0m\u001b[0m\n\u001b[0m\u001b[1;32m   1839\u001b[0m             \u001b[0;32melse\u001b[0m\u001b[0;34m:\u001b[0m\u001b[0;34m\u001b[0m\u001b[0;34m\u001b[0m\u001b[0m\n\u001b[1;32m   1840\u001b[0m                 \u001b[0moutputs\u001b[0m \u001b[0;34m=\u001b[0m \u001b[0mself\u001b[0m\u001b[0;34m.\u001b[0m\u001b[0mbase_model\u001b[0m\u001b[0;34m.\u001b[0m\u001b[0mgenerate\u001b[0m\u001b[0;34m(\u001b[0m\u001b[0;34m**\u001b[0m\u001b[0mkwargs\u001b[0m\u001b[0;34m)\u001b[0m\u001b[0;34m\u001b[0m\u001b[0;34m\u001b[0m\u001b[0m\n",
            "\u001b[0;32m/usr/local/lib/python3.11/dist-packages/unsloth/models/llama.py\u001b[0m in \u001b[0;36munsloth_fast_generate\u001b[0;34m(self, *args, **kwargs)\u001b[0m\n\u001b[1;32m   1572\u001b[0m     \u001b[0;31m# Mixed precision autocast\u001b[0m\u001b[0;34m\u001b[0m\u001b[0;34m\u001b[0m\u001b[0m\n\u001b[1;32m   1573\u001b[0m     \u001b[0;32mwith\u001b[0m \u001b[0mtorch\u001b[0m\u001b[0;34m.\u001b[0m\u001b[0minference_mode\u001b[0m\u001b[0;34m(\u001b[0m\u001b[0;34m)\u001b[0m\u001b[0;34m,\u001b[0m \u001b[0mtorch\u001b[0m\u001b[0;34m.\u001b[0m\u001b[0mautocast\u001b[0m\u001b[0;34m(\u001b[0m\u001b[0mdevice_type\u001b[0m \u001b[0;34m=\u001b[0m \u001b[0;34m\"cuda\"\u001b[0m\u001b[0;34m,\u001b[0m \u001b[0mdtype\u001b[0m \u001b[0;34m=\u001b[0m \u001b[0mdtype\u001b[0m\u001b[0;34m)\u001b[0m\u001b[0;34m:\u001b[0m\u001b[0;34m\u001b[0m\u001b[0;34m\u001b[0m\u001b[0m\n\u001b[0;32m-> 1574\u001b[0;31m         \u001b[0moutput\u001b[0m \u001b[0;34m=\u001b[0m \u001b[0mself\u001b[0m\u001b[0;34m.\u001b[0m\u001b[0m_old_generate\u001b[0m\u001b[0;34m(\u001b[0m\u001b[0;34m*\u001b[0m\u001b[0margs\u001b[0m\u001b[0;34m,\u001b[0m \u001b[0;34m**\u001b[0m\u001b[0mkwargs\u001b[0m\u001b[0;34m)\u001b[0m\u001b[0;34m\u001b[0m\u001b[0;34m\u001b[0m\u001b[0m\n\u001b[0m\u001b[1;32m   1575\u001b[0m     \u001b[0;32mpass\u001b[0m\u001b[0;34m\u001b[0m\u001b[0;34m\u001b[0m\u001b[0m\n\u001b[1;32m   1576\u001b[0m \u001b[0;34m\u001b[0m\u001b[0m\n",
            "\u001b[0;32m/usr/local/lib/python3.11/dist-packages/torch/utils/_contextlib.py\u001b[0m in \u001b[0;36mdecorate_context\u001b[0;34m(*args, **kwargs)\u001b[0m\n\u001b[1;32m    114\u001b[0m     \u001b[0;32mdef\u001b[0m \u001b[0mdecorate_context\u001b[0m\u001b[0;34m(\u001b[0m\u001b[0;34m*\u001b[0m\u001b[0margs\u001b[0m\u001b[0;34m,\u001b[0m \u001b[0;34m**\u001b[0m\u001b[0mkwargs\u001b[0m\u001b[0;34m)\u001b[0m\u001b[0;34m:\u001b[0m\u001b[0;34m\u001b[0m\u001b[0;34m\u001b[0m\u001b[0m\n\u001b[1;32m    115\u001b[0m         \u001b[0;32mwith\u001b[0m \u001b[0mctx_factory\u001b[0m\u001b[0;34m(\u001b[0m\u001b[0;34m)\u001b[0m\u001b[0;34m:\u001b[0m\u001b[0;34m\u001b[0m\u001b[0;34m\u001b[0m\u001b[0m\n\u001b[0;32m--> 116\u001b[0;31m             \u001b[0;32mreturn\u001b[0m \u001b[0mfunc\u001b[0m\u001b[0;34m(\u001b[0m\u001b[0;34m*\u001b[0m\u001b[0margs\u001b[0m\u001b[0;34m,\u001b[0m \u001b[0;34m**\u001b[0m\u001b[0mkwargs\u001b[0m\u001b[0;34m)\u001b[0m\u001b[0;34m\u001b[0m\u001b[0;34m\u001b[0m\u001b[0m\n\u001b[0m\u001b[1;32m    117\u001b[0m \u001b[0;34m\u001b[0m\u001b[0m\n\u001b[1;32m    118\u001b[0m     \u001b[0;32mreturn\u001b[0m \u001b[0mdecorate_context\u001b[0m\u001b[0;34m\u001b[0m\u001b[0;34m\u001b[0m\u001b[0m\n",
            "\u001b[0;32m/usr/local/lib/python3.11/dist-packages/transformers/generation/utils.py\u001b[0m in \u001b[0;36mgenerate\u001b[0;34m(self, inputs, generation_config, logits_processor, stopping_criteria, prefix_allowed_tokens_fn, synced_gpus, assistant_model, streamer, negative_prompt_ids, negative_prompt_attention_mask, use_model_defaults, **kwargs)\u001b[0m\n\u001b[1;32m   2324\u001b[0m \u001b[0;34m\u001b[0m\u001b[0m\n\u001b[1;32m   2325\u001b[0m             \u001b[0;31m# 12. run sample (it degenerates to greedy search when `generation_config.do_sample=False`)\u001b[0m\u001b[0;34m\u001b[0m\u001b[0;34m\u001b[0m\u001b[0m\n\u001b[0;32m-> 2326\u001b[0;31m             result = self._sample(\n\u001b[0m\u001b[1;32m   2327\u001b[0m                 \u001b[0minput_ids\u001b[0m\u001b[0;34m,\u001b[0m\u001b[0;34m\u001b[0m\u001b[0;34m\u001b[0m\u001b[0m\n\u001b[1;32m   2328\u001b[0m                 \u001b[0mlogits_processor\u001b[0m\u001b[0;34m=\u001b[0m\u001b[0mprepared_logits_processor\u001b[0m\u001b[0;34m,\u001b[0m\u001b[0;34m\u001b[0m\u001b[0;34m\u001b[0m\u001b[0m\n",
            "\u001b[0;32m/usr/local/lib/python3.11/dist-packages/transformers/generation/utils.py\u001b[0m in \u001b[0;36m_sample\u001b[0;34m(self, input_ids, logits_processor, stopping_criteria, generation_config, synced_gpus, streamer, **model_kwargs)\u001b[0m\n\u001b[1;32m   3287\u001b[0m                 \u001b[0mis_prefill\u001b[0m \u001b[0;34m=\u001b[0m \u001b[0;32mFalse\u001b[0m\u001b[0;34m\u001b[0m\u001b[0;34m\u001b[0m\u001b[0m\n\u001b[1;32m   3288\u001b[0m             \u001b[0;32melse\u001b[0m\u001b[0;34m:\u001b[0m\u001b[0;34m\u001b[0m\u001b[0;34m\u001b[0m\u001b[0m\n\u001b[0;32m-> 3289\u001b[0;31m                 \u001b[0moutputs\u001b[0m \u001b[0;34m=\u001b[0m \u001b[0mmodel_forward\u001b[0m\u001b[0;34m(\u001b[0m\u001b[0;34m**\u001b[0m\u001b[0mmodel_inputs\u001b[0m\u001b[0;34m,\u001b[0m \u001b[0mreturn_dict\u001b[0m\u001b[0;34m=\u001b[0m\u001b[0;32mTrue\u001b[0m\u001b[0;34m)\u001b[0m\u001b[0;34m\u001b[0m\u001b[0;34m\u001b[0m\u001b[0m\n\u001b[0m\u001b[1;32m   3290\u001b[0m \u001b[0;34m\u001b[0m\u001b[0m\n\u001b[1;32m   3291\u001b[0m             \u001b[0;31m# synced_gpus: don't waste resources running the code we don't need; kwargs must be updated before skipping\u001b[0m\u001b[0;34m\u001b[0m\u001b[0;34m\u001b[0m\u001b[0m\n",
            "\u001b[0;32m/usr/local/lib/python3.11/dist-packages/torch/nn/modules/module.py\u001b[0m in \u001b[0;36m_wrapped_call_impl\u001b[0;34m(self, *args, **kwargs)\u001b[0m\n\u001b[1;32m   1737\u001b[0m             \u001b[0;32mreturn\u001b[0m \u001b[0mself\u001b[0m\u001b[0;34m.\u001b[0m\u001b[0m_compiled_call_impl\u001b[0m\u001b[0;34m(\u001b[0m\u001b[0;34m*\u001b[0m\u001b[0margs\u001b[0m\u001b[0;34m,\u001b[0m \u001b[0;34m**\u001b[0m\u001b[0mkwargs\u001b[0m\u001b[0;34m)\u001b[0m  \u001b[0;31m# type: ignore[misc]\u001b[0m\u001b[0;34m\u001b[0m\u001b[0;34m\u001b[0m\u001b[0m\n\u001b[1;32m   1738\u001b[0m         \u001b[0;32melse\u001b[0m\u001b[0;34m:\u001b[0m\u001b[0;34m\u001b[0m\u001b[0;34m\u001b[0m\u001b[0m\n\u001b[0;32m-> 1739\u001b[0;31m             \u001b[0;32mreturn\u001b[0m \u001b[0mself\u001b[0m\u001b[0;34m.\u001b[0m\u001b[0m_call_impl\u001b[0m\u001b[0;34m(\u001b[0m\u001b[0;34m*\u001b[0m\u001b[0margs\u001b[0m\u001b[0;34m,\u001b[0m \u001b[0;34m**\u001b[0m\u001b[0mkwargs\u001b[0m\u001b[0;34m)\u001b[0m\u001b[0;34m\u001b[0m\u001b[0;34m\u001b[0m\u001b[0m\n\u001b[0m\u001b[1;32m   1740\u001b[0m \u001b[0;34m\u001b[0m\u001b[0m\n\u001b[1;32m   1741\u001b[0m     \u001b[0;31m# torchrec tests the code consistency with the following code\u001b[0m\u001b[0;34m\u001b[0m\u001b[0;34m\u001b[0m\u001b[0m\n",
            "\u001b[0;32m/usr/local/lib/python3.11/dist-packages/torch/nn/modules/module.py\u001b[0m in \u001b[0;36m_call_impl\u001b[0;34m(self, *args, **kwargs)\u001b[0m\n\u001b[1;32m   1748\u001b[0m                 \u001b[0;32mor\u001b[0m \u001b[0m_global_backward_pre_hooks\u001b[0m \u001b[0;32mor\u001b[0m \u001b[0m_global_backward_hooks\u001b[0m\u001b[0;34m\u001b[0m\u001b[0;34m\u001b[0m\u001b[0m\n\u001b[1;32m   1749\u001b[0m                 or _global_forward_hooks or _global_forward_pre_hooks):\n\u001b[0;32m-> 1750\u001b[0;31m             \u001b[0;32mreturn\u001b[0m \u001b[0mforward_call\u001b[0m\u001b[0;34m(\u001b[0m\u001b[0;34m*\u001b[0m\u001b[0margs\u001b[0m\u001b[0;34m,\u001b[0m \u001b[0;34m**\u001b[0m\u001b[0mkwargs\u001b[0m\u001b[0;34m)\u001b[0m\u001b[0;34m\u001b[0m\u001b[0;34m\u001b[0m\u001b[0m\n\u001b[0m\u001b[1;32m   1751\u001b[0m \u001b[0;34m\u001b[0m\u001b[0m\n\u001b[1;32m   1752\u001b[0m         \u001b[0mresult\u001b[0m \u001b[0;34m=\u001b[0m \u001b[0;32mNone\u001b[0m\u001b[0;34m\u001b[0m\u001b[0;34m\u001b[0m\u001b[0m\n",
            "\u001b[0;32m/usr/local/lib/python3.11/dist-packages/unsloth/models/llama.py\u001b[0m in \u001b[0;36m_CausalLM_fast_forward\u001b[0;34m(self, input_ids, causal_mask, attention_mask, position_ids, past_key_values, inputs_embeds, labels, use_cache, output_attentions, output_hidden_states, return_dict, num_logits_to_keep, logits_to_keep, *args, **kwargs)\u001b[0m\n\u001b[1;32m   1024\u001b[0m     ) -> Union[Tuple, CausalLMOutputWithPast]:\n\u001b[1;32m   1025\u001b[0m         \u001b[0;32mif\u001b[0m \u001b[0mpast_key_values\u001b[0m \u001b[0;32mis\u001b[0m \u001b[0;32mnot\u001b[0m \u001b[0;32mNone\u001b[0m\u001b[0;34m:\u001b[0m\u001b[0;34m\u001b[0m\u001b[0;34m\u001b[0m\u001b[0m\n\u001b[0;32m-> 1026\u001b[0;31m             outputs = fast_forward_inference(\n\u001b[0m\u001b[1;32m   1027\u001b[0m                 \u001b[0mself\u001b[0m\u001b[0;34m,\u001b[0m\u001b[0;34m\u001b[0m\u001b[0;34m\u001b[0m\u001b[0m\n\u001b[1;32m   1028\u001b[0m                 \u001b[0minput_ids\u001b[0m\u001b[0;34m,\u001b[0m\u001b[0;34m\u001b[0m\u001b[0;34m\u001b[0m\u001b[0m\n",
            "\u001b[0;32m/usr/local/lib/python3.11/dist-packages/unsloth/models/llama.py\u001b[0m in \u001b[0;36mLlamaModel_fast_forward_inference\u001b[0;34m(self, input_ids, past_key_values, position_ids, attention_mask)\u001b[0m\n\u001b[1;32m    960\u001b[0m             \u001b[0mvariance\u001b[0m \u001b[0;34m=\u001b[0m \u001b[0mvariance\u001b[0m\u001b[0;34m,\u001b[0m\u001b[0;34m\u001b[0m\u001b[0;34m\u001b[0m\u001b[0m\n\u001b[1;32m    961\u001b[0m         )\n\u001b[0;32m--> 962\u001b[0;31m         X, present_key_value = LlamaAttention_fast_forward_inference(\n\u001b[0m\u001b[1;32m    963\u001b[0m             \u001b[0mdecoder_layer\u001b[0m\u001b[0;34m.\u001b[0m\u001b[0mself_attn\u001b[0m\u001b[0;34m,\u001b[0m\u001b[0;34m\u001b[0m\u001b[0;34m\u001b[0m\u001b[0m\n\u001b[1;32m    964\u001b[0m             \u001b[0mhidden_states\u001b[0m \u001b[0;34m=\u001b[0m \u001b[0mX\u001b[0m\u001b[0;34m,\u001b[0m\u001b[0;34m\u001b[0m\u001b[0;34m\u001b[0m\u001b[0m\n",
            "\u001b[0;32m/usr/local/lib/python3.11/dist-packages/unsloth/models/llama.py\u001b[0m in \u001b[0;36mLlamaAttention_fast_forward_inference\u001b[0;34m(self, hidden_states, past_key_value, position_ids, do_prefill, attention_mask)\u001b[0m\n\u001b[1;32m    241\u001b[0m     \u001b[0;31m# Vn = torch.cat([V1, Vn], dim = 2)\u001b[0m\u001b[0;34m\u001b[0m\u001b[0;34m\u001b[0m\u001b[0m\n\u001b[1;32m    242\u001b[0m     \u001b[0mself\u001b[0m\u001b[0;34m.\u001b[0m\u001b[0mpaged_attention_K\u001b[0m\u001b[0;34m[\u001b[0m\u001b[0mseq_len\u001b[0m\u001b[0;34m]\u001b[0m \u001b[0;34m=\u001b[0m \u001b[0mKn\u001b[0m\u001b[0;34m.\u001b[0m\u001b[0mpermute\u001b[0m\u001b[0;34m(\u001b[0m\u001b[0;36m2\u001b[0m\u001b[0;34m,\u001b[0m \u001b[0;36m0\u001b[0m\u001b[0;34m,\u001b[0m \u001b[0;36m1\u001b[0m\u001b[0;34m,\u001b[0m \u001b[0;36m3\u001b[0m\u001b[0;34m)\u001b[0m\u001b[0;34m\u001b[0m\u001b[0;34m\u001b[0m\u001b[0m\n\u001b[0;32m--> 243\u001b[0;31m     \u001b[0mself\u001b[0m\u001b[0;34m.\u001b[0m\u001b[0mpaged_attention_V\u001b[0m\u001b[0;34m[\u001b[0m\u001b[0mseq_len\u001b[0m\u001b[0;34m]\u001b[0m \u001b[0;34m=\u001b[0m \u001b[0mVn\u001b[0m\u001b[0;34m.\u001b[0m\u001b[0mpermute\u001b[0m\u001b[0;34m(\u001b[0m\u001b[0;36m2\u001b[0m\u001b[0;34m,\u001b[0m \u001b[0;36m0\u001b[0m\u001b[0;34m,\u001b[0m \u001b[0;36m1\u001b[0m\u001b[0;34m,\u001b[0m \u001b[0;36m3\u001b[0m\u001b[0;34m)\u001b[0m\u001b[0;34m\u001b[0m\u001b[0;34m\u001b[0m\u001b[0m\n\u001b[0m\u001b[1;32m    244\u001b[0m     \u001b[0mKn\u001b[0m \u001b[0;34m=\u001b[0m \u001b[0mself\u001b[0m\u001b[0;34m.\u001b[0m\u001b[0mpaged_attention_K\u001b[0m\u001b[0;34m[\u001b[0m\u001b[0;34m:\u001b[0m\u001b[0mkv_seq_len\u001b[0m\u001b[0;34m]\u001b[0m\u001b[0;34m.\u001b[0m\u001b[0mpermute\u001b[0m\u001b[0;34m(\u001b[0m\u001b[0;36m1\u001b[0m\u001b[0;34m,\u001b[0m \u001b[0;36m2\u001b[0m\u001b[0;34m,\u001b[0m \u001b[0;36m0\u001b[0m\u001b[0;34m,\u001b[0m \u001b[0;36m3\u001b[0m\u001b[0;34m)\u001b[0m\u001b[0;34m\u001b[0m\u001b[0;34m\u001b[0m\u001b[0m\n\u001b[1;32m    245\u001b[0m     \u001b[0mVn\u001b[0m \u001b[0;34m=\u001b[0m \u001b[0mself\u001b[0m\u001b[0;34m.\u001b[0m\u001b[0mpaged_attention_V\u001b[0m\u001b[0;34m[\u001b[0m\u001b[0;34m:\u001b[0m\u001b[0mkv_seq_len\u001b[0m\u001b[0;34m]\u001b[0m\u001b[0;34m.\u001b[0m\u001b[0mpermute\u001b[0m\u001b[0;34m(\u001b[0m\u001b[0;36m1\u001b[0m\u001b[0;34m,\u001b[0m \u001b[0;36m2\u001b[0m\u001b[0;34m,\u001b[0m \u001b[0;36m0\u001b[0m\u001b[0;34m,\u001b[0m \u001b[0;36m3\u001b[0m\u001b[0;34m)\u001b[0m\u001b[0;34m\u001b[0m\u001b[0;34m\u001b[0m\u001b[0m\n",
            "\u001b[0;31mKeyboardInterrupt\u001b[0m: "
          ]
        }
      ],
      "source": [
        "FastLanguageModel.for_inference(model) # Enable native 2x faster inference\n",
        "\n",
        "messages = [\n",
        "    {\"role\": \"user\", \"content\": \"purple pyramids spiraling around a bronze cone\"},\n",
        "]\n",
        "inputs = tokenizer.apply_chat_template(\n",
        "    messages,\n",
        "    tokenize = True,\n",
        "    add_generation_prompt = True, # Must add for generation\n",
        "    return_tensors = \"pt\",\n",
        ").to(\"cuda\")\n",
        "\n",
        "from transformers import TextStreamer\n",
        "text_streamer = TextStreamer(tokenizer, skip_prompt = True)\n",
        "_ = model.generate(input_ids = inputs, streamer = text_streamer, max_new_tokens = 5000,\n",
        "                   use_cache = True, temperature = 1.5, min_p = 0.1)"
      ]
    },
    {
      "cell_type": "markdown",
      "metadata": {
        "id": "uMuVrWbjAzhc"
      },
      "source": [
        "<a name=\"Save\"></a>\n",
        "### Saving, loading finetuned models\n",
        "To save the final model as LoRA adapters, either use Huggingface's `push_to_hub` for an online save or `save_pretrained` for a local save.\n",
        "\n",
        "**[NOTE]** This ONLY saves the LoRA adapters, and not the full model. To save to 16bit or GGUF, scroll down!"
      ]
    },
    {
      "cell_type": "code",
      "execution_count": null,
      "metadata": {
        "colab": {
          "base_uri": "https://localhost:8080/"
        },
        "id": "upcOlWe7A1vc",
        "outputId": "2afa639a-6837-444e-93d1-77342150cf25"
      },
      "outputs": [
        {
          "output_type": "execute_result",
          "data": {
            "text/plain": [
              "('lora_model/tokenizer_config.json',\n",
              " 'lora_model/special_tokens_map.json',\n",
              " 'lora_model/vocab.json',\n",
              " 'lora_model/merges.txt',\n",
              " 'lora_model/added_tokens.json',\n",
              " 'lora_model/tokenizer.json')"
            ]
          },
          "metadata": {},
          "execution_count": 35
        }
      ],
      "source": [
        "model.save_pretrained(\"lora_model\")  # Local saving\n",
        "tokenizer.save_pretrained(\"lora_model\")\n",
        "# model.push_to_hub(\"your_name/lora_model\", token = \"...\") # Online saving\n",
        "# tokenizer.push_to_hub(\"your_name/lora_model\", token = \"...\") # Online saving"
      ]
    },
    {
      "cell_type": "markdown",
      "metadata": {
        "id": "AEEcJ4qfC7Lp"
      },
      "source": [
        "Now if you want to load the LoRA adapters we just saved for inference, set `False` to `True`:"
      ]
    },
    {
      "cell_type": "code",
      "execution_count": null,
      "metadata": {
        "colab": {
          "base_uri": "https://localhost:8080/"
        },
        "id": "MKX_XKs_BNZR",
        "outputId": "0caed482-98bc-45ae-ad9b-c19ce5e78ed2"
      },
      "outputs": [
        {
          "output_type": "stream",
          "name": "stdout",
          "text": [
            "<?xml version=\"1.0\" encoding=\"UTF-8\"?>\n",
            "<scene>\n",
            "    <title>Tall Tower in Paris</title>\n",
            "    <description>A majestic tower standing tall in the heart of Paris.</description>\n",
            "    <location>Paris, France</location>\n",
            "    <architecture>\n",
            "        <type>Tower</type>\n",
            "        <height>100 meters</height>\n",
            "        <material>Stone and metal</material>\n",
            "    </architecture>\n",
            "    <environment>\n",
            "        <sky>Clear blue sky</sky>\n",
            "        <weather>Sunny</weather>\n",
            "        <background>Cityscape of Paris</background>\n",
            "    </environment>\n",
            "\n"
          ]
        }
      ],
      "source": [
        "if False:\n",
        "    from unsloth import FastLanguageModel\n",
        "    model, tokenizer = FastLanguageModel.from_pretrained(\n",
        "        model_name = \"lora_model\", # YOUR MODEL YOU USED FOR TRAINING\n",
        "        max_seq_length = max_seq_length,\n",
        "        dtype = dtype,\n",
        "        load_in_4bit = load_in_4bit,\n",
        "    )\n",
        "    FastLanguageModel.for_inference(model) # Enable native 2x faster inference\n",
        "\n",
        "messages = [\n",
        "    {\"role\": \"user\", \"content\": \"Describe a tall tower in the capital of France.\"},\n",
        "]\n",
        "inputs = tokenizer.apply_chat_template(\n",
        "    messages,\n",
        "    tokenize = True,\n",
        "    add_generation_prompt = True, # Must add for generation\n",
        "    return_tensors = \"pt\",\n",
        ").to(\"cuda\")\n",
        "\n",
        "from transformers import TextStreamer\n",
        "text_streamer = TextStreamer(tokenizer, skip_prompt = True)\n",
        "_ = model.generate(input_ids = inputs, streamer = text_streamer, max_new_tokens = 128,\n",
        "                   use_cache = True, temperature = 1.5, min_p = 0.1)"
      ]
    },
    {
      "cell_type": "markdown",
      "metadata": {
        "id": "QQMjaNrjsU5_"
      },
      "source": [
        "You can also use Hugging Face's `AutoModelForPeftCausalLM`. Only use this if you do not have `unsloth` installed. It can be hopelessly slow, since `4bit` model downloading is not supported, and Unsloth's **inference is 2x faster**."
      ]
    },
    {
      "cell_type": "code",
      "execution_count": null,
      "metadata": {
        "id": "yFfaXG0WsQuE"
      },
      "outputs": [],
      "source": [
        "if False:\n",
        "    # I highly do NOT suggest - use Unsloth if possible\n",
        "    from peft import AutoPeftModelForCausalLM\n",
        "    from transformers import AutoTokenizer\n",
        "\n",
        "    model = AutoPeftModelForCausalLM.from_pretrained(\n",
        "        \"lora_model\",  # YOUR MODEL YOU USED FOR TRAINING\n",
        "        load_in_4bit=load_in_4bit,\n",
        "    )\n",
        "    tokenizer = AutoTokenizer.from_pretrained(\"lora_model\")"
      ]
    },
    {
      "cell_type": "markdown",
      "metadata": {
        "id": "f422JgM9sdVT"
      },
      "source": [
        "### Saving to float16 for VLLM\n",
        "\n",
        "We also support saving to `float16` directly. Select `merged_16bit` for float16 or `merged_4bit` for int4. We also allow `lora` adapters as a fallback. Use `push_to_hub_merged` to upload to your Hugging Face account! You can go to https://huggingface.co/settings/tokens for your personal tokens."
      ]
    },
    {
      "cell_type": "code",
      "execution_count": null,
      "metadata": {
        "id": "iHjt_SMYsd3P"
      },
      "outputs": [],
      "source": [
        "# Merge to 16bit\n",
        "if False: model.save_pretrained_merged(\"model\", tokenizer, save_method = \"merged_16bit\",)\n",
        "if False: model.push_to_hub_merged(\"hf/model\", tokenizer, save_method = \"merged_16bit\", token = \"\")\n",
        "\n",
        "# Merge to 4bit\n",
        "if False: model.save_pretrained_merged(\"model\", tokenizer, save_method = \"merged_4bit\",)\n",
        "if False: model.push_to_hub_merged(\"hf/model\", tokenizer, save_method = \"merged_4bit\", token = \"\")\n",
        "\n",
        "# Just LoRA adapters\n",
        "if False: model.save_pretrained_merged(\"model\", tokenizer, save_method = \"lora\",)\n",
        "if False: model.push_to_hub_merged(\"hf/model\", tokenizer, save_method = \"lora\", token = \"\")"
      ]
    },
    {
      "cell_type": "markdown",
      "metadata": {
        "id": "TCv4vXHd61i7"
      },
      "source": [
        "### GGUF / llama.cpp Conversion\n",
        "To save to `GGUF` / `llama.cpp`, we support it natively now! We clone `llama.cpp` and we default save it to `q8_0`. We allow all methods like `q4_k_m`. Use `save_pretrained_gguf` for local saving and `push_to_hub_gguf` for uploading to HF.\n",
        "\n",
        "Some supported quant methods (full list on our [Wiki page](https://github.com/unslothai/unsloth/wiki#gguf-quantization-options)):\n",
        "* `q8_0` - Fast conversion. High resource use, but generally acceptable.\n",
        "* `q4_k_m` - Recommended. Uses Q6_K for half of the attention.wv and feed_forward.w2 tensors, else Q4_K.\n",
        "* `q5_k_m` - Recommended. Uses Q6_K for half of the attention.wv and feed_forward.w2 tensors, else Q5_K.\n",
        "\n",
        "[**NEW**] To finetune and auto export to Ollama, try our [Ollama notebook](https://colab.research.google.com/github/unslothai/notebooks/blob/main/nb/Llama3_(8B)-Ollama.ipynb)"
      ]
    }
  ],
  "metadata": {
    "accelerator": "GPU",
    "colab": {
      "gpuType": "T4",
      "provenance": [],
      "include_colab_link": true
    },
    "kernelspec": {
      "display_name": "Python 3",
      "name": "python3"
    },
    "language_info": {
      "name": "python"
    },
    "widgets": {
      "application/vnd.jupyter.widget-state+json": {
        "aa9226f7912943a4bb0385a37c671a31": {
          "model_module": "@jupyter-widgets/controls",
          "model_name": "HBoxModel",
          "model_module_version": "1.5.0",
          "state": {
            "_dom_classes": [],
            "_model_module": "@jupyter-widgets/controls",
            "_model_module_version": "1.5.0",
            "_model_name": "HBoxModel",
            "_view_count": null,
            "_view_module": "@jupyter-widgets/controls",
            "_view_module_version": "1.5.0",
            "_view_name": "HBoxView",
            "box_style": "",
            "children": [
              "IPY_MODEL_1ec354cfa07346558892ff4cc906f951",
              "IPY_MODEL_ed9367dfb1224abf948bd7a942643ca5",
              "IPY_MODEL_264f620554b64204a83728090562e76d"
            ],
            "layout": "IPY_MODEL_e038a61b8ec1407a8d8e70eae611c709"
          }
        },
        "1ec354cfa07346558892ff4cc906f951": {
          "model_module": "@jupyter-widgets/controls",
          "model_name": "HTMLModel",
          "model_module_version": "1.5.0",
          "state": {
            "_dom_classes": [],
            "_model_module": "@jupyter-widgets/controls",
            "_model_module_version": "1.5.0",
            "_model_name": "HTMLModel",
            "_view_count": null,
            "_view_module": "@jupyter-widgets/controls",
            "_view_module_version": "1.5.0",
            "_view_name": "HTMLView",
            "description": "",
            "description_tooltip": null,
            "layout": "IPY_MODEL_115e33552205492fa9a93943078899cf",
            "placeholder": "​",
            "style": "IPY_MODEL_22fcd6f832444de7a24eed0ea12d78ad",
            "value": "README.md: 100%"
          }
        },
        "ed9367dfb1224abf948bd7a942643ca5": {
          "model_module": "@jupyter-widgets/controls",
          "model_name": "FloatProgressModel",
          "model_module_version": "1.5.0",
          "state": {
            "_dom_classes": [],
            "_model_module": "@jupyter-widgets/controls",
            "_model_module_version": "1.5.0",
            "_model_name": "FloatProgressModel",
            "_view_count": null,
            "_view_module": "@jupyter-widgets/controls",
            "_view_module_version": "1.5.0",
            "_view_name": "ProgressView",
            "bar_style": "success",
            "description": "",
            "description_tooltip": null,
            "layout": "IPY_MODEL_0c12b3472ba345d286ad79fd008ad7c2",
            "max": 333,
            "min": 0,
            "orientation": "horizontal",
            "style": "IPY_MODEL_88633ffc1f1247c48dac1420f08afe86",
            "value": 333
          }
        },
        "264f620554b64204a83728090562e76d": {
          "model_module": "@jupyter-widgets/controls",
          "model_name": "HTMLModel",
          "model_module_version": "1.5.0",
          "state": {
            "_dom_classes": [],
            "_model_module": "@jupyter-widgets/controls",
            "_model_module_version": "1.5.0",
            "_model_name": "HTMLModel",
            "_view_count": null,
            "_view_module": "@jupyter-widgets/controls",
            "_view_module_version": "1.5.0",
            "_view_name": "HTMLView",
            "description": "",
            "description_tooltip": null,
            "layout": "IPY_MODEL_bf39ec5b0c304b38b06491398515557f",
            "placeholder": "​",
            "style": "IPY_MODEL_c710cfdecc594ab4830de36f23d42997",
            "value": " 333/333 [00:00&lt;00:00, 34.7kB/s]"
          }
        },
        "e038a61b8ec1407a8d8e70eae611c709": {
          "model_module": "@jupyter-widgets/base",
          "model_name": "LayoutModel",
          "model_module_version": "1.2.0",
          "state": {
            "_model_module": "@jupyter-widgets/base",
            "_model_module_version": "1.2.0",
            "_model_name": "LayoutModel",
            "_view_count": null,
            "_view_module": "@jupyter-widgets/base",
            "_view_module_version": "1.2.0",
            "_view_name": "LayoutView",
            "align_content": null,
            "align_items": null,
            "align_self": null,
            "border": null,
            "bottom": null,
            "display": null,
            "flex": null,
            "flex_flow": null,
            "grid_area": null,
            "grid_auto_columns": null,
            "grid_auto_flow": null,
            "grid_auto_rows": null,
            "grid_column": null,
            "grid_gap": null,
            "grid_row": null,
            "grid_template_areas": null,
            "grid_template_columns": null,
            "grid_template_rows": null,
            "height": null,
            "justify_content": null,
            "justify_items": null,
            "left": null,
            "margin": null,
            "max_height": null,
            "max_width": null,
            "min_height": null,
            "min_width": null,
            "object_fit": null,
            "object_position": null,
            "order": null,
            "overflow": null,
            "overflow_x": null,
            "overflow_y": null,
            "padding": null,
            "right": null,
            "top": null,
            "visibility": null,
            "width": null
          }
        },
        "115e33552205492fa9a93943078899cf": {
          "model_module": "@jupyter-widgets/base",
          "model_name": "LayoutModel",
          "model_module_version": "1.2.0",
          "state": {
            "_model_module": "@jupyter-widgets/base",
            "_model_module_version": "1.2.0",
            "_model_name": "LayoutModel",
            "_view_count": null,
            "_view_module": "@jupyter-widgets/base",
            "_view_module_version": "1.2.0",
            "_view_name": "LayoutView",
            "align_content": null,
            "align_items": null,
            "align_self": null,
            "border": null,
            "bottom": null,
            "display": null,
            "flex": null,
            "flex_flow": null,
            "grid_area": null,
            "grid_auto_columns": null,
            "grid_auto_flow": null,
            "grid_auto_rows": null,
            "grid_column": null,
            "grid_gap": null,
            "grid_row": null,
            "grid_template_areas": null,
            "grid_template_columns": null,
            "grid_template_rows": null,
            "height": null,
            "justify_content": null,
            "justify_items": null,
            "left": null,
            "margin": null,
            "max_height": null,
            "max_width": null,
            "min_height": null,
            "min_width": null,
            "object_fit": null,
            "object_position": null,
            "order": null,
            "overflow": null,
            "overflow_x": null,
            "overflow_y": null,
            "padding": null,
            "right": null,
            "top": null,
            "visibility": null,
            "width": null
          }
        },
        "22fcd6f832444de7a24eed0ea12d78ad": {
          "model_module": "@jupyter-widgets/controls",
          "model_name": "DescriptionStyleModel",
          "model_module_version": "1.5.0",
          "state": {
            "_model_module": "@jupyter-widgets/controls",
            "_model_module_version": "1.5.0",
            "_model_name": "DescriptionStyleModel",
            "_view_count": null,
            "_view_module": "@jupyter-widgets/base",
            "_view_module_version": "1.2.0",
            "_view_name": "StyleView",
            "description_width": ""
          }
        },
        "0c12b3472ba345d286ad79fd008ad7c2": {
          "model_module": "@jupyter-widgets/base",
          "model_name": "LayoutModel",
          "model_module_version": "1.2.0",
          "state": {
            "_model_module": "@jupyter-widgets/base",
            "_model_module_version": "1.2.0",
            "_model_name": "LayoutModel",
            "_view_count": null,
            "_view_module": "@jupyter-widgets/base",
            "_view_module_version": "1.2.0",
            "_view_name": "LayoutView",
            "align_content": null,
            "align_items": null,
            "align_self": null,
            "border": null,
            "bottom": null,
            "display": null,
            "flex": null,
            "flex_flow": null,
            "grid_area": null,
            "grid_auto_columns": null,
            "grid_auto_flow": null,
            "grid_auto_rows": null,
            "grid_column": null,
            "grid_gap": null,
            "grid_row": null,
            "grid_template_areas": null,
            "grid_template_columns": null,
            "grid_template_rows": null,
            "height": null,
            "justify_content": null,
            "justify_items": null,
            "left": null,
            "margin": null,
            "max_height": null,
            "max_width": null,
            "min_height": null,
            "min_width": null,
            "object_fit": null,
            "object_position": null,
            "order": null,
            "overflow": null,
            "overflow_x": null,
            "overflow_y": null,
            "padding": null,
            "right": null,
            "top": null,
            "visibility": null,
            "width": null
          }
        },
        "88633ffc1f1247c48dac1420f08afe86": {
          "model_module": "@jupyter-widgets/controls",
          "model_name": "ProgressStyleModel",
          "model_module_version": "1.5.0",
          "state": {
            "_model_module": "@jupyter-widgets/controls",
            "_model_module_version": "1.5.0",
            "_model_name": "ProgressStyleModel",
            "_view_count": null,
            "_view_module": "@jupyter-widgets/base",
            "_view_module_version": "1.2.0",
            "_view_name": "StyleView",
            "bar_color": null,
            "description_width": ""
          }
        },
        "bf39ec5b0c304b38b06491398515557f": {
          "model_module": "@jupyter-widgets/base",
          "model_name": "LayoutModel",
          "model_module_version": "1.2.0",
          "state": {
            "_model_module": "@jupyter-widgets/base",
            "_model_module_version": "1.2.0",
            "_model_name": "LayoutModel",
            "_view_count": null,
            "_view_module": "@jupyter-widgets/base",
            "_view_module_version": "1.2.0",
            "_view_name": "LayoutView",
            "align_content": null,
            "align_items": null,
            "align_self": null,
            "border": null,
            "bottom": null,
            "display": null,
            "flex": null,
            "flex_flow": null,
            "grid_area": null,
            "grid_auto_columns": null,
            "grid_auto_flow": null,
            "grid_auto_rows": null,
            "grid_column": null,
            "grid_gap": null,
            "grid_row": null,
            "grid_template_areas": null,
            "grid_template_columns": null,
            "grid_template_rows": null,
            "height": null,
            "justify_content": null,
            "justify_items": null,
            "left": null,
            "margin": null,
            "max_height": null,
            "max_width": null,
            "min_height": null,
            "min_width": null,
            "object_fit": null,
            "object_position": null,
            "order": null,
            "overflow": null,
            "overflow_x": null,
            "overflow_y": null,
            "padding": null,
            "right": null,
            "top": null,
            "visibility": null,
            "width": null
          }
        },
        "c710cfdecc594ab4830de36f23d42997": {
          "model_module": "@jupyter-widgets/controls",
          "model_name": "DescriptionStyleModel",
          "model_module_version": "1.5.0",
          "state": {
            "_model_module": "@jupyter-widgets/controls",
            "_model_module_version": "1.5.0",
            "_model_name": "DescriptionStyleModel",
            "_view_count": null,
            "_view_module": "@jupyter-widgets/base",
            "_view_module_version": "1.2.0",
            "_view_name": "StyleView",
            "description_width": ""
          }
        },
        "0d16bede660e4ec5b4b1bcfbdaab0e13": {
          "model_module": "@jupyter-widgets/controls",
          "model_name": "HBoxModel",
          "model_module_version": "1.5.0",
          "state": {
            "_dom_classes": [],
            "_model_module": "@jupyter-widgets/controls",
            "_model_module_version": "1.5.0",
            "_model_name": "HBoxModel",
            "_view_count": null,
            "_view_module": "@jupyter-widgets/controls",
            "_view_module_version": "1.5.0",
            "_view_name": "HBoxView",
            "box_style": "",
            "children": [
              "IPY_MODEL_2781e7bdb06847fe938ab853c1e6ae64",
              "IPY_MODEL_d6d05d172aaf406ca6032a5d5fd0cd7d",
              "IPY_MODEL_8d10822c3f914a39a17f8b5f033fe50a"
            ],
            "layout": "IPY_MODEL_f6e431624291482db7b5cd137174ee0b"
          }
        },
        "2781e7bdb06847fe938ab853c1e6ae64": {
          "model_module": "@jupyter-widgets/controls",
          "model_name": "HTMLModel",
          "model_module_version": "1.5.0",
          "state": {
            "_dom_classes": [],
            "_model_module": "@jupyter-widgets/controls",
            "_model_module_version": "1.5.0",
            "_model_name": "HTMLModel",
            "_view_count": null,
            "_view_module": "@jupyter-widgets/controls",
            "_view_module_version": "1.5.0",
            "_view_name": "HTMLView",
            "description": "",
            "description_tooltip": null,
            "layout": "IPY_MODEL_db00f53c83214c9a995ab40e74cbb8a7",
            "placeholder": "​",
            "style": "IPY_MODEL_c0a4e1244b82472e850b34e427904138",
            "value": "train-00000-of-00001.parquet: 100%"
          }
        },
        "d6d05d172aaf406ca6032a5d5fd0cd7d": {
          "model_module": "@jupyter-widgets/controls",
          "model_name": "FloatProgressModel",
          "model_module_version": "1.5.0",
          "state": {
            "_dom_classes": [],
            "_model_module": "@jupyter-widgets/controls",
            "_model_module_version": "1.5.0",
            "_model_name": "FloatProgressModel",
            "_view_count": null,
            "_view_module": "@jupyter-widgets/controls",
            "_view_module_version": "1.5.0",
            "_view_name": "ProgressView",
            "bar_style": "success",
            "description": "",
            "description_tooltip": null,
            "layout": "IPY_MODEL_70365e9fea55470a9c1bf25ee5f6197b",
            "max": 25521,
            "min": 0,
            "orientation": "horizontal",
            "style": "IPY_MODEL_d1dddb2ca32f466daf2fbafd08954f17",
            "value": 25521
          }
        },
        "8d10822c3f914a39a17f8b5f033fe50a": {
          "model_module": "@jupyter-widgets/controls",
          "model_name": "HTMLModel",
          "model_module_version": "1.5.0",
          "state": {
            "_dom_classes": [],
            "_model_module": "@jupyter-widgets/controls",
            "_model_module_version": "1.5.0",
            "_model_name": "HTMLModel",
            "_view_count": null,
            "_view_module": "@jupyter-widgets/controls",
            "_view_module_version": "1.5.0",
            "_view_name": "HTMLView",
            "description": "",
            "description_tooltip": null,
            "layout": "IPY_MODEL_d544b9602fc24aaf9e0234dad0da4246",
            "placeholder": "​",
            "style": "IPY_MODEL_35428e461c834a3d974e3b45b5f1f6f4",
            "value": " 25.5k/25.5k [00:00&lt;00:00, 1.34MB/s]"
          }
        },
        "f6e431624291482db7b5cd137174ee0b": {
          "model_module": "@jupyter-widgets/base",
          "model_name": "LayoutModel",
          "model_module_version": "1.2.0",
          "state": {
            "_model_module": "@jupyter-widgets/base",
            "_model_module_version": "1.2.0",
            "_model_name": "LayoutModel",
            "_view_count": null,
            "_view_module": "@jupyter-widgets/base",
            "_view_module_version": "1.2.0",
            "_view_name": "LayoutView",
            "align_content": null,
            "align_items": null,
            "align_self": null,
            "border": null,
            "bottom": null,
            "display": null,
            "flex": null,
            "flex_flow": null,
            "grid_area": null,
            "grid_auto_columns": null,
            "grid_auto_flow": null,
            "grid_auto_rows": null,
            "grid_column": null,
            "grid_gap": null,
            "grid_row": null,
            "grid_template_areas": null,
            "grid_template_columns": null,
            "grid_template_rows": null,
            "height": null,
            "justify_content": null,
            "justify_items": null,
            "left": null,
            "margin": null,
            "max_height": null,
            "max_width": null,
            "min_height": null,
            "min_width": null,
            "object_fit": null,
            "object_position": null,
            "order": null,
            "overflow": null,
            "overflow_x": null,
            "overflow_y": null,
            "padding": null,
            "right": null,
            "top": null,
            "visibility": null,
            "width": null
          }
        },
        "db00f53c83214c9a995ab40e74cbb8a7": {
          "model_module": "@jupyter-widgets/base",
          "model_name": "LayoutModel",
          "model_module_version": "1.2.0",
          "state": {
            "_model_module": "@jupyter-widgets/base",
            "_model_module_version": "1.2.0",
            "_model_name": "LayoutModel",
            "_view_count": null,
            "_view_module": "@jupyter-widgets/base",
            "_view_module_version": "1.2.0",
            "_view_name": "LayoutView",
            "align_content": null,
            "align_items": null,
            "align_self": null,
            "border": null,
            "bottom": null,
            "display": null,
            "flex": null,
            "flex_flow": null,
            "grid_area": null,
            "grid_auto_columns": null,
            "grid_auto_flow": null,
            "grid_auto_rows": null,
            "grid_column": null,
            "grid_gap": null,
            "grid_row": null,
            "grid_template_areas": null,
            "grid_template_columns": null,
            "grid_template_rows": null,
            "height": null,
            "justify_content": null,
            "justify_items": null,
            "left": null,
            "margin": null,
            "max_height": null,
            "max_width": null,
            "min_height": null,
            "min_width": null,
            "object_fit": null,
            "object_position": null,
            "order": null,
            "overflow": null,
            "overflow_x": null,
            "overflow_y": null,
            "padding": null,
            "right": null,
            "top": null,
            "visibility": null,
            "width": null
          }
        },
        "c0a4e1244b82472e850b34e427904138": {
          "model_module": "@jupyter-widgets/controls",
          "model_name": "DescriptionStyleModel",
          "model_module_version": "1.5.0",
          "state": {
            "_model_module": "@jupyter-widgets/controls",
            "_model_module_version": "1.5.0",
            "_model_name": "DescriptionStyleModel",
            "_view_count": null,
            "_view_module": "@jupyter-widgets/base",
            "_view_module_version": "1.2.0",
            "_view_name": "StyleView",
            "description_width": ""
          }
        },
        "70365e9fea55470a9c1bf25ee5f6197b": {
          "model_module": "@jupyter-widgets/base",
          "model_name": "LayoutModel",
          "model_module_version": "1.2.0",
          "state": {
            "_model_module": "@jupyter-widgets/base",
            "_model_module_version": "1.2.0",
            "_model_name": "LayoutModel",
            "_view_count": null,
            "_view_module": "@jupyter-widgets/base",
            "_view_module_version": "1.2.0",
            "_view_name": "LayoutView",
            "align_content": null,
            "align_items": null,
            "align_self": null,
            "border": null,
            "bottom": null,
            "display": null,
            "flex": null,
            "flex_flow": null,
            "grid_area": null,
            "grid_auto_columns": null,
            "grid_auto_flow": null,
            "grid_auto_rows": null,
            "grid_column": null,
            "grid_gap": null,
            "grid_row": null,
            "grid_template_areas": null,
            "grid_template_columns": null,
            "grid_template_rows": null,
            "height": null,
            "justify_content": null,
            "justify_items": null,
            "left": null,
            "margin": null,
            "max_height": null,
            "max_width": null,
            "min_height": null,
            "min_width": null,
            "object_fit": null,
            "object_position": null,
            "order": null,
            "overflow": null,
            "overflow_x": null,
            "overflow_y": null,
            "padding": null,
            "right": null,
            "top": null,
            "visibility": null,
            "width": null
          }
        },
        "d1dddb2ca32f466daf2fbafd08954f17": {
          "model_module": "@jupyter-widgets/controls",
          "model_name": "ProgressStyleModel",
          "model_module_version": "1.5.0",
          "state": {
            "_model_module": "@jupyter-widgets/controls",
            "_model_module_version": "1.5.0",
            "_model_name": "ProgressStyleModel",
            "_view_count": null,
            "_view_module": "@jupyter-widgets/base",
            "_view_module_version": "1.2.0",
            "_view_name": "StyleView",
            "bar_color": null,
            "description_width": ""
          }
        },
        "d544b9602fc24aaf9e0234dad0da4246": {
          "model_module": "@jupyter-widgets/base",
          "model_name": "LayoutModel",
          "model_module_version": "1.2.0",
          "state": {
            "_model_module": "@jupyter-widgets/base",
            "_model_module_version": "1.2.0",
            "_model_name": "LayoutModel",
            "_view_count": null,
            "_view_module": "@jupyter-widgets/base",
            "_view_module_version": "1.2.0",
            "_view_name": "LayoutView",
            "align_content": null,
            "align_items": null,
            "align_self": null,
            "border": null,
            "bottom": null,
            "display": null,
            "flex": null,
            "flex_flow": null,
            "grid_area": null,
            "grid_auto_columns": null,
            "grid_auto_flow": null,
            "grid_auto_rows": null,
            "grid_column": null,
            "grid_gap": null,
            "grid_row": null,
            "grid_template_areas": null,
            "grid_template_columns": null,
            "grid_template_rows": null,
            "height": null,
            "justify_content": null,
            "justify_items": null,
            "left": null,
            "margin": null,
            "max_height": null,
            "max_width": null,
            "min_height": null,
            "min_width": null,
            "object_fit": null,
            "object_position": null,
            "order": null,
            "overflow": null,
            "overflow_x": null,
            "overflow_y": null,
            "padding": null,
            "right": null,
            "top": null,
            "visibility": null,
            "width": null
          }
        },
        "35428e461c834a3d974e3b45b5f1f6f4": {
          "model_module": "@jupyter-widgets/controls",
          "model_name": "DescriptionStyleModel",
          "model_module_version": "1.5.0",
          "state": {
            "_model_module": "@jupyter-widgets/controls",
            "_model_module_version": "1.5.0",
            "_model_name": "DescriptionStyleModel",
            "_view_count": null,
            "_view_module": "@jupyter-widgets/base",
            "_view_module_version": "1.2.0",
            "_view_name": "StyleView",
            "description_width": ""
          }
        },
        "6434f57060dc4363b3f7e7c3d1d79cc0": {
          "model_module": "@jupyter-widgets/controls",
          "model_name": "HBoxModel",
          "model_module_version": "1.5.0",
          "state": {
            "_dom_classes": [],
            "_model_module": "@jupyter-widgets/controls",
            "_model_module_version": "1.5.0",
            "_model_name": "HBoxModel",
            "_view_count": null,
            "_view_module": "@jupyter-widgets/controls",
            "_view_module_version": "1.5.0",
            "_view_name": "HBoxView",
            "box_style": "",
            "children": [
              "IPY_MODEL_6b15ab4560af4376855a1ec557cf7ab4",
              "IPY_MODEL_198e75bec7c340e0aa9521e720a97c1f",
              "IPY_MODEL_f4c9396d8fb94ccb81a8f5d4fa5ad0b0"
            ],
            "layout": "IPY_MODEL_785a7b1e1ed3483a9f4341c0d6ea51e8"
          }
        },
        "6b15ab4560af4376855a1ec557cf7ab4": {
          "model_module": "@jupyter-widgets/controls",
          "model_name": "HTMLModel",
          "model_module_version": "1.5.0",
          "state": {
            "_dom_classes": [],
            "_model_module": "@jupyter-widgets/controls",
            "_model_module_version": "1.5.0",
            "_model_name": "HTMLModel",
            "_view_count": null,
            "_view_module": "@jupyter-widgets/controls",
            "_view_module_version": "1.5.0",
            "_view_name": "HTMLView",
            "description": "",
            "description_tooltip": null,
            "layout": "IPY_MODEL_5f318fb20ee94527a6aa467bb1692955",
            "placeholder": "​",
            "style": "IPY_MODEL_b01afa3d59d94ad48f7bdd7d445c27fa",
            "value": "Generating train split: 100%"
          }
        },
        "198e75bec7c340e0aa9521e720a97c1f": {
          "model_module": "@jupyter-widgets/controls",
          "model_name": "FloatProgressModel",
          "model_module_version": "1.5.0",
          "state": {
            "_dom_classes": [],
            "_model_module": "@jupyter-widgets/controls",
            "_model_module_version": "1.5.0",
            "_model_name": "FloatProgressModel",
            "_view_count": null,
            "_view_module": "@jupyter-widgets/controls",
            "_view_module_version": "1.5.0",
            "_view_name": "ProgressView",
            "bar_style": "success",
            "description": "",
            "description_tooltip": null,
            "layout": "IPY_MODEL_7dcd5739fcc642f580c0a6191d496403",
            "max": 20,
            "min": 0,
            "orientation": "horizontal",
            "style": "IPY_MODEL_d9113308b0fe4f219f11ac5aef0b2f02",
            "value": 20
          }
        },
        "f4c9396d8fb94ccb81a8f5d4fa5ad0b0": {
          "model_module": "@jupyter-widgets/controls",
          "model_name": "HTMLModel",
          "model_module_version": "1.5.0",
          "state": {
            "_dom_classes": [],
            "_model_module": "@jupyter-widgets/controls",
            "_model_module_version": "1.5.0",
            "_model_name": "HTMLModel",
            "_view_count": null,
            "_view_module": "@jupyter-widgets/controls",
            "_view_module_version": "1.5.0",
            "_view_name": "HTMLView",
            "description": "",
            "description_tooltip": null,
            "layout": "IPY_MODEL_a385a5cd0e744ff688bd6e73514dfde8",
            "placeholder": "​",
            "style": "IPY_MODEL_412375bd32a743e3a38c109f6c72a7e8",
            "value": " 20/20 [00:00&lt;00:00, 136.51 examples/s]"
          }
        },
        "785a7b1e1ed3483a9f4341c0d6ea51e8": {
          "model_module": "@jupyter-widgets/base",
          "model_name": "LayoutModel",
          "model_module_version": "1.2.0",
          "state": {
            "_model_module": "@jupyter-widgets/base",
            "_model_module_version": "1.2.0",
            "_model_name": "LayoutModel",
            "_view_count": null,
            "_view_module": "@jupyter-widgets/base",
            "_view_module_version": "1.2.0",
            "_view_name": "LayoutView",
            "align_content": null,
            "align_items": null,
            "align_self": null,
            "border": null,
            "bottom": null,
            "display": null,
            "flex": null,
            "flex_flow": null,
            "grid_area": null,
            "grid_auto_columns": null,
            "grid_auto_flow": null,
            "grid_auto_rows": null,
            "grid_column": null,
            "grid_gap": null,
            "grid_row": null,
            "grid_template_areas": null,
            "grid_template_columns": null,
            "grid_template_rows": null,
            "height": null,
            "justify_content": null,
            "justify_items": null,
            "left": null,
            "margin": null,
            "max_height": null,
            "max_width": null,
            "min_height": null,
            "min_width": null,
            "object_fit": null,
            "object_position": null,
            "order": null,
            "overflow": null,
            "overflow_x": null,
            "overflow_y": null,
            "padding": null,
            "right": null,
            "top": null,
            "visibility": null,
            "width": null
          }
        },
        "5f318fb20ee94527a6aa467bb1692955": {
          "model_module": "@jupyter-widgets/base",
          "model_name": "LayoutModel",
          "model_module_version": "1.2.0",
          "state": {
            "_model_module": "@jupyter-widgets/base",
            "_model_module_version": "1.2.0",
            "_model_name": "LayoutModel",
            "_view_count": null,
            "_view_module": "@jupyter-widgets/base",
            "_view_module_version": "1.2.0",
            "_view_name": "LayoutView",
            "align_content": null,
            "align_items": null,
            "align_self": null,
            "border": null,
            "bottom": null,
            "display": null,
            "flex": null,
            "flex_flow": null,
            "grid_area": null,
            "grid_auto_columns": null,
            "grid_auto_flow": null,
            "grid_auto_rows": null,
            "grid_column": null,
            "grid_gap": null,
            "grid_row": null,
            "grid_template_areas": null,
            "grid_template_columns": null,
            "grid_template_rows": null,
            "height": null,
            "justify_content": null,
            "justify_items": null,
            "left": null,
            "margin": null,
            "max_height": null,
            "max_width": null,
            "min_height": null,
            "min_width": null,
            "object_fit": null,
            "object_position": null,
            "order": null,
            "overflow": null,
            "overflow_x": null,
            "overflow_y": null,
            "padding": null,
            "right": null,
            "top": null,
            "visibility": null,
            "width": null
          }
        },
        "b01afa3d59d94ad48f7bdd7d445c27fa": {
          "model_module": "@jupyter-widgets/controls",
          "model_name": "DescriptionStyleModel",
          "model_module_version": "1.5.0",
          "state": {
            "_model_module": "@jupyter-widgets/controls",
            "_model_module_version": "1.5.0",
            "_model_name": "DescriptionStyleModel",
            "_view_count": null,
            "_view_module": "@jupyter-widgets/base",
            "_view_module_version": "1.2.0",
            "_view_name": "StyleView",
            "description_width": ""
          }
        },
        "7dcd5739fcc642f580c0a6191d496403": {
          "model_module": "@jupyter-widgets/base",
          "model_name": "LayoutModel",
          "model_module_version": "1.2.0",
          "state": {
            "_model_module": "@jupyter-widgets/base",
            "_model_module_version": "1.2.0",
            "_model_name": "LayoutModel",
            "_view_count": null,
            "_view_module": "@jupyter-widgets/base",
            "_view_module_version": "1.2.0",
            "_view_name": "LayoutView",
            "align_content": null,
            "align_items": null,
            "align_self": null,
            "border": null,
            "bottom": null,
            "display": null,
            "flex": null,
            "flex_flow": null,
            "grid_area": null,
            "grid_auto_columns": null,
            "grid_auto_flow": null,
            "grid_auto_rows": null,
            "grid_column": null,
            "grid_gap": null,
            "grid_row": null,
            "grid_template_areas": null,
            "grid_template_columns": null,
            "grid_template_rows": null,
            "height": null,
            "justify_content": null,
            "justify_items": null,
            "left": null,
            "margin": null,
            "max_height": null,
            "max_width": null,
            "min_height": null,
            "min_width": null,
            "object_fit": null,
            "object_position": null,
            "order": null,
            "overflow": null,
            "overflow_x": null,
            "overflow_y": null,
            "padding": null,
            "right": null,
            "top": null,
            "visibility": null,
            "width": null
          }
        },
        "d9113308b0fe4f219f11ac5aef0b2f02": {
          "model_module": "@jupyter-widgets/controls",
          "model_name": "ProgressStyleModel",
          "model_module_version": "1.5.0",
          "state": {
            "_model_module": "@jupyter-widgets/controls",
            "_model_module_version": "1.5.0",
            "_model_name": "ProgressStyleModel",
            "_view_count": null,
            "_view_module": "@jupyter-widgets/base",
            "_view_module_version": "1.2.0",
            "_view_name": "StyleView",
            "bar_color": null,
            "description_width": ""
          }
        },
        "a385a5cd0e744ff688bd6e73514dfde8": {
          "model_module": "@jupyter-widgets/base",
          "model_name": "LayoutModel",
          "model_module_version": "1.2.0",
          "state": {
            "_model_module": "@jupyter-widgets/base",
            "_model_module_version": "1.2.0",
            "_model_name": "LayoutModel",
            "_view_count": null,
            "_view_module": "@jupyter-widgets/base",
            "_view_module_version": "1.2.0",
            "_view_name": "LayoutView",
            "align_content": null,
            "align_items": null,
            "align_self": null,
            "border": null,
            "bottom": null,
            "display": null,
            "flex": null,
            "flex_flow": null,
            "grid_area": null,
            "grid_auto_columns": null,
            "grid_auto_flow": null,
            "grid_auto_rows": null,
            "grid_column": null,
            "grid_gap": null,
            "grid_row": null,
            "grid_template_areas": null,
            "grid_template_columns": null,
            "grid_template_rows": null,
            "height": null,
            "justify_content": null,
            "justify_items": null,
            "left": null,
            "margin": null,
            "max_height": null,
            "max_width": null,
            "min_height": null,
            "min_width": null,
            "object_fit": null,
            "object_position": null,
            "order": null,
            "overflow": null,
            "overflow_x": null,
            "overflow_y": null,
            "padding": null,
            "right": null,
            "top": null,
            "visibility": null,
            "width": null
          }
        },
        "412375bd32a743e3a38c109f6c72a7e8": {
          "model_module": "@jupyter-widgets/controls",
          "model_name": "DescriptionStyleModel",
          "model_module_version": "1.5.0",
          "state": {
            "_model_module": "@jupyter-widgets/controls",
            "_model_module_version": "1.5.0",
            "_model_name": "DescriptionStyleModel",
            "_view_count": null,
            "_view_module": "@jupyter-widgets/base",
            "_view_module_version": "1.2.0",
            "_view_name": "StyleView",
            "description_width": ""
          }
        },
        "87b779d64fb44475a7af2720c2ad559e": {
          "model_module": "@jupyter-widgets/controls",
          "model_name": "HBoxModel",
          "model_module_version": "1.5.0",
          "state": {
            "_dom_classes": [],
            "_model_module": "@jupyter-widgets/controls",
            "_model_module_version": "1.5.0",
            "_model_name": "HBoxModel",
            "_view_count": null,
            "_view_module": "@jupyter-widgets/controls",
            "_view_module_version": "1.5.0",
            "_view_name": "HBoxView",
            "box_style": "",
            "children": [
              "IPY_MODEL_802a189d6ed24949827ce507430dfa49",
              "IPY_MODEL_1fa42621bdf64d9da5e50ba954415dc3",
              "IPY_MODEL_324bce0e696642eaa3be126259f47ecf"
            ],
            "layout": "IPY_MODEL_e7ff8d50af3549b4b908b8465fc70a11"
          }
        },
        "802a189d6ed24949827ce507430dfa49": {
          "model_module": "@jupyter-widgets/controls",
          "model_name": "HTMLModel",
          "model_module_version": "1.5.0",
          "state": {
            "_dom_classes": [],
            "_model_module": "@jupyter-widgets/controls",
            "_model_module_version": "1.5.0",
            "_model_name": "HTMLModel",
            "_view_count": null,
            "_view_module": "@jupyter-widgets/controls",
            "_view_module_version": "1.5.0",
            "_view_name": "HTMLView",
            "description": "",
            "description_tooltip": null,
            "layout": "IPY_MODEL_e1e4def081a34ba08e5d815e12437f20",
            "placeholder": "​",
            "style": "IPY_MODEL_82ed19f3c3a5454481a1311dd5444d4c",
            "value": "Unsloth: Tokenizing [&quot;text&quot;] (num_proc=4): 100%"
          }
        },
        "1fa42621bdf64d9da5e50ba954415dc3": {
          "model_module": "@jupyter-widgets/controls",
          "model_name": "FloatProgressModel",
          "model_module_version": "1.5.0",
          "state": {
            "_dom_classes": [],
            "_model_module": "@jupyter-widgets/controls",
            "_model_module_version": "1.5.0",
            "_model_name": "FloatProgressModel",
            "_view_count": null,
            "_view_module": "@jupyter-widgets/controls",
            "_view_module_version": "1.5.0",
            "_view_name": "ProgressView",
            "bar_style": "success",
            "description": "",
            "description_tooltip": null,
            "layout": "IPY_MODEL_c83f32dd94fb465080b298f9eb9590c3",
            "max": 20,
            "min": 0,
            "orientation": "horizontal",
            "style": "IPY_MODEL_f1b2dd5ea39a4f9eb2ac6e2e4310f68b",
            "value": 20
          }
        },
        "324bce0e696642eaa3be126259f47ecf": {
          "model_module": "@jupyter-widgets/controls",
          "model_name": "HTMLModel",
          "model_module_version": "1.5.0",
          "state": {
            "_dom_classes": [],
            "_model_module": "@jupyter-widgets/controls",
            "_model_module_version": "1.5.0",
            "_model_name": "HTMLModel",
            "_view_count": null,
            "_view_module": "@jupyter-widgets/controls",
            "_view_module_version": "1.5.0",
            "_view_name": "HTMLView",
            "description": "",
            "description_tooltip": null,
            "layout": "IPY_MODEL_321e2367932d4559a8d612b53b871117",
            "placeholder": "​",
            "style": "IPY_MODEL_679dddd83ca74188a717bad1a7c5add2",
            "value": " 20/20 [00:02&lt;00:00, 11.60 examples/s]"
          }
        },
        "e7ff8d50af3549b4b908b8465fc70a11": {
          "model_module": "@jupyter-widgets/base",
          "model_name": "LayoutModel",
          "model_module_version": "1.2.0",
          "state": {
            "_model_module": "@jupyter-widgets/base",
            "_model_module_version": "1.2.0",
            "_model_name": "LayoutModel",
            "_view_count": null,
            "_view_module": "@jupyter-widgets/base",
            "_view_module_version": "1.2.0",
            "_view_name": "LayoutView",
            "align_content": null,
            "align_items": null,
            "align_self": null,
            "border": null,
            "bottom": null,
            "display": null,
            "flex": null,
            "flex_flow": null,
            "grid_area": null,
            "grid_auto_columns": null,
            "grid_auto_flow": null,
            "grid_auto_rows": null,
            "grid_column": null,
            "grid_gap": null,
            "grid_row": null,
            "grid_template_areas": null,
            "grid_template_columns": null,
            "grid_template_rows": null,
            "height": null,
            "justify_content": null,
            "justify_items": null,
            "left": null,
            "margin": null,
            "max_height": null,
            "max_width": null,
            "min_height": null,
            "min_width": null,
            "object_fit": null,
            "object_position": null,
            "order": null,
            "overflow": null,
            "overflow_x": null,
            "overflow_y": null,
            "padding": null,
            "right": null,
            "top": null,
            "visibility": null,
            "width": null
          }
        },
        "e1e4def081a34ba08e5d815e12437f20": {
          "model_module": "@jupyter-widgets/base",
          "model_name": "LayoutModel",
          "model_module_version": "1.2.0",
          "state": {
            "_model_module": "@jupyter-widgets/base",
            "_model_module_version": "1.2.0",
            "_model_name": "LayoutModel",
            "_view_count": null,
            "_view_module": "@jupyter-widgets/base",
            "_view_module_version": "1.2.0",
            "_view_name": "LayoutView",
            "align_content": null,
            "align_items": null,
            "align_self": null,
            "border": null,
            "bottom": null,
            "display": null,
            "flex": null,
            "flex_flow": null,
            "grid_area": null,
            "grid_auto_columns": null,
            "grid_auto_flow": null,
            "grid_auto_rows": null,
            "grid_column": null,
            "grid_gap": null,
            "grid_row": null,
            "grid_template_areas": null,
            "grid_template_columns": null,
            "grid_template_rows": null,
            "height": null,
            "justify_content": null,
            "justify_items": null,
            "left": null,
            "margin": null,
            "max_height": null,
            "max_width": null,
            "min_height": null,
            "min_width": null,
            "object_fit": null,
            "object_position": null,
            "order": null,
            "overflow": null,
            "overflow_x": null,
            "overflow_y": null,
            "padding": null,
            "right": null,
            "top": null,
            "visibility": null,
            "width": null
          }
        },
        "82ed19f3c3a5454481a1311dd5444d4c": {
          "model_module": "@jupyter-widgets/controls",
          "model_name": "DescriptionStyleModel",
          "model_module_version": "1.5.0",
          "state": {
            "_model_module": "@jupyter-widgets/controls",
            "_model_module_version": "1.5.0",
            "_model_name": "DescriptionStyleModel",
            "_view_count": null,
            "_view_module": "@jupyter-widgets/base",
            "_view_module_version": "1.2.0",
            "_view_name": "StyleView",
            "description_width": ""
          }
        },
        "c83f32dd94fb465080b298f9eb9590c3": {
          "model_module": "@jupyter-widgets/base",
          "model_name": "LayoutModel",
          "model_module_version": "1.2.0",
          "state": {
            "_model_module": "@jupyter-widgets/base",
            "_model_module_version": "1.2.0",
            "_model_name": "LayoutModel",
            "_view_count": null,
            "_view_module": "@jupyter-widgets/base",
            "_view_module_version": "1.2.0",
            "_view_name": "LayoutView",
            "align_content": null,
            "align_items": null,
            "align_self": null,
            "border": null,
            "bottom": null,
            "display": null,
            "flex": null,
            "flex_flow": null,
            "grid_area": null,
            "grid_auto_columns": null,
            "grid_auto_flow": null,
            "grid_auto_rows": null,
            "grid_column": null,
            "grid_gap": null,
            "grid_row": null,
            "grid_template_areas": null,
            "grid_template_columns": null,
            "grid_template_rows": null,
            "height": null,
            "justify_content": null,
            "justify_items": null,
            "left": null,
            "margin": null,
            "max_height": null,
            "max_width": null,
            "min_height": null,
            "min_width": null,
            "object_fit": null,
            "object_position": null,
            "order": null,
            "overflow": null,
            "overflow_x": null,
            "overflow_y": null,
            "padding": null,
            "right": null,
            "top": null,
            "visibility": null,
            "width": null
          }
        },
        "f1b2dd5ea39a4f9eb2ac6e2e4310f68b": {
          "model_module": "@jupyter-widgets/controls",
          "model_name": "ProgressStyleModel",
          "model_module_version": "1.5.0",
          "state": {
            "_model_module": "@jupyter-widgets/controls",
            "_model_module_version": "1.5.0",
            "_model_name": "ProgressStyleModel",
            "_view_count": null,
            "_view_module": "@jupyter-widgets/base",
            "_view_module_version": "1.2.0",
            "_view_name": "StyleView",
            "bar_color": null,
            "description_width": ""
          }
        },
        "321e2367932d4559a8d612b53b871117": {
          "model_module": "@jupyter-widgets/base",
          "model_name": "LayoutModel",
          "model_module_version": "1.2.0",
          "state": {
            "_model_module": "@jupyter-widgets/base",
            "_model_module_version": "1.2.0",
            "_model_name": "LayoutModel",
            "_view_count": null,
            "_view_module": "@jupyter-widgets/base",
            "_view_module_version": "1.2.0",
            "_view_name": "LayoutView",
            "align_content": null,
            "align_items": null,
            "align_self": null,
            "border": null,
            "bottom": null,
            "display": null,
            "flex": null,
            "flex_flow": null,
            "grid_area": null,
            "grid_auto_columns": null,
            "grid_auto_flow": null,
            "grid_auto_rows": null,
            "grid_column": null,
            "grid_gap": null,
            "grid_row": null,
            "grid_template_areas": null,
            "grid_template_columns": null,
            "grid_template_rows": null,
            "height": null,
            "justify_content": null,
            "justify_items": null,
            "left": null,
            "margin": null,
            "max_height": null,
            "max_width": null,
            "min_height": null,
            "min_width": null,
            "object_fit": null,
            "object_position": null,
            "order": null,
            "overflow": null,
            "overflow_x": null,
            "overflow_y": null,
            "padding": null,
            "right": null,
            "top": null,
            "visibility": null,
            "width": null
          }
        },
        "679dddd83ca74188a717bad1a7c5add2": {
          "model_module": "@jupyter-widgets/controls",
          "model_name": "DescriptionStyleModel",
          "model_module_version": "1.5.0",
          "state": {
            "_model_module": "@jupyter-widgets/controls",
            "_model_module_version": "1.5.0",
            "_model_name": "DescriptionStyleModel",
            "_view_count": null,
            "_view_module": "@jupyter-widgets/base",
            "_view_module_version": "1.2.0",
            "_view_name": "StyleView",
            "description_width": ""
          }
        },
        "8c3323dfa7214493acb98fd1df48798d": {
          "model_module": "@jupyter-widgets/controls",
          "model_name": "HBoxModel",
          "model_module_version": "1.5.0",
          "state": {
            "_dom_classes": [],
            "_model_module": "@jupyter-widgets/controls",
            "_model_module_version": "1.5.0",
            "_model_name": "HBoxModel",
            "_view_count": null,
            "_view_module": "@jupyter-widgets/controls",
            "_view_module_version": "1.5.0",
            "_view_name": "HBoxView",
            "box_style": "",
            "children": [
              "IPY_MODEL_66468979ca414f728a8f8101871ad06f",
              "IPY_MODEL_bc56c315da54492b8204c328a34ae419",
              "IPY_MODEL_fd579d36692c4db2959e1bd7ac56173f"
            ],
            "layout": "IPY_MODEL_6bbcf6b051f5477c81ffb36b3a720508"
          }
        },
        "66468979ca414f728a8f8101871ad06f": {
          "model_module": "@jupyter-widgets/controls",
          "model_name": "HTMLModel",
          "model_module_version": "1.5.0",
          "state": {
            "_dom_classes": [],
            "_model_module": "@jupyter-widgets/controls",
            "_model_module_version": "1.5.0",
            "_model_name": "HTMLModel",
            "_view_count": null,
            "_view_module": "@jupyter-widgets/controls",
            "_view_module_version": "1.5.0",
            "_view_name": "HTMLView",
            "description": "",
            "description_tooltip": null,
            "layout": "IPY_MODEL_740c54675aea47aaae98a3bf5b992fd9",
            "placeholder": "​",
            "style": "IPY_MODEL_780b538020804ad3959a645c400922cf",
            "value": "Map (num_proc=2): 100%"
          }
        },
        "bc56c315da54492b8204c328a34ae419": {
          "model_module": "@jupyter-widgets/controls",
          "model_name": "FloatProgressModel",
          "model_module_version": "1.5.0",
          "state": {
            "_dom_classes": [],
            "_model_module": "@jupyter-widgets/controls",
            "_model_module_version": "1.5.0",
            "_model_name": "FloatProgressModel",
            "_view_count": null,
            "_view_module": "@jupyter-widgets/controls",
            "_view_module_version": "1.5.0",
            "_view_name": "ProgressView",
            "bar_style": "success",
            "description": "",
            "description_tooltip": null,
            "layout": "IPY_MODEL_63cbea89b1e947518fcfb1da079e6f01",
            "max": 20,
            "min": 0,
            "orientation": "horizontal",
            "style": "IPY_MODEL_51f26a27bbda4dc28259b8f5b80c4ec1",
            "value": 20
          }
        },
        "fd579d36692c4db2959e1bd7ac56173f": {
          "model_module": "@jupyter-widgets/controls",
          "model_name": "HTMLModel",
          "model_module_version": "1.5.0",
          "state": {
            "_dom_classes": [],
            "_model_module": "@jupyter-widgets/controls",
            "_model_module_version": "1.5.0",
            "_model_name": "HTMLModel",
            "_view_count": null,
            "_view_module": "@jupyter-widgets/controls",
            "_view_module_version": "1.5.0",
            "_view_name": "HTMLView",
            "description": "",
            "description_tooltip": null,
            "layout": "IPY_MODEL_313687e63f524188adc9f72fc2090750",
            "placeholder": "​",
            "style": "IPY_MODEL_6555d96f095e42559bde414120b966c1",
            "value": " 20/20 [00:00&lt;00:00, 93.68 examples/s]"
          }
        },
        "6bbcf6b051f5477c81ffb36b3a720508": {
          "model_module": "@jupyter-widgets/base",
          "model_name": "LayoutModel",
          "model_module_version": "1.2.0",
          "state": {
            "_model_module": "@jupyter-widgets/base",
            "_model_module_version": "1.2.0",
            "_model_name": "LayoutModel",
            "_view_count": null,
            "_view_module": "@jupyter-widgets/base",
            "_view_module_version": "1.2.0",
            "_view_name": "LayoutView",
            "align_content": null,
            "align_items": null,
            "align_self": null,
            "border": null,
            "bottom": null,
            "display": null,
            "flex": null,
            "flex_flow": null,
            "grid_area": null,
            "grid_auto_columns": null,
            "grid_auto_flow": null,
            "grid_auto_rows": null,
            "grid_column": null,
            "grid_gap": null,
            "grid_row": null,
            "grid_template_areas": null,
            "grid_template_columns": null,
            "grid_template_rows": null,
            "height": null,
            "justify_content": null,
            "justify_items": null,
            "left": null,
            "margin": null,
            "max_height": null,
            "max_width": null,
            "min_height": null,
            "min_width": null,
            "object_fit": null,
            "object_position": null,
            "order": null,
            "overflow": null,
            "overflow_x": null,
            "overflow_y": null,
            "padding": null,
            "right": null,
            "top": null,
            "visibility": null,
            "width": null
          }
        },
        "740c54675aea47aaae98a3bf5b992fd9": {
          "model_module": "@jupyter-widgets/base",
          "model_name": "LayoutModel",
          "model_module_version": "1.2.0",
          "state": {
            "_model_module": "@jupyter-widgets/base",
            "_model_module_version": "1.2.0",
            "_model_name": "LayoutModel",
            "_view_count": null,
            "_view_module": "@jupyter-widgets/base",
            "_view_module_version": "1.2.0",
            "_view_name": "LayoutView",
            "align_content": null,
            "align_items": null,
            "align_self": null,
            "border": null,
            "bottom": null,
            "display": null,
            "flex": null,
            "flex_flow": null,
            "grid_area": null,
            "grid_auto_columns": null,
            "grid_auto_flow": null,
            "grid_auto_rows": null,
            "grid_column": null,
            "grid_gap": null,
            "grid_row": null,
            "grid_template_areas": null,
            "grid_template_columns": null,
            "grid_template_rows": null,
            "height": null,
            "justify_content": null,
            "justify_items": null,
            "left": null,
            "margin": null,
            "max_height": null,
            "max_width": null,
            "min_height": null,
            "min_width": null,
            "object_fit": null,
            "object_position": null,
            "order": null,
            "overflow": null,
            "overflow_x": null,
            "overflow_y": null,
            "padding": null,
            "right": null,
            "top": null,
            "visibility": null,
            "width": null
          }
        },
        "780b538020804ad3959a645c400922cf": {
          "model_module": "@jupyter-widgets/controls",
          "model_name": "DescriptionStyleModel",
          "model_module_version": "1.5.0",
          "state": {
            "_model_module": "@jupyter-widgets/controls",
            "_model_module_version": "1.5.0",
            "_model_name": "DescriptionStyleModel",
            "_view_count": null,
            "_view_module": "@jupyter-widgets/base",
            "_view_module_version": "1.2.0",
            "_view_name": "StyleView",
            "description_width": ""
          }
        },
        "63cbea89b1e947518fcfb1da079e6f01": {
          "model_module": "@jupyter-widgets/base",
          "model_name": "LayoutModel",
          "model_module_version": "1.2.0",
          "state": {
            "_model_module": "@jupyter-widgets/base",
            "_model_module_version": "1.2.0",
            "_model_name": "LayoutModel",
            "_view_count": null,
            "_view_module": "@jupyter-widgets/base",
            "_view_module_version": "1.2.0",
            "_view_name": "LayoutView",
            "align_content": null,
            "align_items": null,
            "align_self": null,
            "border": null,
            "bottom": null,
            "display": null,
            "flex": null,
            "flex_flow": null,
            "grid_area": null,
            "grid_auto_columns": null,
            "grid_auto_flow": null,
            "grid_auto_rows": null,
            "grid_column": null,
            "grid_gap": null,
            "grid_row": null,
            "grid_template_areas": null,
            "grid_template_columns": null,
            "grid_template_rows": null,
            "height": null,
            "justify_content": null,
            "justify_items": null,
            "left": null,
            "margin": null,
            "max_height": null,
            "max_width": null,
            "min_height": null,
            "min_width": null,
            "object_fit": null,
            "object_position": null,
            "order": null,
            "overflow": null,
            "overflow_x": null,
            "overflow_y": null,
            "padding": null,
            "right": null,
            "top": null,
            "visibility": null,
            "width": null
          }
        },
        "51f26a27bbda4dc28259b8f5b80c4ec1": {
          "model_module": "@jupyter-widgets/controls",
          "model_name": "ProgressStyleModel",
          "model_module_version": "1.5.0",
          "state": {
            "_model_module": "@jupyter-widgets/controls",
            "_model_module_version": "1.5.0",
            "_model_name": "ProgressStyleModel",
            "_view_count": null,
            "_view_module": "@jupyter-widgets/base",
            "_view_module_version": "1.2.0",
            "_view_name": "StyleView",
            "bar_color": null,
            "description_width": ""
          }
        },
        "313687e63f524188adc9f72fc2090750": {
          "model_module": "@jupyter-widgets/base",
          "model_name": "LayoutModel",
          "model_module_version": "1.2.0",
          "state": {
            "_model_module": "@jupyter-widgets/base",
            "_model_module_version": "1.2.0",
            "_model_name": "LayoutModel",
            "_view_count": null,
            "_view_module": "@jupyter-widgets/base",
            "_view_module_version": "1.2.0",
            "_view_name": "LayoutView",
            "align_content": null,
            "align_items": null,
            "align_self": null,
            "border": null,
            "bottom": null,
            "display": null,
            "flex": null,
            "flex_flow": null,
            "grid_area": null,
            "grid_auto_columns": null,
            "grid_auto_flow": null,
            "grid_auto_rows": null,
            "grid_column": null,
            "grid_gap": null,
            "grid_row": null,
            "grid_template_areas": null,
            "grid_template_columns": null,
            "grid_template_rows": null,
            "height": null,
            "justify_content": null,
            "justify_items": null,
            "left": null,
            "margin": null,
            "max_height": null,
            "max_width": null,
            "min_height": null,
            "min_width": null,
            "object_fit": null,
            "object_position": null,
            "order": null,
            "overflow": null,
            "overflow_x": null,
            "overflow_y": null,
            "padding": null,
            "right": null,
            "top": null,
            "visibility": null,
            "width": null
          }
        },
        "6555d96f095e42559bde414120b966c1": {
          "model_module": "@jupyter-widgets/controls",
          "model_name": "DescriptionStyleModel",
          "model_module_version": "1.5.0",
          "state": {
            "_model_module": "@jupyter-widgets/controls",
            "_model_module_version": "1.5.0",
            "_model_name": "DescriptionStyleModel",
            "_view_count": null,
            "_view_module": "@jupyter-widgets/base",
            "_view_module_version": "1.2.0",
            "_view_name": "StyleView",
            "description_width": ""
          }
        }
      }
    }
  },
  "nbformat": 4,
  "nbformat_minor": 0
}